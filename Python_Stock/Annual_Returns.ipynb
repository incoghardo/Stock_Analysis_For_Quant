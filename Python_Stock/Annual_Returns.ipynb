{
 "cells": [
  {
   "cell_type": "markdown",
   "metadata": {},
   "source": [
    "# Annual Returns & Monthly Returns"
   ]
  },
  {
   "cell_type": "code",
   "execution_count": 1,
   "metadata": {
    "inputHidden": false,
    "outputHidden": false
   },
   "outputs": [],
   "source": [
    "import numpy as np\n",
    "import matplotlib.pyplot as plt; plt.rcdefaults()\n",
    "import pandas as pd\n",
    "\n",
    "import warnings\n",
    "warnings.filterwarnings(\"ignore\")\n",
    "\n",
    "# fix_yahoo_finance is used to fetch data \n",
    "import yfinance as yf\n",
    "yf.pdr_override()"
   ]
  },
  {
   "cell_type": "code",
   "execution_count": 2,
   "metadata": {
    "inputHidden": false,
    "outputHidden": false
   },
   "outputs": [
    {
     "name": "stdout",
     "output_type": "stream",
     "text": [
      "[*********************100%***********************]  1 of 1 completed\n"
     ]
    },
    {
     "data": {
      "text/html": [
       "<div>\n",
       "<style scoped>\n",
       "    .dataframe tbody tr th:only-of-type {\n",
       "        vertical-align: middle;\n",
       "    }\n",
       "\n",
       "    .dataframe tbody tr th {\n",
       "        vertical-align: top;\n",
       "    }\n",
       "\n",
       "    .dataframe thead th {\n",
       "        text-align: right;\n",
       "    }\n",
       "</style>\n",
       "<table border=\"1\" class=\"dataframe\">\n",
       "  <thead>\n",
       "    <tr style=\"text-align: right;\">\n",
       "      <th></th>\n",
       "      <th>Open</th>\n",
       "      <th>High</th>\n",
       "      <th>Low</th>\n",
       "      <th>Close</th>\n",
       "      <th>Adj Close</th>\n",
       "      <th>Volume</th>\n",
       "    </tr>\n",
       "    <tr>\n",
       "      <th>Date</th>\n",
       "      <th></th>\n",
       "      <th></th>\n",
       "      <th></th>\n",
       "      <th></th>\n",
       "      <th></th>\n",
       "      <th></th>\n",
       "    </tr>\n",
       "  </thead>\n",
       "  <tbody>\n",
       "    <tr>\n",
       "      <th>2016-12-01</th>\n",
       "      <td>20.250000</td>\n",
       "      <td>20.520000</td>\n",
       "      <td>19.000000</td>\n",
       "      <td>19.150000</td>\n",
       "      <td>16.934874</td>\n",
       "      <td>1191200</td>\n",
       "    </tr>\n",
       "    <tr>\n",
       "      <th>2016-12-02</th>\n",
       "      <td>19.190001</td>\n",
       "      <td>19.500000</td>\n",
       "      <td>18.280001</td>\n",
       "      <td>18.450001</td>\n",
       "      <td>16.315844</td>\n",
       "      <td>299400</td>\n",
       "    </tr>\n",
       "    <tr>\n",
       "      <th>2016-12-06</th>\n",
       "      <td>15.940000</td>\n",
       "      <td>16.954000</td>\n",
       "      <td>15.450000</td>\n",
       "      <td>16.650000</td>\n",
       "      <td>14.724053</td>\n",
       "      <td>346200</td>\n",
       "    </tr>\n",
       "    <tr>\n",
       "      <th>2016-12-07</th>\n",
       "      <td>17.610001</td>\n",
       "      <td>17.610001</td>\n",
       "      <td>16.650000</td>\n",
       "      <td>16.889999</td>\n",
       "      <td>14.936291</td>\n",
       "      <td>244500</td>\n",
       "    </tr>\n",
       "    <tr>\n",
       "      <th>2016-12-08</th>\n",
       "      <td>16.889999</td>\n",
       "      <td>17.299999</td>\n",
       "      <td>16.683001</td>\n",
       "      <td>17.200001</td>\n",
       "      <td>15.210436</td>\n",
       "      <td>109700</td>\n",
       "    </tr>\n",
       "  </tbody>\n",
       "</table>\n",
       "</div>"
      ],
      "text/plain": [
       "                 Open       High        Low      Close  Adj Close   Volume\n",
       "Date                                                                      \n",
       "2016-12-01  20.250000  20.520000  19.000000  19.150000  16.934874  1191200\n",
       "2016-12-02  19.190001  19.500000  18.280001  18.450001  16.315844   299400\n",
       "2016-12-06  15.940000  16.954000  15.450000  16.650000  14.724053   346200\n",
       "2016-12-07  17.610001  17.610001  16.650000  16.889999  14.936291   244500\n",
       "2016-12-08  16.889999  17.299999  16.683001  17.200001  15.210436   109700"
      ]
     },
     "execution_count": 2,
     "metadata": {},
     "output_type": "execute_result"
    }
   ],
   "source": [
    "# input\n",
    "symbol = 'IIPR'\n",
    "start = '2015-01-01'\n",
    "end = '2020-11-26'\n",
    "\n",
    "# Read data \n",
    "dataset = yf.download(symbol,start,end)\n",
    "\n",
    "# View Data\n",
    "dataset.head()"
   ]
  },
  {
   "cell_type": "code",
   "execution_count": 3,
   "metadata": {
    "inputHidden": false,
    "outputHidden": false
   },
   "outputs": [
    {
     "data": {
      "text/html": [
       "<div>\n",
       "<style scoped>\n",
       "    .dataframe tbody tr th:only-of-type {\n",
       "        vertical-align: middle;\n",
       "    }\n",
       "\n",
       "    .dataframe tbody tr th {\n",
       "        vertical-align: top;\n",
       "    }\n",
       "\n",
       "    .dataframe thead th {\n",
       "        text-align: right;\n",
       "    }\n",
       "</style>\n",
       "<table border=\"1\" class=\"dataframe\">\n",
       "  <thead>\n",
       "    <tr style=\"text-align: right;\">\n",
       "      <th></th>\n",
       "      <th>Open</th>\n",
       "      <th>High</th>\n",
       "      <th>Low</th>\n",
       "      <th>Close</th>\n",
       "      <th>Adj Close</th>\n",
       "      <th>Volume</th>\n",
       "    </tr>\n",
       "    <tr>\n",
       "      <th>Date</th>\n",
       "      <th></th>\n",
       "      <th></th>\n",
       "      <th></th>\n",
       "      <th></th>\n",
       "      <th></th>\n",
       "      <th></th>\n",
       "    </tr>\n",
       "  </thead>\n",
       "  <tbody>\n",
       "    <tr>\n",
       "      <th>2020-11-19</th>\n",
       "      <td>150.210007</td>\n",
       "      <td>153.630005</td>\n",
       "      <td>150.050003</td>\n",
       "      <td>153.470001</td>\n",
       "      <td>153.470001</td>\n",
       "      <td>270300</td>\n",
       "    </tr>\n",
       "    <tr>\n",
       "      <th>2020-11-20</th>\n",
       "      <td>154.009995</td>\n",
       "      <td>154.727997</td>\n",
       "      <td>150.003998</td>\n",
       "      <td>151.949997</td>\n",
       "      <td>151.949997</td>\n",
       "      <td>203300</td>\n",
       "    </tr>\n",
       "    <tr>\n",
       "      <th>2020-11-23</th>\n",
       "      <td>152.850006</td>\n",
       "      <td>160.149994</td>\n",
       "      <td>152.850006</td>\n",
       "      <td>153.899994</td>\n",
       "      <td>153.899994</td>\n",
       "      <td>621200</td>\n",
       "    </tr>\n",
       "    <tr>\n",
       "      <th>2020-11-24</th>\n",
       "      <td>157.000000</td>\n",
       "      <td>158.759995</td>\n",
       "      <td>152.500000</td>\n",
       "      <td>154.619995</td>\n",
       "      <td>154.619995</td>\n",
       "      <td>613000</td>\n",
       "    </tr>\n",
       "    <tr>\n",
       "      <th>2020-11-25</th>\n",
       "      <td>155.000000</td>\n",
       "      <td>156.520004</td>\n",
       "      <td>151.779999</td>\n",
       "      <td>156.279999</td>\n",
       "      <td>156.279999</td>\n",
       "      <td>346100</td>\n",
       "    </tr>\n",
       "  </tbody>\n",
       "</table>\n",
       "</div>"
      ],
      "text/plain": [
       "                  Open        High         Low       Close   Adj Close  Volume\n",
       "Date                                                                          \n",
       "2020-11-19  150.210007  153.630005  150.050003  153.470001  153.470001  270300\n",
       "2020-11-20  154.009995  154.727997  150.003998  151.949997  151.949997  203300\n",
       "2020-11-23  152.850006  160.149994  152.850006  153.899994  153.899994  621200\n",
       "2020-11-24  157.000000  158.759995  152.500000  154.619995  154.619995  613000\n",
       "2020-11-25  155.000000  156.520004  151.779999  156.279999  156.279999  346100"
      ]
     },
     "execution_count": 3,
     "metadata": {},
     "output_type": "execute_result"
    }
   ],
   "source": [
    "dataset.tail()"
   ]
  },
  {
   "cell_type": "code",
   "execution_count": 4,
   "metadata": {
    "inputHidden": false,
    "outputHidden": false
   },
   "outputs": [
    {
     "data": {
      "image/png": "[encoded data removed]",
      "text/plain": [
       "<Figure size 1600x800 with 1 Axes>"
      ]
     },
     "metadata": {},
     "output_type": "display_data"
    }
   ],
   "source": [
    "plt.figure(figsize=(16,8))\n",
    "plt.plot(dataset['Adj Close'])\n",
    "plt.title('Closing Price Chart')\n",
    "plt.xlabel('Date')\n",
    "plt.ylabel('Price')\n",
    "plt.grid(True)\n",
    "plt.show()"
   ]
  },
  {
   "cell_type": "code",
   "execution_count": 5,
   "metadata": {
    "inputHidden": false,
    "outputHidden": false
   },
   "outputs": [
    {
     "data": {
      "text/html": [
       "<div>\n",
       "<style scoped>\n",
       "    .dataframe tbody tr th:only-of-type {\n",
       "        vertical-align: middle;\n",
       "    }\n",
       "\n",
       "    .dataframe tbody tr th {\n",
       "        vertical-align: top;\n",
       "    }\n",
       "\n",
       "    .dataframe thead th {\n",
       "        text-align: right;\n",
       "    }\n",
       "</style>\n",
       "<table border=\"1\" class=\"dataframe\">\n",
       "  <thead>\n",
       "    <tr style=\"text-align: right;\">\n",
       "      <th></th>\n",
       "      <th>Open</th>\n",
       "      <th>High</th>\n",
       "      <th>Low</th>\n",
       "      <th>Close</th>\n",
       "      <th>Adj Close</th>\n",
       "      <th>Volume</th>\n",
       "      <th>Returns</th>\n",
       "    </tr>\n",
       "    <tr>\n",
       "      <th>Date</th>\n",
       "      <th></th>\n",
       "      <th></th>\n",
       "      <th></th>\n",
       "      <th></th>\n",
       "      <th></th>\n",
       "      <th></th>\n",
       "      <th></th>\n",
       "    </tr>\n",
       "  </thead>\n",
       "  <tbody>\n",
       "    <tr>\n",
       "      <th>2016-12-30</th>\n",
       "      <td>17.760000</td>\n",
       "      <td>18.500</td>\n",
       "      <td>17.58</td>\n",
       "      <td>18.190001</td>\n",
       "      <td>16.085918</td>\n",
       "      <td>34800.0</td>\n",
       "      <td>0.016201</td>\n",
       "    </tr>\n",
       "    <tr>\n",
       "      <th>2017-01-31</th>\n",
       "      <td>18.799999</td>\n",
       "      <td>18.857</td>\n",
       "      <td>18.50</td>\n",
       "      <td>18.587999</td>\n",
       "      <td>16.437881</td>\n",
       "      <td>18100.0</td>\n",
       "      <td>-0.011382</td>\n",
       "    </tr>\n",
       "    <tr>\n",
       "      <th>2017-02-28</th>\n",
       "      <td>16.809999</td>\n",
       "      <td>16.882</td>\n",
       "      <td>16.40</td>\n",
       "      <td>16.510000</td>\n",
       "      <td>14.600249</td>\n",
       "      <td>40500.0</td>\n",
       "      <td>-0.022498</td>\n",
       "    </tr>\n",
       "    <tr>\n",
       "      <th>2017-03-31</th>\n",
       "      <td>17.270000</td>\n",
       "      <td>17.410</td>\n",
       "      <td>16.91</td>\n",
       "      <td>17.059999</td>\n",
       "      <td>15.086627</td>\n",
       "      <td>20800.0</td>\n",
       "      <td>-0.005248</td>\n",
       "    </tr>\n",
       "    <tr>\n",
       "      <th>2017-04-28</th>\n",
       "      <td>17.959999</td>\n",
       "      <td>18.000</td>\n",
       "      <td>17.50</td>\n",
       "      <td>18.000000</td>\n",
       "      <td>15.917898</td>\n",
       "      <td>25700.0</td>\n",
       "      <td>0.009535</td>\n",
       "    </tr>\n",
       "  </tbody>\n",
       "</table>\n",
       "</div>"
      ],
      "text/plain": [
       "                 Open    High    Low      Close  Adj Close   Volume   Returns\n",
       "Date                                                                         \n",
       "2016-12-30  17.760000  18.500  17.58  18.190001  16.085918  34800.0  0.016201\n",
       "2017-01-31  18.799999  18.857  18.50  18.587999  16.437881  18100.0 -0.011382\n",
       "2017-02-28  16.809999  16.882  16.40  16.510000  14.600249  40500.0 -0.022498\n",
       "2017-03-31  17.270000  17.410  16.91  17.059999  15.086627  20800.0 -0.005248\n",
       "2017-04-28  17.959999  18.000  17.50  18.000000  15.917898  25700.0  0.009535"
      ]
     },
     "execution_count": 5,
     "metadata": {},
     "output_type": "execute_result"
    }
   ],
   "source": [
    "monthly = dataset.asfreq('BM')\n",
    "monthly['Returns'] = dataset['Adj Close'].pct_change().dropna()\n",
    "monthly.head()"
   ]
  },
  {
   "cell_type": "code",
   "execution_count": 6,
   "metadata": {
    "inputHidden": false,
    "outputHidden": false
   },
   "outputs": [],
   "source": [
    "monthly['Month_Name'] = monthly.index.strftime(\"%b\")\n",
    "monthly['Month_Name_Year'] = monthly.index.strftime(\"%b-%Y\")"
   ]
  },
  {
   "cell_type": "code",
   "execution_count": 7,
   "metadata": {
    "inputHidden": false,
    "outputHidden": false
   },
   "outputs": [],
   "source": [
    "import calendar\n",
    "import datetime\n",
    "\n",
    "monthly = monthly.reset_index()\n",
    "monthly['Month'] = monthly[\"Date\"].dt.month"
   ]
  },
  {
   "cell_type": "code",
   "execution_count": 8,
   "metadata": {
    "inputHidden": false,
    "outputHidden": false
   },
   "outputs": [
    {
     "data": {
      "text/html": [
       "<div>\n",
       "<style scoped>\n",
       "    .dataframe tbody tr th:only-of-type {\n",
       "        vertical-align: middle;\n",
       "    }\n",
       "\n",
       "    .dataframe tbody tr th {\n",
       "        vertical-align: top;\n",
       "    }\n",
       "\n",
       "    .dataframe thead th {\n",
       "        text-align: right;\n",
       "    }\n",
       "</style>\n",
       "<table border=\"1\" class=\"dataframe\">\n",
       "  <thead>\n",
       "    <tr style=\"text-align: right;\">\n",
       "      <th></th>\n",
       "      <th>Date</th>\n",
       "      <th>Open</th>\n",
       "      <th>High</th>\n",
       "      <th>Low</th>\n",
       "      <th>Close</th>\n",
       "      <th>Adj Close</th>\n",
       "      <th>Volume</th>\n",
       "      <th>Returns</th>\n",
       "      <th>Month_Name</th>\n",
       "      <th>Month_Name_Year</th>\n",
       "      <th>Month</th>\n",
       "    </tr>\n",
       "  </thead>\n",
       "  <tbody>\n",
       "    <tr>\n",
       "      <th>0</th>\n",
       "      <td>2016-12-30</td>\n",
       "      <td>17.760000</td>\n",
       "      <td>18.500</td>\n",
       "      <td>17.58</td>\n",
       "      <td>18.190001</td>\n",
       "      <td>16.085918</td>\n",
       "      <td>34800.0</td>\n",
       "      <td>0.016201</td>\n",
       "      <td>Dec</td>\n",
       "      <td>Dec-2016</td>\n",
       "      <td>12</td>\n",
       "    </tr>\n",
       "    <tr>\n",
       "      <th>1</th>\n",
       "      <td>2017-01-31</td>\n",
       "      <td>18.799999</td>\n",
       "      <td>18.857</td>\n",
       "      <td>18.50</td>\n",
       "      <td>18.587999</td>\n",
       "      <td>16.437881</td>\n",
       "      <td>18100.0</td>\n",
       "      <td>-0.011382</td>\n",
       "      <td>Jan</td>\n",
       "      <td>Jan-2017</td>\n",
       "      <td>1</td>\n",
       "    </tr>\n",
       "    <tr>\n",
       "      <th>2</th>\n",
       "      <td>2017-02-28</td>\n",
       "      <td>16.809999</td>\n",
       "      <td>16.882</td>\n",
       "      <td>16.40</td>\n",
       "      <td>16.510000</td>\n",
       "      <td>14.600249</td>\n",
       "      <td>40500.0</td>\n",
       "      <td>-0.022498</td>\n",
       "      <td>Feb</td>\n",
       "      <td>Feb-2017</td>\n",
       "      <td>2</td>\n",
       "    </tr>\n",
       "    <tr>\n",
       "      <th>3</th>\n",
       "      <td>2017-03-31</td>\n",
       "      <td>17.270000</td>\n",
       "      <td>17.410</td>\n",
       "      <td>16.91</td>\n",
       "      <td>17.059999</td>\n",
       "      <td>15.086627</td>\n",
       "      <td>20800.0</td>\n",
       "      <td>-0.005248</td>\n",
       "      <td>Mar</td>\n",
       "      <td>Mar-2017</td>\n",
       "      <td>3</td>\n",
       "    </tr>\n",
       "    <tr>\n",
       "      <th>4</th>\n",
       "      <td>2017-04-28</td>\n",
       "      <td>17.959999</td>\n",
       "      <td>18.000</td>\n",
       "      <td>17.50</td>\n",
       "      <td>18.000000</td>\n",
       "      <td>15.917898</td>\n",
       "      <td>25700.0</td>\n",
       "      <td>0.009535</td>\n",
       "      <td>Apr</td>\n",
       "      <td>Apr-2017</td>\n",
       "      <td>4</td>\n",
       "    </tr>\n",
       "  </tbody>\n",
       "</table>\n",
       "</div>"
      ],
      "text/plain": [
       "        Date       Open    High    Low      Close  Adj Close   Volume  \\\n",
       "0 2016-12-30  17.760000  18.500  17.58  18.190001  16.085918  34800.0   \n",
       "1 2017-01-31  18.799999  18.857  18.50  18.587999  16.437881  18100.0   \n",
       "2 2017-02-28  16.809999  16.882  16.40  16.510000  14.600249  40500.0   \n",
       "3 2017-03-31  17.270000  17.410  16.91  17.059999  15.086627  20800.0   \n",
       "4 2017-04-28  17.959999  18.000  17.50  18.000000  15.917898  25700.0   \n",
       "\n",
       "    Returns Month_Name Month_Name_Year  Month  \n",
       "0  0.016201        Dec        Dec-2016     12  \n",
       "1 -0.011382        Jan        Jan-2017      1  \n",
       "2 -0.022498        Feb        Feb-2017      2  \n",
       "3 -0.005248        Mar        Mar-2017      3  \n",
       "4  0.009535        Apr        Apr-2017      4  "
      ]
     },
     "execution_count": 8,
     "metadata": {},
     "output_type": "execute_result"
    }
   ],
   "source": [
    "monthly.head()"
   ]
  },
  {
   "cell_type": "code",
   "execution_count": 9,
   "metadata": {
    "inputHidden": false,
    "outputHidden": false
   },
   "outputs": [
    {
     "data": {
      "text/html": [
       "<div>\n",
       "<style scoped>\n",
       "    .dataframe tbody tr th:only-of-type {\n",
       "        vertical-align: middle;\n",
       "    }\n",
       "\n",
       "    .dataframe tbody tr th {\n",
       "        vertical-align: top;\n",
       "    }\n",
       "\n",
       "    .dataframe thead th {\n",
       "        text-align: right;\n",
       "    }\n",
       "</style>\n",
       "<table border=\"1\" class=\"dataframe\">\n",
       "  <thead>\n",
       "    <tr style=\"text-align: right;\">\n",
       "      <th></th>\n",
       "      <th>Date</th>\n",
       "      <th>Open</th>\n",
       "      <th>High</th>\n",
       "      <th>Low</th>\n",
       "      <th>Close</th>\n",
       "      <th>Adj Close</th>\n",
       "      <th>Volume</th>\n",
       "      <th>Returns</th>\n",
       "      <th>Month_Name</th>\n",
       "      <th>Month_Name_Year</th>\n",
       "      <th>Month</th>\n",
       "    </tr>\n",
       "  </thead>\n",
       "  <tbody>\n",
       "    <tr>\n",
       "      <th>0</th>\n",
       "      <td>2016-12-30</td>\n",
       "      <td>17.760000</td>\n",
       "      <td>18.500</td>\n",
       "      <td>17.58</td>\n",
       "      <td>18.190001</td>\n",
       "      <td>16.085918</td>\n",
       "      <td>34800.0</td>\n",
       "      <td>0.016201</td>\n",
       "      <td>Dec</td>\n",
       "      <td>Dec-2016</td>\n",
       "      <td>12</td>\n",
       "    </tr>\n",
       "    <tr>\n",
       "      <th>1</th>\n",
       "      <td>2017-01-31</td>\n",
       "      <td>18.799999</td>\n",
       "      <td>18.857</td>\n",
       "      <td>18.50</td>\n",
       "      <td>18.587999</td>\n",
       "      <td>16.437881</td>\n",
       "      <td>18100.0</td>\n",
       "      <td>-0.011382</td>\n",
       "      <td>Jan</td>\n",
       "      <td>Jan-2017</td>\n",
       "      <td>1</td>\n",
       "    </tr>\n",
       "    <tr>\n",
       "      <th>2</th>\n",
       "      <td>2017-02-28</td>\n",
       "      <td>16.809999</td>\n",
       "      <td>16.882</td>\n",
       "      <td>16.40</td>\n",
       "      <td>16.510000</td>\n",
       "      <td>14.600249</td>\n",
       "      <td>40500.0</td>\n",
       "      <td>-0.022498</td>\n",
       "      <td>Feb</td>\n",
       "      <td>Feb-2017</td>\n",
       "      <td>2</td>\n",
       "    </tr>\n",
       "    <tr>\n",
       "      <th>3</th>\n",
       "      <td>2017-03-31</td>\n",
       "      <td>17.270000</td>\n",
       "      <td>17.410</td>\n",
       "      <td>16.91</td>\n",
       "      <td>17.059999</td>\n",
       "      <td>15.086627</td>\n",
       "      <td>20800.0</td>\n",
       "      <td>-0.005248</td>\n",
       "      <td>Mar</td>\n",
       "      <td>Mar-2017</td>\n",
       "      <td>3</td>\n",
       "    </tr>\n",
       "    <tr>\n",
       "      <th>4</th>\n",
       "      <td>2017-04-28</td>\n",
       "      <td>17.959999</td>\n",
       "      <td>18.000</td>\n",
       "      <td>17.50</td>\n",
       "      <td>18.000000</td>\n",
       "      <td>15.917898</td>\n",
       "      <td>25700.0</td>\n",
       "      <td>0.009535</td>\n",
       "      <td>Apr</td>\n",
       "      <td>Apr-2017</td>\n",
       "      <td>4</td>\n",
       "    </tr>\n",
       "  </tbody>\n",
       "</table>\n",
       "</div>"
      ],
      "text/plain": [
       "        Date       Open    High    Low      Close  Adj Close   Volume  \\\n",
       "0 2016-12-30  17.760000  18.500  17.58  18.190001  16.085918  34800.0   \n",
       "1 2017-01-31  18.799999  18.857  18.50  18.587999  16.437881  18100.0   \n",
       "2 2017-02-28  16.809999  16.882  16.40  16.510000  14.600249  40500.0   \n",
       "3 2017-03-31  17.270000  17.410  16.91  17.059999  15.086627  20800.0   \n",
       "4 2017-04-28  17.959999  18.000  17.50  18.000000  15.917898  25700.0   \n",
       "\n",
       "    Returns Month_Name Month_Name_Year  Month  \n",
       "0  0.016201        Dec        Dec-2016     12  \n",
       "1 -0.011382        Jan        Jan-2017      1  \n",
       "2 -0.022498        Feb        Feb-2017      2  \n",
       "3 -0.005248        Mar        Mar-2017      3  \n",
       "4  0.009535        Apr        Apr-2017      4  "
      ]
     },
     "execution_count": 9,
     "metadata": {},
     "output_type": "execute_result"
    }
   ],
   "source": [
    "monthly.head()"
   ]
  },
  {
   "cell_type": "code",
   "execution_count": 10,
   "metadata": {
    "inputHidden": false,
    "outputHidden": false
   },
   "outputs": [
    {
     "data": {
      "text/html": [
       "<div>\n",
       "<style scoped>\n",
       "    .dataframe tbody tr th:only-of-type {\n",
       "        vertical-align: middle;\n",
       "    }\n",
       "\n",
       "    .dataframe tbody tr th {\n",
       "        vertical-align: top;\n",
       "    }\n",
       "\n",
       "    .dataframe thead th {\n",
       "        text-align: right;\n",
       "    }\n",
       "</style>\n",
       "<table border=\"1\" class=\"dataframe\">\n",
       "  <thead>\n",
       "    <tr style=\"text-align: right;\">\n",
       "      <th></th>\n",
       "      <th>Date</th>\n",
       "      <th>Open</th>\n",
       "      <th>High</th>\n",
       "      <th>Low</th>\n",
       "      <th>Close</th>\n",
       "      <th>Adj Close</th>\n",
       "      <th>Volume</th>\n",
       "      <th>Returns</th>\n",
       "      <th>Month_Name</th>\n",
       "      <th>Month_Name_Year</th>\n",
       "      <th>Month</th>\n",
       "    </tr>\n",
       "  </thead>\n",
       "  <tbody>\n",
       "    <tr>\n",
       "      <th>42</th>\n",
       "      <td>2020-06-30</td>\n",
       "      <td>85.750000</td>\n",
       "      <td>88.589996</td>\n",
       "      <td>85.400002</td>\n",
       "      <td>88.019997</td>\n",
       "      <td>87.217316</td>\n",
       "      <td>1960800.0</td>\n",
       "      <td>-0.026543</td>\n",
       "      <td>Jun</td>\n",
       "      <td>Jun-2020</td>\n",
       "      <td>6</td>\n",
       "    </tr>\n",
       "    <tr>\n",
       "      <th>43</th>\n",
       "      <td>2020-07-31</td>\n",
       "      <td>105.480003</td>\n",
       "      <td>105.974998</td>\n",
       "      <td>101.779999</td>\n",
       "      <td>104.230003</td>\n",
       "      <td>103.279503</td>\n",
       "      <td>262800.0</td>\n",
       "      <td>-0.010349</td>\n",
       "      <td>Jul</td>\n",
       "      <td>Jul-2020</td>\n",
       "      <td>7</td>\n",
       "    </tr>\n",
       "    <tr>\n",
       "      <th>44</th>\n",
       "      <td>2020-08-31</td>\n",
       "      <td>125.000000</td>\n",
       "      <td>125.071999</td>\n",
       "      <td>122.250000</td>\n",
       "      <td>123.089996</td>\n",
       "      <td>121.967506</td>\n",
       "      <td>331600.0</td>\n",
       "      <td>-0.016932</td>\n",
       "      <td>Aug</td>\n",
       "      <td>Aug-2020</td>\n",
       "      <td>8</td>\n",
       "    </tr>\n",
       "    <tr>\n",
       "      <th>45</th>\n",
       "      <td>2020-09-30</td>\n",
       "      <td>125.660004</td>\n",
       "      <td>126.894997</td>\n",
       "      <td>122.150002</td>\n",
       "      <td>124.110001</td>\n",
       "      <td>124.110001</td>\n",
       "      <td>394900.0</td>\n",
       "      <td>-0.005130</td>\n",
       "      <td>Sep</td>\n",
       "      <td>Sep-2020</td>\n",
       "      <td>9</td>\n",
       "    </tr>\n",
       "    <tr>\n",
       "      <th>46</th>\n",
       "      <td>2020-10-30</td>\n",
       "      <td>119.730003</td>\n",
       "      <td>119.730003</td>\n",
       "      <td>112.250000</td>\n",
       "      <td>116.629997</td>\n",
       "      <td>116.629997</td>\n",
       "      <td>608400.0</td>\n",
       "      <td>-0.027516</td>\n",
       "      <td>Oct</td>\n",
       "      <td>Oct-2020</td>\n",
       "      <td>10</td>\n",
       "    </tr>\n",
       "  </tbody>\n",
       "</table>\n",
       "</div>"
      ],
      "text/plain": [
       "         Date        Open        High         Low       Close   Adj Close  \\\n",
       "42 2020-06-30   85.750000   88.589996   85.400002   88.019997   87.217316   \n",
       "43 2020-07-31  105.480003  105.974998  101.779999  104.230003  103.279503   \n",
       "44 2020-08-31  125.000000  125.071999  122.250000  123.089996  121.967506   \n",
       "45 2020-09-30  125.660004  126.894997  122.150002  124.110001  124.110001   \n",
       "46 2020-10-30  119.730003  119.730003  112.250000  116.629997  116.629997   \n",
       "\n",
       "       Volume   Returns Month_Name Month_Name_Year  Month  \n",
       "42  1960800.0 -0.026543        Jun        Jun-2020      6  \n",
       "43   262800.0 -0.010349        Jul        Jul-2020      7  \n",
       "44   331600.0 -0.016932        Aug        Aug-2020      8  \n",
       "45   394900.0 -0.005130        Sep        Sep-2020      9  \n",
       "46   608400.0 -0.027516        Oct        Oct-2020     10  "
      ]
     },
     "execution_count": 10,
     "metadata": {},
     "output_type": "execute_result"
    }
   ],
   "source": [
    "monthly.tail()"
   ]
  },
  {
   "cell_type": "code",
   "execution_count": 11,
   "metadata": {
    "inputHidden": false,
    "outputHidden": false
   },
   "outputs": [
    {
     "data": {
      "image/png": "[encoded data removed]",
      "text/plain": [
       "<Figure size 3000x600 with 1 Axes>"
      ]
     },
     "metadata": {},
     "output_type": "display_data"
    }
   ],
   "source": [
    "monthly['Returns'].plot(kind='bar', figsize=(30,6))\n",
    "plt.xlabel(\"Months\")\n",
    "plt.ylabel(\"Returns\")\n",
    "plt.title(\"Returns for Each Month\")\n",
    "plt.show()"
   ]
  },
  {
   "cell_type": "code",
   "execution_count": 12,
   "metadata": {
    "inputHidden": false,
    "outputHidden": false
   },
   "outputs": [
    {
     "data": {
      "image/png": "[encoded data removed]",
      "text/plain": [
       "<Figure size 3000x600 with 1 Axes>"
      ]
     },
     "metadata": {},
     "output_type": "display_data"
    }
   ],
   "source": [
    "monthly['Returns'].plot(kind='bar', figsize=(30,6))\n",
    "plt.xlabel(\"Months\")\n",
    "plt.ylabel(\"Returns\")\n",
    "plt.title(\"Returns for Each Month\")\n",
    "plt.xticks(monthly.index, monthly['Month_Name'])\n",
    "plt.show()"
   ]
  },
  {
   "cell_type": "code",
   "execution_count": 13,
   "metadata": {
    "inputHidden": false,
    "outputHidden": false
   },
   "outputs": [],
   "source": [
    "from matplotlib import dates as mdates\n",
    "import datetime as dt\n",
    "\n",
    "monthly['ReturnsPositive'] = 0 < monthly['Returns']\n",
    "monthly['Date'] = pd.to_datetime(monthly['Date'])\n",
    "monthly['Date'] = monthly['Date'].apply(mdates.date2num)"
   ]
  },
  {
   "cell_type": "code",
   "execution_count": 14,
   "metadata": {
    "inputHidden": false,
    "outputHidden": false
   },
   "outputs": [
    {
     "data": {
      "image/png": "[encoded data removed]",
      "text/plain": [
       "<Figure size 3000x600 with 1 Axes>"
      ]
     },
     "metadata": {},
     "output_type": "display_data"
    }
   ],
   "source": [
    "colors = monthly.ReturnsPositive.map({True: 'g', False: 'r'})\n",
    "monthly['Returns'].plot(kind='bar', color = colors, figsize=(30,6))\n",
    "plt.xlabel(\"Months\")\n",
    "plt.ylabel(\"Returns\")\n",
    "plt.title(\"Returns for Each Month \" + start + ' to ' + end)\n",
    "plt.xticks(monthly.index, monthly['Month_Name'])\n",
    "plt.show()"
   ]
  },
  {
   "cell_type": "code",
   "execution_count": 15,
   "metadata": {
    "inputHidden": false,
    "outputHidden": false
   },
   "outputs": [],
   "source": [
    "yearly = dataset.asfreq('BY')\n",
    "yearly['Returns'] = dataset['Adj Close'].pct_change().dropna()"
   ]
  },
  {
   "cell_type": "code",
   "execution_count": 16,
   "metadata": {
    "inputHidden": false,
    "outputHidden": false
   },
   "outputs": [
    {
     "data": {
      "text/html": [
       "<div>\n",
       "<style scoped>\n",
       "    .dataframe tbody tr th:only-of-type {\n",
       "        vertical-align: middle;\n",
       "    }\n",
       "\n",
       "    .dataframe tbody tr th {\n",
       "        vertical-align: top;\n",
       "    }\n",
       "\n",
       "    .dataframe thead th {\n",
       "        text-align: right;\n",
       "    }\n",
       "</style>\n",
       "<table border=\"1\" class=\"dataframe\">\n",
       "  <thead>\n",
       "    <tr style=\"text-align: right;\">\n",
       "      <th></th>\n",
       "      <th>Open</th>\n",
       "      <th>High</th>\n",
       "      <th>Low</th>\n",
       "      <th>Close</th>\n",
       "      <th>Adj Close</th>\n",
       "      <th>Volume</th>\n",
       "      <th>Returns</th>\n",
       "    </tr>\n",
       "    <tr>\n",
       "      <th>Date</th>\n",
       "      <th></th>\n",
       "      <th></th>\n",
       "      <th></th>\n",
       "      <th></th>\n",
       "      <th></th>\n",
       "      <th></th>\n",
       "      <th></th>\n",
       "    </tr>\n",
       "  </thead>\n",
       "  <tbody>\n",
       "    <tr>\n",
       "      <th>2016-12-30</th>\n",
       "      <td>17.76</td>\n",
       "      <td>18.500000</td>\n",
       "      <td>17.580000</td>\n",
       "      <td>18.190001</td>\n",
       "      <td>16.085918</td>\n",
       "      <td>34800</td>\n",
       "      <td>0.016201</td>\n",
       "    </tr>\n",
       "    <tr>\n",
       "      <th>2017-12-29</th>\n",
       "      <td>29.25</td>\n",
       "      <td>32.519001</td>\n",
       "      <td>29.100000</td>\n",
       "      <td>32.310001</td>\n",
       "      <td>29.325338</td>\n",
       "      <td>333400</td>\n",
       "      <td>0.128143</td>\n",
       "    </tr>\n",
       "    <tr>\n",
       "      <th>2018-12-31</th>\n",
       "      <td>46.16</td>\n",
       "      <td>46.208000</td>\n",
       "      <td>44.837002</td>\n",
       "      <td>45.389999</td>\n",
       "      <td>42.526997</td>\n",
       "      <td>186500</td>\n",
       "      <td>-0.010895</td>\n",
       "    </tr>\n",
       "    <tr>\n",
       "      <th>2019-12-31</th>\n",
       "      <td>73.25</td>\n",
       "      <td>78.089996</td>\n",
       "      <td>73.250000</td>\n",
       "      <td>75.870003</td>\n",
       "      <td>73.365639</td>\n",
       "      <td>525100</td>\n",
       "      <td>0.033088</td>\n",
       "    </tr>\n",
       "  </tbody>\n",
       "</table>\n",
       "</div>"
      ],
      "text/plain": [
       "             Open       High        Low      Close  Adj Close  Volume  \\\n",
       "Date                                                                    \n",
       "2016-12-30  17.76  18.500000  17.580000  18.190001  16.085918   34800   \n",
       "2017-12-29  29.25  32.519001  29.100000  32.310001  29.325338  333400   \n",
       "2018-12-31  46.16  46.208000  44.837002  45.389999  42.526997  186500   \n",
       "2019-12-31  73.25  78.089996  73.250000  75.870003  73.365639  525100   \n",
       "\n",
       "             Returns  \n",
       "Date                  \n",
       "2016-12-30  0.016201  \n",
       "2017-12-29  0.128143  \n",
       "2018-12-31 -0.010895  \n",
       "2019-12-31  0.033088  "
      ]
     },
     "execution_count": 16,
     "metadata": {},
     "output_type": "execute_result"
    }
   ],
   "source": [
    "yearly"
   ]
  },
  {
   "cell_type": "code",
   "execution_count": 17,
   "metadata": {
    "inputHidden": false,
    "outputHidden": false
   },
   "outputs": [],
   "source": [
    "yearly = yearly.reset_index()"
   ]
  },
  {
   "cell_type": "code",
   "execution_count": 18,
   "metadata": {
    "inputHidden": false,
    "outputHidden": false
   },
   "outputs": [
    {
     "data": {
      "text/html": [
       "<div>\n",
       "<style scoped>\n",
       "    .dataframe tbody tr th:only-of-type {\n",
       "        vertical-align: middle;\n",
       "    }\n",
       "\n",
       "    .dataframe tbody tr th {\n",
       "        vertical-align: top;\n",
       "    }\n",
       "\n",
       "    .dataframe thead th {\n",
       "        text-align: right;\n",
       "    }\n",
       "</style>\n",
       "<table border=\"1\" class=\"dataframe\">\n",
       "  <thead>\n",
       "    <tr style=\"text-align: right;\">\n",
       "      <th></th>\n",
       "      <th>Date</th>\n",
       "      <th>Open</th>\n",
       "      <th>High</th>\n",
       "      <th>Low</th>\n",
       "      <th>Close</th>\n",
       "      <th>Adj Close</th>\n",
       "      <th>Volume</th>\n",
       "      <th>Returns</th>\n",
       "    </tr>\n",
       "  </thead>\n",
       "  <tbody>\n",
       "    <tr>\n",
       "      <th>0</th>\n",
       "      <td>2016-12-30</td>\n",
       "      <td>17.76</td>\n",
       "      <td>18.500000</td>\n",
       "      <td>17.580000</td>\n",
       "      <td>18.190001</td>\n",
       "      <td>16.085918</td>\n",
       "      <td>34800</td>\n",
       "      <td>0.016201</td>\n",
       "    </tr>\n",
       "    <tr>\n",
       "      <th>1</th>\n",
       "      <td>2017-12-29</td>\n",
       "      <td>29.25</td>\n",
       "      <td>32.519001</td>\n",
       "      <td>29.100000</td>\n",
       "      <td>32.310001</td>\n",
       "      <td>29.325338</td>\n",
       "      <td>333400</td>\n",
       "      <td>0.128143</td>\n",
       "    </tr>\n",
       "    <tr>\n",
       "      <th>2</th>\n",
       "      <td>2018-12-31</td>\n",
       "      <td>46.16</td>\n",
       "      <td>46.208000</td>\n",
       "      <td>44.837002</td>\n",
       "      <td>45.389999</td>\n",
       "      <td>42.526997</td>\n",
       "      <td>186500</td>\n",
       "      <td>-0.010895</td>\n",
       "    </tr>\n",
       "    <tr>\n",
       "      <th>3</th>\n",
       "      <td>2019-12-31</td>\n",
       "      <td>73.25</td>\n",
       "      <td>78.089996</td>\n",
       "      <td>73.250000</td>\n",
       "      <td>75.870003</td>\n",
       "      <td>73.365639</td>\n",
       "      <td>525100</td>\n",
       "      <td>0.033088</td>\n",
       "    </tr>\n",
       "  </tbody>\n",
       "</table>\n",
       "</div>"
      ],
      "text/plain": [
       "        Date   Open       High        Low      Close  Adj Close  Volume  \\\n",
       "0 2016-12-30  17.76  18.500000  17.580000  18.190001  16.085918   34800   \n",
       "1 2017-12-29  29.25  32.519001  29.100000  32.310001  29.325338  333400   \n",
       "2 2018-12-31  46.16  46.208000  44.837002  45.389999  42.526997  186500   \n",
       "3 2019-12-31  73.25  78.089996  73.250000  75.870003  73.365639  525100   \n",
       "\n",
       "    Returns  \n",
       "0  0.016201  \n",
       "1  0.128143  \n",
       "2 -0.010895  \n",
       "3  0.033088  "
      ]
     },
     "execution_count": 18,
     "metadata": {},
     "output_type": "execute_result"
    }
   ],
   "source": [
    "yearly"
   ]
  },
  {
   "cell_type": "code",
   "execution_count": 19,
   "metadata": {
    "inputHidden": false,
    "outputHidden": false
   },
   "outputs": [],
   "source": [
    "yearly['Years'] = yearly['Date'].dt.year"
   ]
  },
  {
   "cell_type": "code",
   "execution_count": 20,
   "metadata": {
    "inputHidden": false,
    "outputHidden": false
   },
   "outputs": [
    {
     "data": {
      "text/html": [
       "<div>\n",
       "<style scoped>\n",
       "    .dataframe tbody tr th:only-of-type {\n",
       "        vertical-align: middle;\n",
       "    }\n",
       "\n",
       "    .dataframe tbody tr th {\n",
       "        vertical-align: top;\n",
       "    }\n",
       "\n",
       "    .dataframe thead th {\n",
       "        text-align: right;\n",
       "    }\n",
       "</style>\n",
       "<table border=\"1\" class=\"dataframe\">\n",
       "  <thead>\n",
       "    <tr style=\"text-align: right;\">\n",
       "      <th></th>\n",
       "      <th>Date</th>\n",
       "      <th>Open</th>\n",
       "      <th>High</th>\n",
       "      <th>Low</th>\n",
       "      <th>Close</th>\n",
       "      <th>Adj Close</th>\n",
       "      <th>Volume</th>\n",
       "      <th>Returns</th>\n",
       "      <th>Years</th>\n",
       "    </tr>\n",
       "  </thead>\n",
       "  <tbody>\n",
       "    <tr>\n",
       "      <th>0</th>\n",
       "      <td>2016-12-30</td>\n",
       "      <td>17.76</td>\n",
       "      <td>18.500000</td>\n",
       "      <td>17.580000</td>\n",
       "      <td>18.190001</td>\n",
       "      <td>16.085918</td>\n",
       "      <td>34800</td>\n",
       "      <td>0.016201</td>\n",
       "      <td>2016</td>\n",
       "    </tr>\n",
       "    <tr>\n",
       "      <th>1</th>\n",
       "      <td>2017-12-29</td>\n",
       "      <td>29.25</td>\n",
       "      <td>32.519001</td>\n",
       "      <td>29.100000</td>\n",
       "      <td>32.310001</td>\n",
       "      <td>29.325338</td>\n",
       "      <td>333400</td>\n",
       "      <td>0.128143</td>\n",
       "      <td>2017</td>\n",
       "    </tr>\n",
       "    <tr>\n",
       "      <th>2</th>\n",
       "      <td>2018-12-31</td>\n",
       "      <td>46.16</td>\n",
       "      <td>46.208000</td>\n",
       "      <td>44.837002</td>\n",
       "      <td>45.389999</td>\n",
       "      <td>42.526997</td>\n",
       "      <td>186500</td>\n",
       "      <td>-0.010895</td>\n",
       "      <td>2018</td>\n",
       "    </tr>\n",
       "    <tr>\n",
       "      <th>3</th>\n",
       "      <td>2019-12-31</td>\n",
       "      <td>73.25</td>\n",
       "      <td>78.089996</td>\n",
       "      <td>73.250000</td>\n",
       "      <td>75.870003</td>\n",
       "      <td>73.365639</td>\n",
       "      <td>525100</td>\n",
       "      <td>0.033088</td>\n",
       "      <td>2019</td>\n",
       "    </tr>\n",
       "  </tbody>\n",
       "</table>\n",
       "</div>"
      ],
      "text/plain": [
       "        Date   Open       High        Low      Close  Adj Close  Volume  \\\n",
       "0 2016-12-30  17.76  18.500000  17.580000  18.190001  16.085918   34800   \n",
       "1 2017-12-29  29.25  32.519001  29.100000  32.310001  29.325338  333400   \n",
       "2 2018-12-31  46.16  46.208000  44.837002  45.389999  42.526997  186500   \n",
       "3 2019-12-31  73.25  78.089996  73.250000  75.870003  73.365639  525100   \n",
       "\n",
       "    Returns  Years  \n",
       "0  0.016201   2016  \n",
       "1  0.128143   2017  \n",
       "2 -0.010895   2018  \n",
       "3  0.033088   2019  "
      ]
     },
     "execution_count": 20,
     "metadata": {},
     "output_type": "execute_result"
    }
   ],
   "source": [
    "yearly"
   ]
  },
  {
   "cell_type": "code",
   "execution_count": 21,
   "metadata": {
    "inputHidden": false,
    "outputHidden": false
   },
   "outputs": [
    {
     "data": {
      "image/png": "[encoded data removed]",
      "text/plain": [
       "<Figure size 1000x500 with 1 Axes>"
      ]
     },
     "metadata": {},
     "output_type": "display_data"
    }
   ],
   "source": [
    "plt.figure(figsize=(10,5))\n",
    "plt.bar(yearly['Years'], yearly['Returns'], align='center')\n",
    "plt.title('Yearly Returns')\n",
    "plt.xlabel('Date')\n",
    "plt.ylabel('Returns')\n",
    "plt.show()"
   ]
  },
  {
   "cell_type": "code",
   "execution_count": 22,
   "metadata": {
    "inputHidden": false,
    "outputHidden": false
   },
   "outputs": [],
   "source": [
    "from matplotlib import dates as mdates\n",
    "import datetime as dt\n",
    "\n",
    "yearly['ReturnsPositive'] = 0 < yearly['Returns']\n",
    "yearly['Date'] = pd.to_datetime(yearly['Date'])\n",
    "yearly['Date'] = yearly['Date'].apply(mdates.date2num)"
   ]
  },
  {
   "cell_type": "code",
   "execution_count": 23,
   "metadata": {
    "inputHidden": false,
    "outputHidden": false
   },
   "outputs": [
    {
     "data": {
      "text/html": [
       "<div>\n",
       "<style scoped>\n",
       "    .dataframe tbody tr th:only-of-type {\n",
       "        vertical-align: middle;\n",
       "    }\n",
       "\n",
       "    .dataframe tbody tr th {\n",
       "        vertical-align: top;\n",
       "    }\n",
       "\n",
       "    .dataframe thead th {\n",
       "        text-align: right;\n",
       "    }\n",
       "</style>\n",
       "<table border=\"1\" class=\"dataframe\">\n",
       "  <thead>\n",
       "    <tr style=\"text-align: right;\">\n",
       "      <th></th>\n",
       "      <th>Date</th>\n",
       "      <th>Open</th>\n",
       "      <th>High</th>\n",
       "      <th>Low</th>\n",
       "      <th>Close</th>\n",
       "      <th>Adj Close</th>\n",
       "      <th>Volume</th>\n",
       "      <th>Returns</th>\n",
       "      <th>Years</th>\n",
       "      <th>ReturnsPositive</th>\n",
       "    </tr>\n",
       "  </thead>\n",
       "  <tbody>\n",
       "    <tr>\n",
       "      <th>0</th>\n",
       "      <td>736328.0</td>\n",
       "      <td>17.76</td>\n",
       "      <td>18.500000</td>\n",
       "      <td>17.580000</td>\n",
       "      <td>18.190001</td>\n",
       "      <td>16.085918</td>\n",
       "      <td>34800</td>\n",
       "      <td>0.016201</td>\n",
       "      <td>2016</td>\n",
       "      <td>True</td>\n",
       "    </tr>\n",
       "    <tr>\n",
       "      <th>1</th>\n",
       "      <td>736692.0</td>\n",
       "      <td>29.25</td>\n",
       "      <td>32.519001</td>\n",
       "      <td>29.100000</td>\n",
       "      <td>32.310001</td>\n",
       "      <td>29.325338</td>\n",
       "      <td>333400</td>\n",
       "      <td>0.128143</td>\n",
       "      <td>2017</td>\n",
       "      <td>True</td>\n",
       "    </tr>\n",
       "    <tr>\n",
       "      <th>2</th>\n",
       "      <td>737059.0</td>\n",
       "      <td>46.16</td>\n",
       "      <td>46.208000</td>\n",
       "      <td>44.837002</td>\n",
       "      <td>45.389999</td>\n",
       "      <td>42.526997</td>\n",
       "      <td>186500</td>\n",
       "      <td>-0.010895</td>\n",
       "      <td>2018</td>\n",
       "      <td>False</td>\n",
       "    </tr>\n",
       "    <tr>\n",
       "      <th>3</th>\n",
       "      <td>737424.0</td>\n",
       "      <td>73.25</td>\n",
       "      <td>78.089996</td>\n",
       "      <td>73.250000</td>\n",
       "      <td>75.870003</td>\n",
       "      <td>73.365639</td>\n",
       "      <td>525100</td>\n",
       "      <td>0.033088</td>\n",
       "      <td>2019</td>\n",
       "      <td>True</td>\n",
       "    </tr>\n",
       "  </tbody>\n",
       "</table>\n",
       "</div>"
      ],
      "text/plain": [
       "       Date   Open       High        Low      Close  Adj Close  Volume  \\\n",
       "0  736328.0  17.76  18.500000  17.580000  18.190001  16.085918   34800   \n",
       "1  736692.0  29.25  32.519001  29.100000  32.310001  29.325338  333400   \n",
       "2  737059.0  46.16  46.208000  44.837002  45.389999  42.526997  186500   \n",
       "3  737424.0  73.25  78.089996  73.250000  75.870003  73.365639  525100   \n",
       "\n",
       "    Returns  Years  ReturnsPositive  \n",
       "0  0.016201   2016             True  \n",
       "1  0.128143   2017             True  \n",
       "2 -0.010895   2018            False  \n",
       "3  0.033088   2019             True  "
      ]
     },
     "execution_count": 23,
     "metadata": {},
     "output_type": "execute_result"
    }
   ],
   "source": [
    "yearly"
   ]
  },
  {
   "cell_type": "code",
   "execution_count": 24,
   "metadata": {
    "inputHidden": false,
    "outputHidden": false
   },
   "outputs": [
    {
     "data": {
      "image/png": "[encoded data removed]",
      "text/plain": [
       "<Figure size 1000x500 with 1 Axes>"
      ]
     },
     "metadata": {},
     "output_type": "display_data"
    }
   ],
   "source": [
    "colors = yearly.ReturnsPositive.map({True: 'g', False: 'r'})\n",
    "plt.figure(figsize=(10,5))\n",
    "plt.bar(yearly['Years'], yearly['Returns'], color=colors, align='center')\n",
    "plt.title('Yearly Returns')\n",
    "plt.xlabel('Date')\n",
    "plt.ylabel('Returns')\n",
    "plt.show()"
   ]
  },
  {
   "cell_type": "code",
   "execution_count": 25,
   "metadata": {
    "inputHidden": false,
    "outputHidden": false
   },
   "outputs": [],
   "source": [
    "dataset['Returns'] = dataset['Adj Close'].pct_change().dropna()"
   ]
  },
  {
   "cell_type": "code",
   "execution_count": 26,
   "metadata": {
    "inputHidden": false,
    "outputHidden": false
   },
   "outputs": [],
   "source": [
    "yearly_returns_avg = dataset['Returns'].groupby([dataset.index.year]).mean()"
   ]
  },
  {
   "cell_type": "code",
   "execution_count": 27,
   "metadata": {
    "inputHidden": false,
    "outputHidden": false
   },
   "outputs": [
    {
     "data": {
      "text/plain": [
       "Date\n",
       "2016   -0.002165\n",
       "2017    0.002653\n",
       "2018    0.002126\n",
       "2019    0.002819\n",
       "2020    0.004255\n",
       "Name: Returns, dtype: float64"
      ]
     },
     "execution_count": 27,
     "metadata": {},
     "output_type": "execute_result"
    }
   ],
   "source": [
    "yearly_returns_avg"
   ]
  },
  {
   "cell_type": "code",
   "execution_count": 28,
   "metadata": {
    "inputHidden": false,
    "outputHidden": false
   },
   "outputs": [
    {
     "data": {
      "image/png": "[encoded data removed]",
      "text/plain": [
       "<Figure size 1000x500 with 1 Axes>"
      ]
     },
     "metadata": {},
     "output_type": "display_data"
    }
   ],
   "source": [
    "colors = yearly.ReturnsPositive.map({True: 'g', False: 'r'})\n",
    "plt.figure(figsize=(10,5))\n",
    "plt.bar(yearly['Years'], yearly['Returns'], color=colors, align='center')\n",
    "plt.plot(yearly_returns_avg, marker='o', color='b')\n",
    "plt.title('Yearly Returns')\n",
    "plt.xlabel('Date')\n",
    "plt.ylabel('Returns')\n",
    "plt.show()"
   ]
  }
 ],
 "metadata": {
  "kernel_info": {
   "name": "python3"
  },
  "kernelspec": {
   "display_name": "Python 3",
   "language": "python",
   "name": "python3"
  },
  "language_info": {
   "codemirror_mode": {
    "name": "ipython",
    "version": 3
   },
   "file_extension": ".py",
   "mimetype": "text/x-python",
   "name": "python",
   "nbconvert_exporter": "python",
   "pygments_lexer": "ipython3",
   "version": "3.7.5"
  },
  "nteract": {
   "version": "0.15.0"
  }
 },
 "nbformat": 4,
 "nbformat_minor": 1
}
