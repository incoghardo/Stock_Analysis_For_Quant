{
 "cells": [
  {
   "cell_type": "markdown",
   "metadata": {},
   "source": [
    "# Basic Statistics in Python"
   ]
  },
  {
   "cell_type": "markdown",
   "metadata": {},
   "source": [
    "## Statistical Analysis"
   ]
  },
  {
   "cell_type": "code",
   "execution_count": 1,
   "metadata": {
    "inputHidden": false,
    "outputHidden": false
   },
   "outputs": [],
   "source": [
    "import numpy as np\n",
    "import pandas as pd\n",
    "import matplotlib.pyplot as plt\n",
    "import seaborn as sns\n",
    "from scipy import stats\n",
    "from scipy.stats import norm\n",
    "import math\n",
    "\n",
    "import warnings\n",
    "warnings.filterwarnings(\"ignore\")\n",
    "\n",
    "# fix_yahoo_finance is used to fetch data \n",
    "import yfinance as yf\n",
    "yf.pdr_override()"
   ]
  },
  {
   "cell_type": "code",
   "execution_count": 2,
   "metadata": {
    "inputHidden": false,
    "outputHidden": false
   },
   "outputs": [
    {
     "name": "stdout",
     "output_type": "stream",
     "text": [
      "[*********************100%***********************]  1 of 1 completed\n",
      "[*********************100%***********************]  1 of 1 completed\n"
     ]
    },
    {
     "data": {
      "text/html": [
       "<div>\n",
       "<style scoped>\n",
       "    .dataframe tbody tr th:only-of-type {\n",
       "        vertical-align: middle;\n",
       "    }\n",
       "\n",
       "    .dataframe tbody tr th {\n",
       "        vertical-align: top;\n",
       "    }\n",
       "\n",
       "    .dataframe thead th {\n",
       "        text-align: right;\n",
       "    }\n",
       "</style>\n",
       "<table border=\"1\" class=\"dataframe\">\n",
       "  <thead>\n",
       "    <tr style=\"text-align: right;\">\n",
       "      <th></th>\n",
       "      <th>Open</th>\n",
       "      <th>High</th>\n",
       "      <th>Low</th>\n",
       "      <th>Close</th>\n",
       "      <th>Adj Close</th>\n",
       "      <th>Volume</th>\n",
       "    </tr>\n",
       "    <tr>\n",
       "      <th>Date</th>\n",
       "      <th></th>\n",
       "      <th></th>\n",
       "      <th></th>\n",
       "      <th></th>\n",
       "      <th></th>\n",
       "      <th></th>\n",
       "    </tr>\n",
       "  </thead>\n",
       "  <tbody>\n",
       "    <tr>\n",
       "      <th>2017-01-03</th>\n",
       "      <td>115.800003</td>\n",
       "      <td>116.330002</td>\n",
       "      <td>114.760002</td>\n",
       "      <td>116.150002</td>\n",
       "      <td>110.691154</td>\n",
       "      <td>28781900</td>\n",
       "    </tr>\n",
       "    <tr>\n",
       "      <th>2017-01-04</th>\n",
       "      <td>115.849998</td>\n",
       "      <td>116.510002</td>\n",
       "      <td>115.750000</td>\n",
       "      <td>116.019997</td>\n",
       "      <td>110.567276</td>\n",
       "      <td>21118100</td>\n",
       "    </tr>\n",
       "    <tr>\n",
       "      <th>2017-01-05</th>\n",
       "      <td>115.919998</td>\n",
       "      <td>116.860001</td>\n",
       "      <td>115.809998</td>\n",
       "      <td>116.610001</td>\n",
       "      <td>111.129562</td>\n",
       "      <td>22193600</td>\n",
       "    </tr>\n",
       "    <tr>\n",
       "      <th>2017-01-06</th>\n",
       "      <td>116.779999</td>\n",
       "      <td>118.160004</td>\n",
       "      <td>116.470001</td>\n",
       "      <td>117.910004</td>\n",
       "      <td>112.368469</td>\n",
       "      <td>31751900</td>\n",
       "    </tr>\n",
       "    <tr>\n",
       "      <th>2017-01-09</th>\n",
       "      <td>117.949997</td>\n",
       "      <td>119.430000</td>\n",
       "      <td>117.940002</td>\n",
       "      <td>118.989998</td>\n",
       "      <td>113.397697</td>\n",
       "      <td>33561900</td>\n",
       "    </tr>\n",
       "  </tbody>\n",
       "</table>\n",
       "</div>"
      ],
      "text/plain": [
       "                  Open        High         Low       Close   Adj Close  \\\n",
       "Date                                                                     \n",
       "2017-01-03  115.800003  116.330002  114.760002  116.150002  110.691154   \n",
       "2017-01-04  115.849998  116.510002  115.750000  116.019997  110.567276   \n",
       "2017-01-05  115.919998  116.860001  115.809998  116.610001  111.129562   \n",
       "2017-01-06  116.779999  118.160004  116.470001  117.910004  112.368469   \n",
       "2017-01-09  117.949997  119.430000  117.940002  118.989998  113.397697   \n",
       "\n",
       "              Volume  \n",
       "Date                  \n",
       "2017-01-03  28781900  \n",
       "2017-01-04  21118100  \n",
       "2017-01-05  22193600  \n",
       "2017-01-06  31751900  \n",
       "2017-01-09  33561900  "
      ]
     },
     "execution_count": 2,
     "metadata": {},
     "output_type": "execute_result"
    }
   ],
   "source": [
    "# input\n",
    "symbol = 'AAPL'\n",
    "market = '^GSPC'\n",
    "start = '2017-01-01'\n",
    "end = '2019-01-01'\n",
    "\n",
    "# Read data \n",
    "df = yf.download(symbol,start,end)\n",
    "dfm = yf.download(market,start,end)\n",
    "\n",
    "# View Columns\n",
    "df.head()"
   ]
  },
  {
   "cell_type": "code",
   "execution_count": 3,
   "metadata": {
    "inputHidden": false,
    "outputHidden": false
   },
   "outputs": [
    {
     "data": {
      "text/plain": [
       "(502, 6)"
      ]
     },
     "execution_count": 3,
     "metadata": {},
     "output_type": "execute_result"
    }
   ],
   "source": [
    "df.shape"
   ]
  },
  {
   "cell_type": "code",
   "execution_count": 4,
   "metadata": {
    "inputHidden": false,
    "outputHidden": false
   },
   "outputs": [],
   "source": [
    "new_df = pd.DataFrame({symbol : df['Adj Close'], market : dfm['Adj Close']}, index=df.index)\n",
    "\n",
    "# compute returns\n",
    "new_df[['stock_returns','market_returns']] = new_df[[symbol,market]] / new_df[[symbol,market]].shift(1) -1\n",
    "new_df = new_df.dropna()\n",
    "covmat = np.cov(new_df[\"stock_returns\"],new_df[\"market_returns\"])\n",
    "\n",
    "# calculate measures now\n",
    "beta = covmat[0,1]/covmat[1,1]\n",
    "alpha= np.mean(new_df[\"stock_returns\"])-beta*np.mean(new_df[\"market_returns\"])"
   ]
  },
  {
   "cell_type": "code",
   "execution_count": 5,
   "metadata": {
    "inputHidden": false,
    "outputHidden": false
   },
   "outputs": [
    {
     "name": "stdout",
     "output_type": "stream",
     "text": [
      "Beta: 1.2747493870654318\n",
      "Alpha: 0.0004767761222041993\n"
     ]
    }
   ],
   "source": [
    "print('Beta:', beta)\n",
    "print('Alpha:', alpha)"
   ]
  },
  {
   "cell_type": "code",
   "execution_count": 6,
   "metadata": {
    "inputHidden": false,
    "outputHidden": false
   },
   "outputs": [],
   "source": [
    "close = df['Adj Close']"
   ]
  },
  {
   "cell_type": "markdown",
   "metadata": {},
   "source": [
    "## Mean is the average"
   ]
  },
  {
   "cell_type": "code",
   "execution_count": 7,
   "metadata": {
    "inputHidden": false,
    "outputHidden": false
   },
   "outputs": [
    {
     "data": {
      "text/plain": [
       "164.67274215211907"
      ]
     },
     "execution_count": 7,
     "metadata": {},
     "output_type": "execute_result"
    }
   ],
   "source": [
    "mean = np.mean(close)\n",
    "mean"
   ]
  },
  {
   "cell_type": "markdown",
   "metadata": {},
   "source": [
    "## Median is the value of middlemost value"
   ]
  },
  {
   "cell_type": "code",
   "execution_count": 8,
   "metadata": {
    "inputHidden": false,
    "outputHidden": false
   },
   "outputs": [
    {
     "data": {
      "text/plain": [
       "163.7230682373047"
      ]
     },
     "execution_count": 8,
     "metadata": {},
     "output_type": "execute_result"
    }
   ],
   "source": [
    "median = np.median(close)\n",
    "median"
   ]
  },
  {
   "cell_type": "markdown",
   "metadata": {},
   "source": [
    "## Mode is the most frequent value"
   ]
  },
  {
   "cell_type": "code",
   "execution_count": 9,
   "metadata": {
    "inputHidden": false,
    "outputHidden": false
   },
   "outputs": [
    {
     "name": "stdout",
     "output_type": "stream",
     "text": [
      "The modal value is 114.36023712158203 with a count of 2\n"
     ]
    }
   ],
   "source": [
    "mode = stats.mode(close)\n",
    "print(\"The modal value is {} with a count of {}\".format(mode.mode[0], mode.count[0]))"
   ]
  },
  {
   "cell_type": "markdown",
   "metadata": {},
   "source": [
    "## Range is a measure of how spread apart the values are"
   ]
  },
  {
   "cell_type": "code",
   "execution_count": 10,
   "metadata": {
    "inputHidden": false,
    "outputHidden": false
   },
   "outputs": [
    {
     "data": {
      "text/plain": [
       "116.73306274414062"
      ]
     },
     "execution_count": 10,
     "metadata": {},
     "output_type": "execute_result"
    }
   ],
   "source": [
    "range_of_stock = np.ptp(close)\n",
    "range_of_stock"
   ]
  },
  {
   "cell_type": "markdown",
   "metadata": {},
   "source": [
    "## Variance is a measure of how variable the data is"
   ]
  },
  {
   "cell_type": "code",
   "execution_count": 11,
   "metadata": {
    "inputHidden": false,
    "outputHidden": false
   },
   "outputs": [
    {
     "data": {
      "text/plain": [
       "713.2017543114086"
      ]
     },
     "execution_count": 11,
     "metadata": {},
     "output_type": "execute_result"
    }
   ],
   "source": [
    "variance = np.var(close)\n",
    "variance"
   ]
  },
  {
   "cell_type": "markdown",
   "metadata": {},
   "source": [
    "## Standard deviation is the square root of the variance and is measure how the data is spread out"
   ]
  },
  {
   "cell_type": "code",
   "execution_count": 12,
   "metadata": {
    "inputHidden": false,
    "outputHidden": false
   },
   "outputs": [
    {
     "data": {
      "text/plain": [
       "26.705837457593585"
      ]
     },
     "execution_count": 12,
     "metadata": {},
     "output_type": "execute_result"
    }
   ],
   "source": [
    "standard_deviation = np.std(close)\n",
    "standard_deviation"
   ]
  },
  {
   "cell_type": "markdown",
   "metadata": {},
   "source": [
    "## Standard error is the mean (SE of the mean) estimates the variability between sample means that you would obtain if you took multiple samples from the same population"
   ]
  },
  {
   "cell_type": "code",
   "execution_count": 13,
   "metadata": {
    "inputHidden": false,
    "outputHidden": false
   },
   "outputs": [
    {
     "data": {
      "text/plain": [
       "1.193128826167214"
      ]
     },
     "execution_count": 13,
     "metadata": {},
     "output_type": "execute_result"
    }
   ],
   "source": [
    "standard_error = stats.sem(close)\n",
    "standard_error"
   ]
  },
  {
   "cell_type": "markdown",
   "metadata": {},
   "source": [
    "## Z-Scores measure how many standard deviations an element is from the mean"
   ]
  },
  {
   "cell_type": "code",
   "execution_count": 14,
   "metadata": {
    "inputHidden": false,
    "outputHidden": false
   },
   "outputs": [
    {
     "name": "stdout",
     "output_type": "stream",
     "text": [
      "[2.02134038 2.02597901 2.0049242  1.95853334 1.91999389 1.91571122\n",
      " 1.89287289 1.91071663 1.9182098  1.88395159 1.88430898 1.89180301\n",
      " 1.88395159 1.88109677 1.88502205 1.81686359 1.81472297 1.81436587\n",
      " 1.82578575 1.83577721 1.57170702 1.5795573  1.55993033 1.51675139\n",
      " 1.47250258 1.45430288 1.42025493 1.43100746 1.38907467 1.32707125\n",
      " 1.30950977 1.31524399 1.3019826  1.26685906 1.25216583 1.27295324\n",
      " 1.26829262 1.25861655 1.25646536 1.1561159  1.18586174 1.15647357\n",
      " 1.17224325 1.1657914  1.18442876 1.19589778 1.17941046 1.17726098\n",
      " 1.18478643 1.13210141 1.12385947 1.1489464  1.09626195 1.15432295\n",
      " 1.09769551 1.11561695 1.12565127 1.11704879 1.01239638 1.00092908\n",
      " 1.00773861 1.01741411 1.01597998 0.97763223 1.00451268 1.01741411\n",
      " 1.02888313 1.03497617 1.09016891 1.08407759 1.11095632 1.0830017\n",
      " 1.10557978 1.12421771 1.06113898 1.06723145 1.01813117 0.98623356\n",
      " 1.01669705 1.01275577 1.01777293 0.9127617  0.87943167 0.89555789\n",
      " 0.91455464 0.82746371 0.68231121 0.64718824 0.6733522  0.62584889\n",
      " 0.5484746  0.56286901 0.57114752 0.75900272 0.67659185 0.65787849\n",
      " 0.62440905 0.63124658 0.64780075 0.62872857 0.63808297 0.63592435\n",
      " 0.66867387 0.65355897 0.5718663  0.62656824 0.60785431 0.57474484\n",
      " 0.58842047 0.80470795 0.93282348 0.89071785 0.94218073 0.97349154\n",
      " 1.04618521 0.89971571 0.94757898 0.91662984 0.92526546 0.9018749\n",
      " 0.91842907 0.99364417 0.91806854 0.99544283 0.98320704 1.00192154\n",
      " 0.98068789 1.02963104 0.97744882 0.9457809  0.92886563 0.92130818\n",
      " 0.8482517  0.80254819 0.7838354  0.7651209  0.73129265 0.75576479\n",
      " 0.75828394 0.69278491 0.66939379 0.6434818  0.74784681 0.78599402\n",
      " 0.81370466 0.76620021 0.51104732 0.56754792 0.53803804 0.45094712\n",
      " 0.40524303 0.36997551 0.5545945  0.47655514 0.39092976 0.32770419\n",
      " 0.3511873  0.46282694 0.47583236 0.48631006 0.39345805 0.38623314\n",
      " 0.41188458 0.39056809 0.33240024 0.28037457 0.2644769  0.24099436\n",
      " 0.23918656 0.31036154 0.31650486 0.3399874  0.43500659 0.33131636\n",
      " 0.35443837 0.39815525 0.44765262 0.38984531 0.43356161 0.43139499\n",
      " 0.5274975  0.62432392 0.67851792 0.72693027 0.63335663 0.59397585\n",
      " 0.62829776 0.59795027 0.6091496  0.58494257 0.62107171 0.55206563\n",
      " 0.55531785 0.53580801 0.53364025 0.51015542 0.53002579 0.49425832\n",
      " 0.38984531 0.36852938 0.39418083 0.53074971 0.52099479 0.52388418\n",
      " 0.49028505 0.51521371 0.47908571 0.27531742 0.14272181 0.05890367\n",
      " 0.13658021 0.0925028  0.06610364 0.12932978 0.14956125 0.20122753\n",
      " 0.18822154 0.16718959 0.14180897 0.04644638 0.03549883 0.03774563\n",
      " 0.00329916 0.00286416 0.11171401 0.17770499 0.17806781 0.14615991\n",
      " 0.10917601 0.02099244 0.06493976 0.03593212 0.00939201 0.01519365\n",
      " 0.03803569 0.02679465 0.02498342 0.0946719  0.05950037 0.08016836\n",
      " 0.07835542 0.14180897 0.2306437  0.16247525 0.15558687 0.17951794\n",
      " 0.17951794 0.0185289  0.01961678 0.03702057 0.03005886 0.07980555\n",
      " 0.07871767 0.10772474 0.17915455 0.15558687 0.15486181 0.15341111\n",
      " 0.18930828 0.25493758 0.22230405 0.32781809 0.33361916 0.30461208\n",
      " 0.25167452 0.25312407 0.15087368 0.03810788 0.05261084 0.07610805\n",
      " 0.11200407 0.09532478 0.08263475 0.34659924 0.49199857 0.25486597\n",
      " 0.38140967 0.54058576 0.47177681 0.24241363 0.18307106 0.07275813\n",
      " 0.13184893 0.1114609  0.09034495 0.06194752 0.11400919 0.22322967\n",
      " 0.34956082 0.32844602 0.31861625 0.2050254  0.2490788  0.27128777\n",
      " 0.26582609 0.20611899 0.27565586 0.38633161 0.44968002 0.38596822\n",
      " 0.33026524 0.33791068 0.31497551 0.21594876 0.21376443 0.069229\n",
      " 0.01887553 0.16122719 0.1238401  0.03744376 0.10515969 0.05783121\n",
      " 0.09787878 0.03562224 0.08160763 0.12493084 0.0359862  0.02481278\n",
      " 0.14131474 0.11182486 0.17371686 0.19519563 0.23488038 0.32298434\n",
      " 0.30842138 0.12493084 0.13282977 0.15030383 0.2340397  0.20819171\n",
      " 0.18743972 0.25661263 0.14957648 0.00977482 0.26218535 0.27383492\n",
      " 0.52649837 0.57491987 0.60732142 0.65501443 0.75258477 0.72627111\n",
      " 0.71019004 0.64769467 0.71128591 0.66779587 0.6429432  0.69118585\n",
      " 0.67400776 0.71786633 0.71019004 0.72590544 0.7010539  0.68643495\n",
      " 0.66340893 0.78657301 0.84468429 0.89877373 0.92326016 0.90425655\n",
      " 0.83993281 0.82275529 0.86112989 0.80338543 0.80704045 0.73540839\n",
      " 0.73175222 0.62028399 0.64988757 0.61187806 0.59214196 0.49163766\n",
      " 0.5742348  0.56436675 0.61334019 0.59908634 0.6747391  0.55559572\n",
      " 0.60968516 0.70361133 0.7990002  0.79059542 0.70032198 0.81544581\n",
      " 0.82640974 0.81106058 0.83079554 0.79242093 0.84651208 0.83043158\n",
      " 0.83664289 0.88744469 0.95396076 0.93166666 0.81361973 0.77451377\n",
      " 0.7884008  1.19809601 1.41335904 1.43528689 1.47475795 1.40312531\n",
      " 1.40824303 1.46781472 1.44507495 1.4942198  1.52649622 1.54446623\n",
      " 1.65742687 1.81366271 1.73591189 1.72050788 1.72087527 1.73701234\n",
      " 1.76158448 1.82686639 1.89141525 2.01171107 2.08689475 2.18225105\n",
      " 2.20902465 2.1543787  2.0161123  1.95009618 1.84116995 2.04361897\n",
      " 1.94166111 2.13750743 2.04325158 1.82466664 1.83786975 1.84263665\n",
      " 1.90351905 1.81659782 1.93139196 1.98273714 1.91782147 2.08396079\n",
      " 2.11293472 2.16868169 2.24276549 2.34509016 2.19545473 2.05975489\n",
      " 2.04068501 2.1543787  1.7689191  1.69886971 1.97980318 1.80559446\n",
      " 1.98126987 1.94606234 1.75644962 1.87711112 1.92625653 2.0025418\n",
      " 1.72234197 1.89508284 1.76671934 1.61781697 1.65669324 1.86060837\n",
      " 1.98383759 1.44324144 1.22722307 1.30717651 1.5338297  1.5069641\n",
      " 1.35901362 0.9799396  0.90854064 0.70869934 0.87836227 0.95638506\n",
      " 0.67410374 0.34729022 0.33992932 0.1746819  0.26043355 0.24644881\n",
      " 0.49303122 0.44187403 0.40617512 0.63582855 0.33661654 0.26411428\n",
      " 0.03482996 0.07568086 0.03998196 0.05727947 0.12536507 0.07594978\n",
      " 0.13262579 0.05423447 0.24487679 0.39429853 0.61879882 0.7623315\n",
      " 0.38178506 0.41932433 0.41637951 0.36080624]\n"
     ]
    }
   ],
   "source": [
    "z = np.abs(stats.zscore(close))\n",
    "print(z)"
   ]
  },
  {
   "cell_type": "markdown",
   "metadata": {},
   "source": [
    "##  Contingency Table shows correlations between two variables"
   ]
  },
  {
   "cell_type": "code",
   "execution_count": 15,
   "metadata": {
    "inputHidden": false,
    "outputHidden": false
   },
   "outputs": [
    {
     "name": "stdout",
     "output_type": "stream",
     "text": [
      "Low         114.760002  115.750000  115.809998  116.470001  117.940002  \\\n",
      "High                                                                     \n",
      "116.330002           1           0           0           0           0   \n",
      "116.510002           0           1           0           0           0   \n",
      "116.860001           0           0           1           0           0   \n",
      "118.160004           0           0           0           1           0   \n",
      "119.300003           0           0           0           0           0   \n",
      "...                ...         ...         ...         ...         ...   \n",
      "229.419998           0           0           0           0           0   \n",
      "229.669998           0           0           0           0           0   \n",
      "230.000000           0           0           0           0           0   \n",
      "232.350006           0           0           0           0           0   \n",
      "233.470001           0           0           0           0           0   \n",
      "\n",
      "Low         118.209999  118.220001  118.300003  118.599998  118.809998  ...  \\\n",
      "High                                                                    ...   \n",
      "116.330002           0           0           0           0           0  ...   \n",
      "116.510002           0           0           0           0           0  ...   \n",
      "116.860001           0           0           0           0           0  ...   \n",
      "118.160004           0           0           0           0           0  ...   \n",
      "119.300003           1           0           0           0           0  ...   \n",
      "...                ...         ...         ...         ...         ...  ...   \n",
      "229.419998           0           0           0           0           0  ...   \n",
      "229.669998           0           0           0           0           0  ...   \n",
      "230.000000           0           0           0           0           0  ...   \n",
      "232.350006           0           0           0           0           0  ...   \n",
      "233.470001           0           0           0           0           0  ...   \n",
      "\n",
      "Low         222.520004  222.570007  223.539993  224.020004  225.100006  \\\n",
      "High                                                                     \n",
      "116.330002           0           0           0           0           0   \n",
      "116.510002           0           0           0           0           0   \n",
      "116.860001           0           0           0           0           0   \n",
      "118.160004           0           0           0           0           0   \n",
      "119.300003           0           0           0           0           0   \n",
      "...                ...         ...         ...         ...         ...   \n",
      "229.419998           0           0           0           0           0   \n",
      "229.669998           0           0           0           0           1   \n",
      "230.000000           0           0           0           0           0   \n",
      "232.350006           0           0           0           0           0   \n",
      "233.470001           0           0           0           0           0   \n",
      "\n",
      "Low         226.000000  226.350006  226.630005  226.729996  229.779999  \n",
      "High                                                                    \n",
      "116.330002           0           0           0           0           0  \n",
      "116.510002           0           0           0           0           0  \n",
      "116.860001           0           0           0           0           0  \n",
      "118.160004           0           0           0           0           0  \n",
      "119.300003           0           0           0           0           0  \n",
      "...                ...         ...         ...         ...         ...  \n",
      "229.419998           0           1           0           0           0  \n",
      "229.669998           0           0           0           0           0  \n",
      "230.000000           0           0           1           0           0  \n",
      "232.350006           0           0           0           1           0  \n",
      "233.470001           0           0           0           0           1  \n",
      "\n",
      "[482 rows x 484 columns]\n"
     ]
    }
   ],
   "source": [
    "data_crosstab = pd.crosstab(df['High'], \n",
    "                            df['Low'],  \n",
    "                               margins = False) \n",
    "print(data_crosstab) "
   ]
  },
  {
   "cell_type": "markdown",
   "metadata": {},
   "source": [
    "## Scatter plot shows two variables that plot along two axes and it shows correlation or not"
   ]
  },
  {
   "cell_type": "code",
   "execution_count": 16,
   "metadata": {
    "inputHidden": false,
    "outputHidden": false
   },
   "outputs": [
    {
     "data": {
      "image/png": "[encoded data removed]",
      "text/plain": [
       "<Figure size 432x288 with 1 Axes>"
      ]
     },
     "metadata": {
      "needs_background": "light"
     },
     "output_type": "display_data"
    }
   ],
   "source": [
    "plt.scatter(df['Adj Close'], df['Open'], alpha=0.5)\n",
    "plt.title('Adj Close vs Open')\n",
    "plt.xlabel('Adj Close')\n",
    "plt.ylabel('Open')\n",
    "plt.show()"
   ]
  },
  {
   "cell_type": "markdown",
   "metadata": {},
   "source": [
    "## Regression is a measure of the relation between the mean value of one variable (e.g. output) and corresponding values of other variables"
   ]
  },
  {
   "cell_type": "code",
   "execution_count": 17,
   "metadata": {
    "inputHidden": false,
    "outputHidden": false
   },
   "outputs": [
    {
     "data": {
      "text/plain": [
       "0.993950975097968"
      ]
     },
     "execution_count": 17,
     "metadata": {},
     "output_type": "execute_result"
    }
   ],
   "source": [
    "from sklearn.linear_model import LinearRegression\n",
    "\n",
    "X = np.array(df['Open']).reshape(502,-1)\n",
    "y = np.array(df['Adj Close'])\n",
    "LR = LinearRegression().fit(X, y)\n",
    "LR.score(X, y)"
   ]
  },
  {
   "cell_type": "code",
   "execution_count": 18,
   "metadata": {
    "inputHidden": false,
    "outputHidden": false
   },
   "outputs": [
    {
     "data": {
      "text/plain": [
       "array([1.01250147])"
      ]
     },
     "execution_count": 18,
     "metadata": {},
     "output_type": "execute_result"
    }
   ],
   "source": [
    "LR.coef_"
   ]
  },
  {
   "cell_type": "code",
   "execution_count": 19,
   "metadata": {
    "inputHidden": false,
    "outputHidden": false
   },
   "outputs": [
    {
     "data": {
      "text/plain": [
       "-7.2279021489569"
      ]
     },
     "execution_count": 19,
     "metadata": {},
     "output_type": "execute_result"
    }
   ],
   "source": [
    "LR.intercept_"
   ]
  },
  {
   "cell_type": "code",
   "execution_count": 20,
   "metadata": {
    "inputHidden": false,
    "outputHidden": false
   },
   "outputs": [
    {
     "data": {
      "text/plain": [
       "array([110.01977125, 110.07039169, 110.14126648, 111.01201837,\n",
       "       112.19664323, 113.02689413, 112.99652032, 113.15852426,\n",
       "       113.37114865, 112.59151819, 114.27227434, 113.664775  ,\n",
       "       114.72789691, 114.27227434, 113.81665176, 114.6975231 ,\n",
       "       115.96314994, 116.43902687, 115.21390101, 115.43665257,\n",
       "       121.39015844, 122.35203947, 122.68615909, 123.51641771,\n",
       "       124.94403304, 125.76417221, 126.06791029, 126.88804946,\n",
       "       127.51579543, 127.91067038, 129.98630149, 130.13817053,\n",
       "       129.56105272, 130.70516888, 130.90766608, 131.86955484,\n",
       "       130.38117644, 131.62654893, 131.56580131, 132.38592503,\n",
       "       134.52230375, 133.28705072, 133.88442288, 133.5705499 ,\n",
       "       133.45917412, 133.24655746, 133.76292765, 133.35793324,\n",
       "       133.81355581, 133.92493159, 135.25130605, 135.53480522,\n",
       "       134.92729816, 136.65868247, 134.37043471, 135.79805004,\n",
       "       136.04105596, 133.90467724, 135.4436838 , 138.24830175,\n",
       "       138.76468739, 138.28881046, 138.27869101, 137.81293353,\n",
       "       138.79506119, 138.86592826, 138.29892991, 138.16731523,\n",
       "       137.49906055, 136.14231228, 136.45618527, 136.0208016 ,\n",
       "       135.94993453, 136.42581146, 135.75755678, 136.99280981,\n",
       "       138.0660589 , 138.48118821, 139.04818656, 138.49130766,\n",
       "       138.66343106, 139.68606743, 142.15655804, 140.18218326,\n",
       "       141.12381767, 141.36680813, 143.6651908 , 148.56569421,\n",
       "       148.32270374, 147.12794397, 149.40607228, 150.73244674,\n",
       "       150.66157967, 148.29232993, 145.93319965, 148.06957837,\n",
       "       148.69732434, 149.60856949, 148.5353204 , 148.42394462,\n",
       "       148.69732434, 148.11007163, 148.66695053, 147.85694627,\n",
       "       148.27207558, 149.04157113, 148.59606801, 149.73008017,\n",
       "       149.96295118, 149.90220356, 140.33406775, 141.77181799,\n",
       "       142.11606478, 137.88381605, 138.34955807, 138.22806284,\n",
       "       141.47818391, 140.1113162 , 140.36444156, 139.71644124,\n",
       "       141.78193744, 139.59493056, 139.06844092, 139.29119248,\n",
       "       139.02793221, 139.46331587, 138.25843665, 137.58006252,\n",
       "       137.45855184, 138.68368541, 139.31143138, 140.46568244,\n",
       "       140.09106184, 142.59194171, 143.45257414, 143.83731419,\n",
       "       145.13331484, 146.16607066, 144.63719901, 145.23457117,\n",
       "       146.4698242 , 148.03920457, 148.44419897, 144.53594268,\n",
       "       144.54606213, 143.73607331, 154.04333087, 151.78545692,\n",
       "       150.7932098 , 151.79557637, 153.35483729, 154.02307652,\n",
       "       154.67107684, 151.32983434, 154.08383958, 155.44058784,\n",
       "       156.73658849, 155.29883826, 152.60558064, 152.24107949,\n",
       "       152.98020124, 153.83071421, 155.20770138, 154.41795147,\n",
       "       154.91408275, 154.87358949, 158.61984184, 158.4578379 ,\n",
       "       159.63234331, 158.56921368, 157.51621895, 156.88845753,\n",
       "       155.64308505, 155.2785839 , 157.41496262, 154.64070303,\n",
       "       153.74971224, 153.22320715, 154.88370895, 154.27620188,\n",
       "       152.6460739 , 150.51983008, 146.20656393, 144.63719901,\n",
       "       146.44956984, 148.49482714, 148.58594856, 147.89745498,\n",
       "       148.96056916, 148.70744379, 148.32270374, 148.87956719,\n",
       "       149.679452  , 150.52994953, 150.7830749 , 150.69195347,\n",
       "       151.07670898, 151.46144903, 152.6460739 , 154.54958161,\n",
       "       155.19758193, 151.48170339, 151.3399538 , 151.62345297,\n",
       "       151.01594591, 151.64370733, 151.96769977, 154.05345032,\n",
       "       158.71096327, 162.7710886 , 164.76571774, 161.45484905,\n",
       "       168.94735376, 167.29697141, 168.85623233, 169.61560843,\n",
       "       170.07123101, 170.07123101, 168.44110302, 167.97534555,\n",
       "       164.86697406, 166.09209219, 165.9503426 , 165.1909665 ,\n",
       "       165.68709778, 168.29935343, 170.06111155, 170.01048339,\n",
       "       169.25110729, 167.56023168, 165.33271609, 164.84671971,\n",
       "       167.40834719, 163.94559402, 162.3660942 , 163.91522021,\n",
       "       165.39347916, 164.08734361, 167.07421985, 167.42860155,\n",
       "       167.32734522, 168.57273316, 169.83835999, 169.99022903,\n",
       "       169.82822509, 169.11947715, 169.63584734, 165.70735214,\n",
       "       164.9986042 , 165.90984934, 165.42385296, 165.05935182,\n",
       "       167.45897536, 167.46909481, 168.3803554 , 169.30173545,\n",
       "       169.50423265, 168.09685623, 169.54472592, 171.15459955,\n",
       "       172.89610331, 171.12422574, 174.38448171, 173.61498615,\n",
       "       172.2886117 , 172.2886117 , 172.23798354, 169.46372394,\n",
       "       166.92235081, 165.05935182, 160.37146506, 161.72821333,\n",
       "       162.03196686, 160.84734199, 153.86108802, 149.53770242,\n",
       "       157.900959  , 155.06595179, 151.80571127, 153.25358096,\n",
       "       156.74670794, 157.85033084, 164.68471577, 167.28685196,\n",
       "       166.97297898, 167.76272889, 166.71985361, 168.61322642,\n",
       "       171.32673839, 174.11111744, 174.27310593, 173.54410363,\n",
       "       167.73235508, 170.17248733, 172.90623821, 169.89910761,\n",
       "       170.44585161, 172.95686638, 175.31598121, 177.64473768,\n",
       "       175.34637047, 173.50361037, 173.65547941, 172.30886605,\n",
       "       170.20286114, 170.00034849, 164.89734787, 163.26721989,\n",
       "       162.94322745, 168.62334587, 162.11296883, 162.67996718,\n",
       "       161.49534231, 162.50784378, 159.71334529, 167.50960352,\n",
       "       165.87947554, 164.77585264, 167.93485228, 167.15522183,\n",
       "       168.3499816 , 169.73710367, 169.99022903, 171.46848798,\n",
       "       172.80498189, 168.70434784, 165.50485493, 161.68772006,\n",
       "       160.51321465, 157.42508207, 158.94383428, 158.82233905,\n",
       "       156.92896624, 161.2624713 , 170.19272624, 170.85086146,\n",
       "       173.25048501, 180.26711278, 180.07475048, 181.6542503 ,\n",
       "       182.85912952, 184.6310071 , 184.14499527, 181.88712132,\n",
       "       181.16825392, 183.12237435, 182.30225063, 183.12237435,\n",
       "       183.50712985, 181.4517531 , 183.9020048 , 183.35524536,\n",
       "       182.71737994, 182.83887517, 182.33262443, 183.11225489,\n",
       "       186.80787908, 188.25576422, 188.82276257, 189.33913276,\n",
       "       186.33200215, 186.51426045, 186.55475371, 187.59762899,\n",
       "       186.71675766, 185.1777511 , 183.00087911, 180.22661952,\n",
       "       181.4517531 , 182.36299824, 181.21886664, 178.4648614 ,\n",
       "       178.04974754, 180.31774095, 179.17362479, 181.39099003,\n",
       "       178.89012561, 182.90974224, 180.34811475, 180.5101187 ,\n",
       "       184.64112655, 185.86626013, 183.62862508, 184.67150036,\n",
       "       186.24088073, 186.68638385, 184.89425192, 186.94962867,\n",
       "       184.8335043 , 186.94962867, 185.83587087, 187.6280028 ,\n",
       "       188.24562932, 189.81500968, 190.19976519, 187.0711239 ,\n",
       "       185.45113082, 194.39152066, 195.8596447 , 202.3902761 ,\n",
       "       203.37240376, 204.70891312, 201.39802898, 204.92152977,\n",
       "       202.72440344, 204.69877821, 205.55941064, 204.60765679,\n",
       "       207.16928427, 208.88041423, 213.59867479, 212.28241979,\n",
       "       209.54866891, 210.10553236, 212.07992259, 212.63678604,\n",
       "       214.52003939, 215.67429045, 218.81305119, 222.11380042,\n",
       "       224.03756249, 224.62481519, 221.83030125, 217.39555531,\n",
       "       216.48429472, 213.50753792, 220.52418115, 219.08643091,\n",
       "       221.34430487, 217.69929339, 213.28478636, 214.0036692 ,\n",
       "       215.76542732, 216.31217132, 212.30267415, 215.26929604,\n",
       "       216.53492288, 219.39018444, 220.37229666, 223.57180501,\n",
       "       222.86305707, 225.69806428, 226.43718603, 223.58193991,\n",
       "       217.76005646, 219.20792614, 221.05068624, 209.97391767,\n",
       "       215.94767017, 216.69692682, 214.43903742, 217.85117788,\n",
       "       213.35566888, 213.55816608, 215.3097893 , 211.30029213,\n",
       "       218.15493141, 213.20379984, 211.3711592 , 214.70229769,\n",
       "       206.56177721, 212.36342176, 214.5605481 , 204.94178413,\n",
       "       199.62615141, 197.21639296, 201.31702701, 205.37715235,\n",
       "       200.89177825, 194.25989052, 186.79775963, 189.09612684,\n",
       "       183.5172493 , 185.65362802, 185.14737729, 173.37198024,\n",
       "       174.74898286, 169.89910761, 169.19035967, 166.42621953,\n",
       "       171.71147844, 177.7156202 , 175.31598121, 179.53812594,\n",
       "       175.98423589, 166.6793449 , 168.43098357, 159.83484052,\n",
       "       166.57810402, 165.30234228, 165.39347916, 163.8848464 ,\n",
       "       160.29046309, 160.21959602, 160.84734199, 155.17732757,\n",
       "       151.59307917, 142.77418456, 142.92606905, 150.56032334,\n",
       "       152.24107949, 153.28395477])"
      ]
     },
     "execution_count": 20,
     "metadata": {},
     "output_type": "execute_result"
    }
   ],
   "source": [
    "LR.predict(X)"
   ]
  },
  {
   "cell_type": "markdown",
   "metadata": {},
   "source": [
    "## Elementary Probability Theory the outcome that could happen"
   ]
  },
  {
   "cell_type": "markdown",
   "metadata": {},
   "source": [
    "### Monte Carlo method is an experimentals of computational algorithms that rely on repeated random samples. "
   ]
  },
  {
   "cell_type": "code",
   "execution_count": 21,
   "metadata": {
    "inputHidden": false,
    "outputHidden": false
   },
   "outputs": [],
   "source": [
    "df['Returns'] = df['Adj Close'].pct_change()\n",
    "df['Returns'] = df['Returns'].dropna()"
   ]
  },
  {
   "cell_type": "code",
   "execution_count": 22,
   "metadata": {
    "inputHidden": false,
    "outputHidden": false
   },
   "outputs": [],
   "source": [
    "values = []\n",
    "S = df['Returns'][-1] #Starting stock price \n",
    "T = 252 #Number of trading days\n",
    "mu = df['Returns'].mean() #Mean\n",
    "sigma = df['Returns'].std()*math.sqrt(252) #Volatility"
   ]
  },
  {
   "cell_type": "code",
   "execution_count": null,
   "metadata": {
    "inputHidden": false,
    "outputHidden": false
   },
   "outputs": [],
   "source": [
    "for i in range(10000):\n",
    "    # Create list of daily returns using random normal distribution\n",
    "    daily_returns=np.random.normal(mu/T,sigma/math.sqrt(T),T)+1\n",
    "    \n",
    "    # Set starting price and create price series generated by above random daily returns\n",
    "    price_list = [S]\n",
    "    \n",
    "    for x in daily_returns:\n",
    "        price_list.append(price_list[-1]*x)\n",
    "\n",
    "    # Plot the data\n",
    "    plt.plot(price_list)\n",
    "plt.show()"
   ]
  },
  {
   "cell_type": "markdown",
   "metadata": {},
   "source": [
    "## Random variables and probability distributions"
   ]
  },
  {
   "cell_type": "markdown",
   "metadata": {},
   "source": [
    "https://www.investopedia.com/articles/06/probabilitydistribution.asp"
   ]
  },
  {
   "cell_type": "markdown",
   "metadata": {},
   "source": [
    "### Cumulative Distribution "
   ]
  },
  {
   "cell_type": "code",
   "execution_count": null,
   "metadata": {
    "inputHidden": false,
    "outputHidden": false
   },
   "outputs": [],
   "source": [
    "data = df['Adj Close']\n",
    "values, base = np.histogram(data, bins=40)\n",
    "#evaluate the cumulative\n",
    "cumulative = np.cumsum(values)\n",
    "# plot the cumulative function\n",
    "plt.plot(base[:-1], cumulative, c='blue')\n",
    "#plot the survival function\n",
    "plt.plot(base[:-1], len(data)-cumulative, c='green')\n",
    "\n",
    "plt.show()"
   ]
  },
  {
   "cell_type": "code",
   "execution_count": null,
   "metadata": {
    "inputHidden": false,
    "outputHidden": false
   },
   "outputs": [],
   "source": [
    "sorted_data = np.sort(data)  # Or data.sort(), if data can be modified\n",
    "\n",
    "# Cumulative counts:\n",
    "plt.step(sorted_data, np.arange(sorted_data.size))  # From 0 to the number of data points-1\n",
    "plt.step(sorted_data[::-1], np.arange(sorted_data.size))  # From the number of data points-1 to 0\n",
    "\n",
    "plt.show()"
   ]
  },
  {
   "cell_type": "markdown",
   "metadata": {},
   "source": [
    "### Probability Density Function"
   ]
  },
  {
   "cell_type": "markdown",
   "metadata": {},
   "source": [
    "Probability Density Function (PDF) is continuous random variable and have value that is given sample in the sample space can be interpreted as providing a relative likelihood that the value of the random variable would equal that sample. (Wikipedia)"
   ]
  },
  {
   "cell_type": "code",
   "execution_count": null,
   "metadata": {
    "inputHidden": false,
    "outputHidden": false
   },
   "outputs": [],
   "source": [
    "values = df['Returns'][1:]\n",
    "x = np.linspace(values.min(), values.max(), len(values))\n",
    "loc, scale = stats.norm.fit(values)\n",
    "param_density = stats.norm.pdf(x, loc=loc, scale=scale)\n",
    "label = 'mean=%.4f, std=%.4f' % (loc, scale)\n",
    "\n",
    "fig, ax = plt.subplots(figsize=(10, 6))\n",
    "ax.hist(values, bins=30, normed=True)\n",
    "ax.plot(x, param_density, 'r-', label=label)\n",
    "ax.legend(loc='best')\n",
    "ax.set_title(\"Probability Density Function\")"
   ]
  },
  {
   "cell_type": "code",
   "execution_count": null,
   "metadata": {
    "inputHidden": false,
    "outputHidden": false
   },
   "outputs": [],
   "source": [
    "sns.distplot(df['Returns'].dropna(),bins=100,color='red')"
   ]
  },
  {
   "cell_type": "markdown",
   "metadata": {},
   "source": [
    "## Cumulative Probability Distribution"
   ]
  },
  {
   "cell_type": "code",
   "execution_count": null,
   "metadata": {
    "inputHidden": false,
    "outputHidden": false
   },
   "outputs": [],
   "source": [
    "values = df['Returns'][1:]\n",
    "x = np.linspace(values.min(), values.max(), len(values))\n",
    "loc, scale = stats.norm.fit(values)\n",
    "param_density = stats.norm.cdf(x, loc=loc, scale=scale)\n",
    "label = 'mean=%.4f, std=%.4f' % (loc, scale)\n",
    "\n",
    "fig, ax = plt.subplots(figsize=(10, 6))\n",
    "#ax.hist(values, bins=30, normed=True)\n",
    "ax.plot(x, param_density, 'r-', label=label)\n",
    "ax.legend(loc='best')\n",
    "ax.set_title(\"Cumulative Probability Distribution\")"
   ]
  },
  {
   "cell_type": "markdown",
   "metadata": {},
   "source": [
    "## Binomial Distribution"
   ]
  },
  {
   "cell_type": "code",
   "execution_count": null,
   "metadata": {
    "inputHidden": false,
    "outputHidden": false
   },
   "outputs": [],
   "source": [
    "from scipy.stats import binom\n",
    "\n",
    "n = len(df['Returns'])\n",
    "p = df['Returns'].mean()\n",
    "k = np.arange(0,21)\n",
    "binomial = binom.pmf(k,n,p)\n",
    "\n",
    "plt.plot(k, binomial, 'o-')\n",
    "plt.title(\"Binomial: n=%i, p=%.2f\" % (n,p), fontsize=15)\n",
    "plt.xlabel(\"Number of successes\", fontsize=15)\n",
    "plt.ylabel(\"Probability of successes\", fontsize=15)\n",
    "plt.show()"
   ]
  },
  {
   "cell_type": "code",
   "execution_count": null,
   "metadata": {
    "inputHidden": false,
    "outputHidden": false
   },
   "outputs": [],
   "source": [
    "s = np.random.uniform(values.min(), values.max(), len(values))\n",
    "\n",
    "import matplotlib.pyplot as plt\n",
    "count, bins, ignored = plt.hist(s, 15, density=True)\n",
    "plt.plot(bins, np.ones_like(bins), linewidth=2, color='r')\n",
    "plt.show()"
   ]
  },
  {
   "cell_type": "code",
   "execution_count": null,
   "metadata": {
    "inputHidden": false,
    "outputHidden": false
   },
   "outputs": [],
   "source": [
    "binom_sim = binom.rvs(n = n, p = p, size=10000)\n",
    "print(\"Mean: %f\" % np.mean(binom_sim))\n",
    "print(\"SD: %f\" % np.std(binom_sim, ddof=1))\n",
    "plt.hist(binom_sim, bins = 10, normed = True)\n",
    "plt.xlabel(\"x\")\n",
    "plt.ylabel(\"Density\")\n",
    "plt.show()"
   ]
  },
  {
   "cell_type": "markdown",
   "metadata": {},
   "source": [
    "## Poisson Distribution"
   ]
  },
  {
   "cell_type": "code",
   "execution_count": null,
   "metadata": {
    "inputHidden": false,
    "outputHidden": false
   },
   "outputs": [],
   "source": [
    "rate = 3 # Error Rate\n",
    "n = np.arange(0,10) # Number of Trials\n",
    "y = stats.poisson.pmf(n, rate)\n",
    "y"
   ]
  },
  {
   "cell_type": "code",
   "execution_count": null,
   "metadata": {
    "inputHidden": false,
    "outputHidden": false
   },
   "outputs": [],
   "source": [
    "plt.plot(n, y, 'o-')\n",
    "plt.title('Poisson: $\\lambda$ =%i' % rate)\n",
    "plt.ylabel('Probability Error')\n",
    "plt.xlabel('Number of Errors (out of 100 trials)')\n",
    "plt.show()"
   ]
  },
  {
   "cell_type": "code",
   "execution_count": null,
   "metadata": {
    "inputHidden": false,
    "outputHidden": false
   },
   "outputs": [],
   "source": [
    "data = stats.poisson.rvs(mu=3, loc=0, size=100)\n",
    "print(\"Mean: %f\" % np.mean(data))\n",
    "print(\"Standard Deviation: %f\" % np.std(data, ddof=1))\n",
    "\n",
    "plt.hist(data, bins = 9, normed = True)\n",
    "plt.xlim(0,10)\n",
    "plt.xlabel('Number of Errors (out of 100 trials)')\n",
    "plt.title('Simulating Poisson Random Variables')\n",
    "plt.show()"
   ]
  },
  {
   "cell_type": "markdown",
   "metadata": {},
   "source": [
    "## Beta Distribution"
   ]
  },
  {
   "cell_type": "code",
   "execution_count": null,
   "metadata": {
    "inputHidden": false,
    "outputHidden": false
   },
   "outputs": [],
   "source": [
    "alpha = alpha\n",
    "beta = beta\n",
    "x = np.arange(0, 1, 0.01)\n",
    "y = stats.beta.pdf(x, alpha, beta)\n",
    "plt.plot(x, y)\n",
    "plt.title('Beta Distribution: alpha=%.1f, beta=%.1f' % (alpha,beta))\n",
    "plt.xlabel('Range')\n",
    "plt.ylabel('Probability density')\n",
    "plt.show()"
   ]
  },
  {
   "cell_type": "markdown",
   "metadata": {},
   "source": [
    "## Exponential Distribution"
   ]
  },
  {
   "cell_type": "code",
   "execution_count": null,
   "metadata": {
    "inputHidden": false,
    "outputHidden": false
   },
   "outputs": [],
   "source": [
    "lambd = 0.5 # lambda\n",
    "x = np.arange(0, 1, 0.01)\n",
    "y = lambd * np.exp(-lambd * x)\n",
    "plt.plot(x, y)\n",
    "plt.title('Exponential: $lambda\\$ = %.2f' % lambd)\n",
    "plt.xlabel(\"Range\")\n",
    "plt.ylabel(\"Probability density\")\n",
    "plt.show()"
   ]
  },
  {
   "cell_type": "markdown",
   "metadata": {},
   "source": [
    "## Lognormal Distribution "
   ]
  },
  {
   "cell_type": "code",
   "execution_count": null,
   "metadata": {
    "inputHidden": false,
    "outputHidden": false
   },
   "outputs": [],
   "source": [
    "from scipy.stats import lognorm\n",
    "\n",
    "s = np.random.lognormal(mu, sigma, 1000)\n",
    "\n",
    "count, bins, ignored = plt.hist(s, 100, normed=True, align='mid')\n",
    "x = np.linspace(min(bins), max(bins), 10000)\n",
    "pdf = (np.exp(-(np.log(x) - mu)**2 / (2 * sigma**2)) / (x * sigma * np.sqrt(2 * np.pi)))\n",
    "\n",
    "plt.plot(x, pdf, linewidth=2, color='r')\n",
    "plt.xlabel('Range')\n",
    "plt.ylabel('Probability')\n",
    "plt.axis('tight')\n",
    "plt.show()"
   ]
  }
 ],
 "metadata": {
  "kernel_info": {
   "name": "python3"
  },
  "kernelspec": {
   "display_name": "Python 3",
   "language": "python",
   "name": "python3"
  },
  "language_info": {
   "codemirror_mode": {
    "name": "ipython",
    "version": 3
   },
   "file_extension": ".py",
   "mimetype": "text/x-python",
   "name": "python",
   "nbconvert_exporter": "python",
   "pygments_lexer": "ipython3",
   "version": "3.7.5"
  },
  "nteract": {
   "version": "0.14.3"
  }
 },
 "nbformat": 4,
 "nbformat_minor": 1
}
