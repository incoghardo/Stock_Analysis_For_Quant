{
 "cells": [
  {
   "cell_type": "markdown",
   "metadata": {},
   "source": [
    "# Stock Linear Regression"
   ]
  },
  {
   "cell_type": "code",
   "execution_count": 2,
   "metadata": {
    "inputHidden": false,
    "outputHidden": false
   },
   "outputs": [],
   "source": [
    "import numpy as np\n",
    "import pandas as pd\n",
    "import matplotlib.pyplot as plt\n",
    "import math\n",
    "\n",
    "import warnings\n",
    "warnings.filterwarnings(\"ignore\")\n",
    "\n",
    "# fix_yahoo_finance is used to fetch data \n",
    "import yfinance as yf\n",
    "yf.pdr_override()"
   ]
  },
  {
   "cell_type": "code",
   "execution_count": 3,
   "metadata": {
    "inputHidden": false,
    "outputHidden": false
   },
   "outputs": [
    {
     "name": "stdout",
     "output_type": "stream",
     "text": [
      "[*********************100%***********************]  1 of 1 completed\n"
     ]
    },
    {
     "data": {
      "text/html": [
       "<div>\n",
       "<style scoped>\n",
       "    .dataframe tbody tr th:only-of-type {\n",
       "        vertical-align: middle;\n",
       "    }\n",
       "\n",
       "    .dataframe tbody tr th {\n",
       "        vertical-align: top;\n",
       "    }\n",
       "\n",
       "    .dataframe thead th {\n",
       "        text-align: right;\n",
       "    }\n",
       "</style>\n",
       "<table border=\"1\" class=\"dataframe\">\n",
       "  <thead>\n",
       "    <tr style=\"text-align: right;\">\n",
       "      <th></th>\n",
       "      <th>Open</th>\n",
       "      <th>High</th>\n",
       "      <th>Low</th>\n",
       "      <th>Close</th>\n",
       "      <th>Adj Close</th>\n",
       "      <th>Volume</th>\n",
       "    </tr>\n",
       "    <tr>\n",
       "      <th>Date</th>\n",
       "      <th></th>\n",
       "      <th></th>\n",
       "      <th></th>\n",
       "      <th></th>\n",
       "      <th></th>\n",
       "      <th></th>\n",
       "    </tr>\n",
       "  </thead>\n",
       "  <tbody>\n",
       "    <tr>\n",
       "      <th>2012-01-03</th>\n",
       "      <td>5.53</td>\n",
       "      <td>5.59</td>\n",
       "      <td>5.44</td>\n",
       "      <td>5.48</td>\n",
       "      <td>5.48</td>\n",
       "      <td>12675100</td>\n",
       "    </tr>\n",
       "    <tr>\n",
       "      <th>2012-01-04</th>\n",
       "      <td>5.47</td>\n",
       "      <td>5.49</td>\n",
       "      <td>5.41</td>\n",
       "      <td>5.46</td>\n",
       "      <td>5.46</td>\n",
       "      <td>8034900</td>\n",
       "    </tr>\n",
       "    <tr>\n",
       "      <th>2012-01-05</th>\n",
       "      <td>5.45</td>\n",
       "      <td>5.57</td>\n",
       "      <td>5.35</td>\n",
       "      <td>5.46</td>\n",
       "      <td>5.46</td>\n",
       "      <td>11476900</td>\n",
       "    </tr>\n",
       "    <tr>\n",
       "      <th>2012-01-06</th>\n",
       "      <td>5.44</td>\n",
       "      <td>5.52</td>\n",
       "      <td>5.39</td>\n",
       "      <td>5.43</td>\n",
       "      <td>5.43</td>\n",
       "      <td>12938600</td>\n",
       "    </tr>\n",
       "    <tr>\n",
       "      <th>2012-01-09</th>\n",
       "      <td>5.42</td>\n",
       "      <td>5.60</td>\n",
       "      <td>5.38</td>\n",
       "      <td>5.59</td>\n",
       "      <td>5.59</td>\n",
       "      <td>12585400</td>\n",
       "    </tr>\n",
       "  </tbody>\n",
       "</table>\n",
       "</div>"
      ],
      "text/plain": [
       "            Open  High   Low  Close  Adj Close    Volume\n",
       "Date                                                    \n",
       "2012-01-03  5.53  5.59  5.44   5.48       5.48  12675100\n",
       "2012-01-04  5.47  5.49  5.41   5.46       5.46   8034900\n",
       "2012-01-05  5.45  5.57  5.35   5.46       5.46  11476900\n",
       "2012-01-06  5.44  5.52  5.39   5.43       5.43  12938600\n",
       "2012-01-09  5.42  5.60  5.38   5.59       5.59  12585400"
      ]
     },
     "execution_count": 3,
     "metadata": {},
     "output_type": "execute_result"
    }
   ],
   "source": [
    "# input\n",
    "symbols = 'AMD'\n",
    "start = '2012-01-01'\n",
    "end = '2019-01-01'\n",
    "\n",
    "# Read data \n",
    "dataset = yf.download(symbols,start,end)\n",
    "\n",
    "# View Columns\n",
    "dataset.head()"
   ]
  },
  {
   "cell_type": "code",
   "execution_count": 4,
   "metadata": {
    "inputHidden": false,
    "outputHidden": false
   },
   "outputs": [],
   "source": [
    "dataset['Returns'] = np.log(dataset['Adj Close'] / dataset['Adj Close'].shift(1))"
   ]
  },
  {
   "cell_type": "code",
   "execution_count": 5,
   "metadata": {
    "inputHidden": false,
    "outputHidden": false
   },
   "outputs": [],
   "source": [
    "dataset = dataset.dropna()"
   ]
  },
  {
   "cell_type": "code",
   "execution_count": 6,
   "metadata": {
    "inputHidden": false,
    "outputHidden": false
   },
   "outputs": [],
   "source": [
    "X = dataset['Open']\n",
    "Y = dataset['Adj Close']"
   ]
  },
  {
   "cell_type": "code",
   "execution_count": 7,
   "metadata": {
    "inputHidden": false,
    "outputHidden": false
   },
   "outputs": [
    {
     "data": {
      "image/png": "[encoded data removed]",
      "text/plain": [
       "<Figure size 432x288 with 1 Axes>"
      ]
     },
     "metadata": {
      "needs_background": "light"
     },
     "output_type": "display_data"
    }
   ],
   "source": [
    "plt.scatter(X,Y)\n",
    "plt.xlabel('Open')\n",
    "plt.ylabel('Adj Close')\n",
    "plt.title('Stock Linear Regression')\n",
    "plt.show()"
   ]
  },
  {
   "cell_type": "code",
   "execution_count": 8,
   "metadata": {
    "inputHidden": false,
    "outputHidden": false
   },
   "outputs": [],
   "source": [
    "from sklearn.model_selection import train_test_split"
   ]
  },
  {
   "cell_type": "code",
   "execution_count": 9,
   "metadata": {
    "inputHidden": false,
    "outputHidden": false
   },
   "outputs": [],
   "source": [
    "X_train,X_test,y_train,y_test=train_test_split(X,Y,test_size=0.2,random_state=0)"
   ]
  },
  {
   "cell_type": "code",
   "execution_count": 10,
   "metadata": {
    "inputHidden": false,
    "outputHidden": false
   },
   "outputs": [],
   "source": [
    "X_train = np.array(X_train).reshape(-1,1)\n",
    "y_train = np.array(y_train).reshape(-1,1)\n",
    "X_test = np.array(X_test).reshape(-1,1)\n",
    "y_test = np.array(y_test).reshape(-1,1)"
   ]
  },
  {
   "cell_type": "code",
   "execution_count": 11,
   "metadata": {
    "inputHidden": false,
    "outputHidden": false
   },
   "outputs": [
    {
     "data": {
      "text/plain": [
       "(1407, 1)"
      ]
     },
     "execution_count": 11,
     "metadata": {},
     "output_type": "execute_result"
    }
   ],
   "source": [
    "X_train.shape"
   ]
  },
  {
   "cell_type": "code",
   "execution_count": 12,
   "metadata": {
    "inputHidden": false,
    "outputHidden": false
   },
   "outputs": [
    {
     "data": {
      "text/plain": [
       "LinearRegression(copy_X=True, fit_intercept=True, n_jobs=None, normalize=False)"
      ]
     },
     "execution_count": 12,
     "metadata": {},
     "output_type": "execute_result"
    }
   ],
   "source": [
    "from sklearn.linear_model import LinearRegression\n",
    "\n",
    "linregression=LinearRegression()\n",
    "linregression.fit(X_train,y_train)"
   ]
  },
  {
   "cell_type": "code",
   "execution_count": 13,
   "metadata": {
    "inputHidden": false,
    "outputHidden": false
   },
   "outputs": [
    {
     "data": {
      "text/plain": [
       "array([[13.61630371],\n",
       "       [ 4.16396671],\n",
       "       [ 3.65599099],\n",
       "       [ 4.08428428],\n",
       "       [11.24575001],\n",
       "       [14.27368518],\n",
       "       [10.399123  ],\n",
       "       [ 2.17190431],\n",
       "       [29.8117732 ],\n",
       "       [18.09844465],\n",
       "       [ 4.05440361],\n",
       "       [ 2.52051518],\n",
       "       [16.54463633],\n",
       "       [ 4.23368908],\n",
       "       [ 2.51055487],\n",
       "       [ 3.3472211 ],\n",
       "       [ 2.60019761],\n",
       "       [ 2.29142795],\n",
       "       [ 3.98468125],\n",
       "       [ 5.74765666],\n",
       "       [ 5.01059372],\n",
       "       [ 4.14404611],\n",
       "       [ 5.82733909],\n",
       "       [ 6.99269581],\n",
       "       [ 2.08226134],\n",
       "       [11.425035  ],\n",
       "       [ 9.92102748],\n",
       "       [ 3.54642741],\n",
       "       [ 3.90499882],\n",
       "       [ 7.2915054 ],\n",
       "       [11.13618595],\n",
       "       [11.97285241],\n",
       "       [ 4.1241255 ],\n",
       "       [ 2.37111038],\n",
       "       [ 3.85519706],\n",
       "       [ 9.96086869],\n",
       "       [ 6.75364853],\n",
       "       [ 2.40099153],\n",
       "       [ 3.70579251],\n",
       "       [ 3.08825296],\n",
       "       [ 4.31337151],\n",
       "       [ 1.972698  ],\n",
       "       [ 5.45880762],\n",
       "       [ 2.7496024 ],\n",
       "       [14.2537641 ],\n",
       "       [ 1.76353138],\n",
       "       [ 3.24761806],\n",
       "       [16.60439767],\n",
       "       [ 1.95277739],\n",
       "       [12.19197957],\n",
       "       [ 4.13408604],\n",
       "       [ 1.91293606],\n",
       "       [22.83955396],\n",
       "       [ 2.9089675 ],\n",
       "       [ 4.06436368],\n",
       "       [ 8.90507602],\n",
       "       [ 1.93285667],\n",
       "       [ 3.99464155],\n",
       "       [ 2.35118978],\n",
       "       [ 2.7595627 ],\n",
       "       [13.68602655],\n",
       "       [10.26963882],\n",
       "       [ 4.034483  ],\n",
       "       [ 7.10225939],\n",
       "       [ 3.3571814 ],\n",
       "       [ 4.02452246],\n",
       "       [11.00670177],\n",
       "       [ 2.72968179],\n",
       "       [ 1.9826583 ],\n",
       "       [ 2.56035639],\n",
       "       [ 2.54043578],\n",
       "       [ 7.5504733 ],\n",
       "       [13.39717751],\n",
       "       [ 3.10817357],\n",
       "       [ 3.75559402],\n",
       "       [ 8.0783701 ],\n",
       "       [11.73380513],\n",
       "       [ 2.39103123],\n",
       "       [ 3.43686407],\n",
       "       [14.35336761],\n",
       "       [14.81154206],\n",
       "       [ 2.41095184],\n",
       "       [ 2.29142795],\n",
       "       [ 3.6958322 ],\n",
       "       [ 2.67988027],\n",
       "       [12.40114619],\n",
       "       [12.00273309],\n",
       "       [ 3.14801502],\n",
       "       [20.25983269],\n",
       "       [ 4.01456239],\n",
       "       [13.69598614],\n",
       "       [ 7.43094965],\n",
       "       [11.46487621],\n",
       "       [ 3.39702285],\n",
       "       [12.43102686],\n",
       "       [ 2.53047548],\n",
       "       [14.95098583],\n",
       "       [ 6.27555347],\n",
       "       [ 6.09626753],\n",
       "       [ 2.63007852],\n",
       "       [12.96888373],\n",
       "       [ 3.60618923],\n",
       "       [ 2.69980088],\n",
       "       [ 5.76757727],\n",
       "       [ 3.06833236],\n",
       "       [ 7.81940173],\n",
       "       [11.26567014],\n",
       "       [13.21789156],\n",
       "       [ 6.7835292 ],\n",
       "       [ 4.08428428],\n",
       "       [11.15610704],\n",
       "       [12.90912144],\n",
       "       [ 4.06436368],\n",
       "       [ 6.34527536],\n",
       "       [ 3.81535585],\n",
       "       [ 1.8133329 ],\n",
       "       [13.09836792],\n",
       "       [ 6.89309278],\n",
       "       [ 2.60019761],\n",
       "       [ 2.77948331],\n",
       "       [16.33546876],\n",
       "       [15.27967609],\n",
       "       [ 4.10420489],\n",
       "       [ 6.94289406],\n",
       "       [ 1.89301545],\n",
       "       [ 4.04444307],\n",
       "       [ 7.39110844],\n",
       "       [13.69598614],\n",
       "       [ 2.71972149],\n",
       "       [32.87955149],\n",
       "       [10.92701934],\n",
       "       [ 8.85527427],\n",
       "       [ 3.94484003],\n",
       "       [13.29757399],\n",
       "       [ 3.95480034],\n",
       "       [11.38519378],\n",
       "       [12.34138389],\n",
       "       [12.12225673],\n",
       "       [10.72781326],\n",
       "       [ 3.71575281],\n",
       "       [11.23578947],\n",
       "       [20.16022918],\n",
       "       [ 2.88904689],\n",
       "       [ 2.63007852],\n",
       "       [ 4.18388732],\n",
       "       [ 4.01456239],\n",
       "       [31.64447098],\n",
       "       [ 7.46083033],\n",
       "       [19.03471463],\n",
       "       [ 5.92694213],\n",
       "       [ 2.7396421 ],\n",
       "       [22.41126019],\n",
       "       [ 2.64003906],\n",
       "       [ 2.46075336],\n",
       "       [ 2.55039609],\n",
       "       [ 1.70376956],\n",
       "       [ 7.48075093],\n",
       "       [ 3.70579251],\n",
       "       [ 3.64603068],\n",
       "       [ 2.9089675 ],\n",
       "       [ 5.6779343 ],\n",
       "       [ 8.15805253],\n",
       "       [ 4.15400665],\n",
       "       [ 3.60618923],\n",
       "       [ 2.01253921],\n",
       "       [ 4.13408604],\n",
       "       [ 2.76952301],\n",
       "       [18.35741302],\n",
       "       [12.48082862],\n",
       "       [31.02693073],\n",
       "       [ 2.70976119],\n",
       "       [ 3.82531615],\n",
       "       [ 3.82531615],\n",
       "       [ 1.76353138],\n",
       "       [ 4.08428428],\n",
       "       [10.76765448],\n",
       "       [ 2.61015791],\n",
       "       [12.43102686],\n",
       "       [ 3.5265068 ],\n",
       "       [ 3.20777685],\n",
       "       [ 4.41297454],\n",
       "       [12.50074875],\n",
       "       [ 2.48067396],\n",
       "       [ 7.43094965],\n",
       "       [ 3.71575281],\n",
       "       [ 6.82337041],\n",
       "       [13.64618534],\n",
       "       [ 7.70983816],\n",
       "       [ 7.95884599],\n",
       "       [16.25578633],\n",
       "       [13.08840738],\n",
       "       [ 5.18987918],\n",
       "       [ 9.06444088],\n",
       "       [ 4.37313333],\n",
       "       [ 4.88110953],\n",
       "       [ 5.72773606],\n",
       "       [ 3.87511767],\n",
       "       [ 5.10023621],\n",
       "       [ 2.35118978],\n",
       "       [ 5.76757727],\n",
       "       [ 4.2934509 ],\n",
       "       [ 2.29142795],\n",
       "       [11.69396391],\n",
       "       [ 7.50067202],\n",
       "       [ 2.05238043],\n",
       "       [ 2.7496024 ],\n",
       "       [11.46487621],\n",
       "       [ 4.02452246],\n",
       "       [ 2.79940392],\n",
       "       [ 6.19587057],\n",
       "       [ 4.34325265],\n",
       "       [ 7.7197987 ],\n",
       "       [ 7.12218   ],\n",
       "       [ 2.63007852],\n",
       "       [ 6.65404501],\n",
       "       [ 3.11813387],\n",
       "       [ 6.7835292 ],\n",
       "       [ 5.44884708],\n",
       "       [ 2.17190431],\n",
       "       [ 3.39702285],\n",
       "       [19.8016592 ],\n",
       "       [13.21789156],\n",
       "       [ 3.48666559],\n",
       "       [ 1.77349169],\n",
       "       [ 1.86313454],\n",
       "       [ 6.72376738],\n",
       "       [16.10638201],\n",
       "       [ 2.78944361],\n",
       "       [ 3.60618923],\n",
       "       [ 8.03852889],\n",
       "       [ 2.77948331],\n",
       "       [ 3.79543524],\n",
       "       [10.15011517],\n",
       "       [11.22582892],\n",
       "       [ 1.87309484],\n",
       "       [ 2.81932453],\n",
       "       [ 3.55638771],\n",
       "       [ 1.92289636],\n",
       "       [ 4.19384786],\n",
       "       [ 2.52051518],\n",
       "       [ 4.10420489],\n",
       "       [ 3.75559402],\n",
       "       [ 7.44090972],\n",
       "       [ 4.48269691],\n",
       "       [ 3.70579251],\n",
       "       [ 2.32130887],\n",
       "       [ 4.20380793],\n",
       "       [ 7.48075093],\n",
       "       [ 2.38107069],\n",
       "       [ 3.94484003],\n",
       "       [ 3.46674498],\n",
       "       [ 4.00460185],\n",
       "       [ 2.53047548],\n",
       "       [ 1.71372987],\n",
       "       [19.09447597],\n",
       "       [10.84733691],\n",
       "       [ 2.78944361],\n",
       "       [ 6.69388623],\n",
       "       [ 1.83325363],\n",
       "       [ 4.50261751],\n",
       "       [ 2.72968179],\n",
       "       [10.82741678],\n",
       "       [ 2.39103123],\n",
       "       [ 1.8133329 ],\n",
       "       [ 3.91495912],\n",
       "       [ 3.3571814 ],\n",
       "       [ 2.85916574],\n",
       "       [ 4.02452246],\n",
       "       [13.41709764],\n",
       "       [ 1.70376956],\n",
       "       [13.03860562],\n",
       "       [ 1.8133329 ],\n",
       "       [ 4.06436368],\n",
       "       [ 6.81341035],\n",
       "       [ 5.65801369],\n",
       "       [ 2.18186461],\n",
       "       [ 4.00460185],\n",
       "       [ 1.88305515],\n",
       "       [ 2.22170583],\n",
       "       [ 2.34122947],\n",
       "       [ 5.16995857],\n",
       "       [ 2.69980088],\n",
       "       [ 3.56634802],\n",
       "       [20.61840458],\n",
       "       [ 2.63007852],\n",
       "       [ 2.7595627 ],\n",
       "       [ 4.22372854],\n",
       "       [ 7.65007633],\n",
       "       [ 5.14007743],\n",
       "       [ 2.29142795],\n",
       "       [ 3.64603068],\n",
       "       [ 7.08233878],\n",
       "       [13.39717751],\n",
       "       [10.16007572],\n",
       "       [12.23182079],\n",
       "       [10.65809138],\n",
       "       [ 3.56634802],\n",
       "       [33.04887499],\n",
       "       [ 2.35118978],\n",
       "       [ 3.89503851],\n",
       "       [18.11836573],\n",
       "       [ 3.58626862],\n",
       "       [ 6.72376738],\n",
       "       [11.64416215],\n",
       "       [10.11027396],\n",
       "       [10.57840895],\n",
       "       [10.57840895],\n",
       "       [ 3.90499882],\n",
       "       [ 2.7496024 ],\n",
       "       [12.90912144],\n",
       "       [ 2.18186461],\n",
       "       [19.91122135],\n",
       "       [ 8.98475845],\n",
       "       [ 2.79940392],\n",
       "       [ 2.70976119],\n",
       "       [ 2.12210255],\n",
       "       [ 3.64603068],\n",
       "       [ 2.9189278 ],\n",
       "       [10.02063099],\n",
       "       [ 2.77948331],\n",
       "       [13.16808981],\n",
       "       [ 3.5165465 ],\n",
       "       [ 2.26154704],\n",
       "       [ 3.62610984],\n",
       "       [33.06879608],\n",
       "       [ 3.83527645],\n",
       "       [ 2.64003906],\n",
       "       [ 2.02249952],\n",
       "       [ 3.78547493],\n",
       "       [13.08840738],\n",
       "       [12.15213836],\n",
       "       [10.97682109],\n",
       "       [ 9.52261533],\n",
       "       [12.11229714],\n",
       "       [ 3.74563372],\n",
       "       [ 4.20380793],\n",
       "       [ 3.62610984],\n",
       "       [ 2.5703167 ],\n",
       "       [ 3.21773715],\n",
       "       [ 2.76952301],\n",
       "       [13.5764625 ],\n",
       "       [ 3.90499882],\n",
       "       [ 5.30940283],\n",
       "       [10.19991693],\n",
       "       [ 2.56035639],\n",
       "       [ 3.86515736],\n",
       "       [12.84936009],\n",
       "       [ 3.96476064],\n",
       "       [10.48876598],\n",
       "       [ 2.10218195],\n",
       "       [ 3.6958322 ],\n",
       "       [10.87721758]])"
      ]
     },
     "execution_count": 13,
     "metadata": {},
     "output_type": "execute_result"
    }
   ],
   "source": [
    "y_pred = linregression.predict(X_test)\n",
    "y_pred"
   ]
  },
  {
   "cell_type": "code",
   "execution_count": 14,
   "metadata": {
    "inputHidden": false,
    "outputHidden": false
   },
   "outputs": [
    {
     "name": "stdout",
     "output_type": "stream",
     "text": [
      "Intercept\n"
     ]
    },
    {
     "data": {
      "text/plain": [
       "array([0.02047657])"
      ]
     },
     "execution_count": 14,
     "metadata": {},
     "output_type": "execute_result"
    }
   ],
   "source": [
    "print('Intercept')\n",
    "linregression.intercept_"
   ]
  },
  {
   "cell_type": "code",
   "execution_count": 15,
   "metadata": {
    "inputHidden": false,
    "outputHidden": false
   },
   "outputs": [
    {
     "name": "stdout",
     "output_type": "stream",
     "text": [
      "Slope\n"
     ]
    },
    {
     "data": {
      "text/plain": [
       "array([[0.99603132]])"
      ]
     },
     "execution_count": 15,
     "metadata": {},
     "output_type": "execute_result"
    }
   ],
   "source": [
    "print('Slope')\n",
    "linregression.coef_"
   ]
  },
  {
   "cell_type": "code",
   "execution_count": 16,
   "metadata": {
    "inputHidden": false,
    "outputHidden": false
   },
   "outputs": [
    {
     "data": {
      "image/png": "[encoded data removed]",
      "text/plain": [
       "<Figure size 432x288 with 1 Axes>"
      ]
     },
     "metadata": {
      "needs_background": "light"
     },
     "output_type": "display_data"
    }
   ],
   "source": [
    "import matplotlib.pyplot as plt\n",
    "\n",
    "plt.scatter(X_train,y_train)\n",
    "plt.plot(X_train,linregression.predict(X_train),'r')\n",
    "plt.xlabel('Open')\n",
    "plt.ylabel('Adj Close')\n",
    "plt.title('Stock Linear Regression')\n",
    "plt.show()"
   ]
  }
 ],
 "metadata": {
  "kernel_info": {
   "name": "python3"
  },
  "kernelspec": {
   "display_name": "Python 3",
   "language": "python",
   "name": "python3"
  },
  "language_info": {
   "codemirror_mode": {
    "name": "ipython",
    "version": 3
   },
   "file_extension": ".py",
   "mimetype": "text/x-python",
   "name": "python",
   "nbconvert_exporter": "python",
   "pygments_lexer": "ipython3",
   "version": "3.7.5"
  },
  "nteract": {
   "version": "0.15.0"
  }
 },
 "nbformat": 4,
 "nbformat_minor": 1
}
