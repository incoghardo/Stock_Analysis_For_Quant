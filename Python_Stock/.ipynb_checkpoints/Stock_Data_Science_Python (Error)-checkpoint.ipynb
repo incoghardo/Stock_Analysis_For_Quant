{
 "cells": [
  {
   "cell_type": "markdown",
   "metadata": {},
   "source": [
    "# Data Science 101 for Python"
   ]
  },
  {
   "cell_type": "markdown",
   "metadata": {},
   "source": [
    "## Statistical Data Analysis"
   ]
  },
  {
   "cell_type": "code",
   "execution_count": 1,
   "metadata": {
    "inputHidden": false,
    "outputHidden": false
   },
   "outputs": [],
   "source": [
    "import numpy as np\n",
    "import matplotlib.pyplot as plt\n",
    "import seaborn as sns\n",
    "import pandas as pd\n",
    "\n",
    "import warnings\n",
    "warnings.filterwarnings(\"ignore\")\n",
    "\n",
    "# fix_yahoo_finance is used to fetch data \n",
    "import yfinance as yf\n",
    "yf.pdr_override()"
   ]
  },
  {
   "cell_type": "code",
   "execution_count": 2,
   "metadata": {
    "inputHidden": false,
    "outputHidden": false
   },
   "outputs": [
    {
     "name": "stdout",
     "output_type": "stream",
     "text": [
      "[*********************100%***********************]  1 of 1 completed\n"
     ]
    },
    {
     "data": {
      "text/html": [
       "<div>\n",
       "<style scoped>\n",
       "    .dataframe tbody tr th:only-of-type {\n",
       "        vertical-align: middle;\n",
       "    }\n",
       "\n",
       "    .dataframe tbody tr th {\n",
       "        vertical-align: top;\n",
       "    }\n",
       "\n",
       "    .dataframe thead th {\n",
       "        text-align: right;\n",
       "    }\n",
       "</style>\n",
       "<table border=\"1\" class=\"dataframe\">\n",
       "  <thead>\n",
       "    <tr style=\"text-align: right;\">\n",
       "      <th></th>\n",
       "      <th>Open</th>\n",
       "      <th>High</th>\n",
       "      <th>Low</th>\n",
       "      <th>Close</th>\n",
       "      <th>Adj Close</th>\n",
       "      <th>Volume</th>\n",
       "    </tr>\n",
       "    <tr>\n",
       "      <th>Date</th>\n",
       "      <th></th>\n",
       "      <th></th>\n",
       "      <th></th>\n",
       "      <th></th>\n",
       "      <th></th>\n",
       "      <th></th>\n",
       "    </tr>\n",
       "  </thead>\n",
       "  <tbody>\n",
       "    <tr>\n",
       "      <th>2014-01-02</th>\n",
       "      <td>3.85</td>\n",
       "      <td>3.98</td>\n",
       "      <td>3.84</td>\n",
       "      <td>3.95</td>\n",
       "      <td>3.95</td>\n",
       "      <td>20548400</td>\n",
       "    </tr>\n",
       "    <tr>\n",
       "      <th>2014-01-03</th>\n",
       "      <td>3.98</td>\n",
       "      <td>4.00</td>\n",
       "      <td>3.88</td>\n",
       "      <td>4.00</td>\n",
       "      <td>4.00</td>\n",
       "      <td>22887200</td>\n",
       "    </tr>\n",
       "    <tr>\n",
       "      <th>2014-01-06</th>\n",
       "      <td>4.01</td>\n",
       "      <td>4.18</td>\n",
       "      <td>3.99</td>\n",
       "      <td>4.13</td>\n",
       "      <td>4.13</td>\n",
       "      <td>42398300</td>\n",
       "    </tr>\n",
       "    <tr>\n",
       "      <th>2014-01-07</th>\n",
       "      <td>4.19</td>\n",
       "      <td>4.25</td>\n",
       "      <td>4.11</td>\n",
       "      <td>4.18</td>\n",
       "      <td>4.18</td>\n",
       "      <td>42932100</td>\n",
       "    </tr>\n",
       "    <tr>\n",
       "      <th>2014-01-08</th>\n",
       "      <td>4.23</td>\n",
       "      <td>4.26</td>\n",
       "      <td>4.14</td>\n",
       "      <td>4.18</td>\n",
       "      <td>4.18</td>\n",
       "      <td>30678700</td>\n",
       "    </tr>\n",
       "  </tbody>\n",
       "</table>\n",
       "</div>"
      ],
      "text/plain": [
       "            Open  High   Low  Close  Adj Close    Volume\n",
       "Date                                                    \n",
       "2014-01-02  3.85  3.98  3.84   3.95       3.95  20548400\n",
       "2014-01-03  3.98  4.00  3.88   4.00       4.00  22887200\n",
       "2014-01-06  4.01  4.18  3.99   4.13       4.13  42398300\n",
       "2014-01-07  4.19  4.25  4.11   4.18       4.18  42932100\n",
       "2014-01-08  4.23  4.26  4.14   4.18       4.18  30678700"
      ]
     },
     "execution_count": 2,
     "metadata": {},
     "output_type": "execute_result"
    }
   ],
   "source": [
    "# input\n",
    "symbol = 'AMD'\n",
    "start = '2014-01-01'\n",
    "end = '2019-01-01'\n",
    "\n",
    "# Read data \n",
    "dataset = yf.download(symbol,start,end)\n",
    "\n",
    "# View Columns\n",
    "dataset.head()"
   ]
  },
  {
   "cell_type": "code",
   "execution_count": 3,
   "metadata": {
    "inputHidden": false,
    "outputHidden": false
   },
   "outputs": [
    {
     "data": {
      "text/html": [
       "<div>\n",
       "<style scoped>\n",
       "    .dataframe tbody tr th:only-of-type {\n",
       "        vertical-align: middle;\n",
       "    }\n",
       "\n",
       "    .dataframe tbody tr th {\n",
       "        vertical-align: top;\n",
       "    }\n",
       "\n",
       "    .dataframe thead th {\n",
       "        text-align: right;\n",
       "    }\n",
       "</style>\n",
       "<table border=\"1\" class=\"dataframe\">\n",
       "  <thead>\n",
       "    <tr style=\"text-align: right;\">\n",
       "      <th></th>\n",
       "      <th>Open</th>\n",
       "      <th>High</th>\n",
       "      <th>Low</th>\n",
       "      <th>Close</th>\n",
       "      <th>Adj Close</th>\n",
       "      <th>Volume</th>\n",
       "      <th>Increase_Decrease</th>\n",
       "      <th>Buy_Sell_on_Open</th>\n",
       "      <th>Buy_Sell</th>\n",
       "      <th>Returns</th>\n",
       "    </tr>\n",
       "    <tr>\n",
       "      <th>Date</th>\n",
       "      <th></th>\n",
       "      <th></th>\n",
       "      <th></th>\n",
       "      <th></th>\n",
       "      <th></th>\n",
       "      <th></th>\n",
       "      <th></th>\n",
       "      <th></th>\n",
       "      <th></th>\n",
       "      <th></th>\n",
       "    </tr>\n",
       "  </thead>\n",
       "  <tbody>\n",
       "    <tr>\n",
       "      <th>2014-01-03</th>\n",
       "      <td>3.98</td>\n",
       "      <td>4.00</td>\n",
       "      <td>3.88</td>\n",
       "      <td>4.00</td>\n",
       "      <td>4.00</td>\n",
       "      <td>22887200</td>\n",
       "      <td>1</td>\n",
       "      <td>1</td>\n",
       "      <td>1</td>\n",
       "      <td>0.012658</td>\n",
       "    </tr>\n",
       "    <tr>\n",
       "      <th>2014-01-06</th>\n",
       "      <td>4.01</td>\n",
       "      <td>4.18</td>\n",
       "      <td>3.99</td>\n",
       "      <td>4.13</td>\n",
       "      <td>4.13</td>\n",
       "      <td>42398300</td>\n",
       "      <td>1</td>\n",
       "      <td>1</td>\n",
       "      <td>1</td>\n",
       "      <td>0.032500</td>\n",
       "    </tr>\n",
       "    <tr>\n",
       "      <th>2014-01-07</th>\n",
       "      <td>4.19</td>\n",
       "      <td>4.25</td>\n",
       "      <td>4.11</td>\n",
       "      <td>4.18</td>\n",
       "      <td>4.18</td>\n",
       "      <td>42932100</td>\n",
       "      <td>-1</td>\n",
       "      <td>1</td>\n",
       "      <td>-1</td>\n",
       "      <td>0.012106</td>\n",
       "    </tr>\n",
       "    <tr>\n",
       "      <th>2014-01-08</th>\n",
       "      <td>4.23</td>\n",
       "      <td>4.26</td>\n",
       "      <td>4.14</td>\n",
       "      <td>4.18</td>\n",
       "      <td>4.18</td>\n",
       "      <td>30678700</td>\n",
       "      <td>-1</td>\n",
       "      <td>-1</td>\n",
       "      <td>-1</td>\n",
       "      <td>0.000000</td>\n",
       "    </tr>\n",
       "    <tr>\n",
       "      <th>2014-01-09</th>\n",
       "      <td>4.20</td>\n",
       "      <td>4.23</td>\n",
       "      <td>4.05</td>\n",
       "      <td>4.09</td>\n",
       "      <td>4.09</td>\n",
       "      <td>30667600</td>\n",
       "      <td>-1</td>\n",
       "      <td>-1</td>\n",
       "      <td>1</td>\n",
       "      <td>-0.021531</td>\n",
       "    </tr>\n",
       "  </tbody>\n",
       "</table>\n",
       "</div>"
      ],
      "text/plain": [
       "            Open  High   Low  Close  Adj Close    Volume  Increase_Decrease  \\\n",
       "Date                                                                          \n",
       "2014-01-03  3.98  4.00  3.88   4.00       4.00  22887200                  1   \n",
       "2014-01-06  4.01  4.18  3.99   4.13       4.13  42398300                  1   \n",
       "2014-01-07  4.19  4.25  4.11   4.18       4.18  42932100                 -1   \n",
       "2014-01-08  4.23  4.26  4.14   4.18       4.18  30678700                 -1   \n",
       "2014-01-09  4.20  4.23  4.05   4.09       4.09  30667600                 -1   \n",
       "\n",
       "            Buy_Sell_on_Open  Buy_Sell   Returns  \n",
       "Date                                              \n",
       "2014-01-03                 1         1  0.012658  \n",
       "2014-01-06                 1         1  0.032500  \n",
       "2014-01-07                 1        -1  0.012106  \n",
       "2014-01-08                -1        -1  0.000000  \n",
       "2014-01-09                -1         1 -0.021531  "
      ]
     },
     "execution_count": 3,
     "metadata": {},
     "output_type": "execute_result"
    }
   ],
   "source": [
    "# Create more data\n",
    "dataset['Increase_Decrease'] = np.where(dataset['Volume'].shift(-1) > dataset['Volume'],1,-1)\n",
    "dataset['Buy_Sell_on_Open'] = np.where(dataset['Open'].shift(-1) > dataset['Open'],1,-1)\n",
    "dataset['Buy_Sell'] = np.where(dataset['Adj Close'].shift(-1) > dataset['Adj Close'],1,-1)\n",
    "dataset['Returns'] = dataset['Adj Close'].pct_change()\n",
    "dataset = dataset.dropna()\n",
    "dataset.head()"
   ]
  },
  {
   "cell_type": "markdown",
   "metadata": {},
   "source": [
    "## Measuring Central Tendency"
   ]
  },
  {
   "cell_type": "code",
   "execution_count": 4,
   "metadata": {
    "inputHidden": false,
    "outputHidden": false
   },
   "outputs": [
    {
     "name": "stdout",
     "output_type": "stream",
     "text": [
      "Mean Values in the Distribution\n",
      "-----------------------------------\n",
      "Open                 8.169578e+00\n",
      "High                 8.358266e+00\n",
      "Low                  7.972641e+00\n",
      "Close                8.167780e+00\n",
      "Adj Close            8.167780e+00\n",
      "Volume               4.353588e+07\n",
      "Increase_Decrease   -8.989658e-02\n",
      "Buy_Sell_on_Open     1.193317e-02\n",
      "Buy_Sell            -3.977725e-03\n",
      "Returns              1.971264e-03\n",
      "dtype: float64\n",
      "***********************************\n",
      "Median Values in the Distribution\n",
      "-----------------------------------\n",
      "Open                        5.10\n",
      "High                        5.19\n",
      "Low                         5.00\n",
      "Close                       5.10\n",
      "Adj Close                   5.10\n",
      "Volume               31793700.00\n",
      "Increase_Decrease          -1.00\n",
      "Buy_Sell_on_Open            1.00\n",
      "Buy_Sell                   -1.00\n",
      "Returns                     0.00\n",
      "dtype: float64\n"
     ]
    }
   ],
   "source": [
    "print(\"Mean Values in the Distribution\")\n",
    "print(\"-\"*35)\n",
    "print(dataset.mean())\n",
    "print(\"***********************************\")\n",
    "print(\"Median Values in the Distribution\")\n",
    "print(\"-\"*35)\n",
    "print(dataset.median())"
   ]
  },
  {
   "cell_type": "code",
   "execution_count": 5,
   "metadata": {
    "inputHidden": false,
    "outputHidden": false
   },
   "outputs": [
    {
     "name": "stdout",
     "output_type": "stream",
     "text": [
      "Mode Value\n",
      "   Open  High   Low  Close  Adj Close    Volume  Increase_Decrease  \\\n",
      "0  2.36   2.8  2.65   2.28       2.28  11839300               -1.0   \n",
      "1   NaN   NaN   NaN    NaN        NaN  34758600                NaN   \n",
      "\n",
      "   Buy_Sell_on_Open  Buy_Sell  Returns  \n",
      "0               1.0      -1.0      0.0  \n",
      "1               NaN       NaN      NaN  \n"
     ]
    }
   ],
   "source": [
    "print(\"Mode Value\")\n",
    "print(dataset.mode())"
   ]
  },
  {
   "cell_type": "markdown",
   "metadata": {},
   "source": [
    "## Measuring Variance"
   ]
  },
  {
   "cell_type": "code",
   "execution_count": 6,
   "metadata": {
    "inputHidden": false,
    "outputHidden": false
   },
   "outputs": [
    {
     "name": "stdout",
     "output_type": "stream",
     "text": [
      "Measuring Standard Deviation\n",
      "Open                 6.482962e+00\n",
      "High                 6.659404e+00\n",
      "Low                  6.280754e+00\n",
      "Close                6.476459e+00\n",
      "Adj Close            6.476459e+00\n",
      "Volume               4.089003e+07\n",
      "Increase_Decrease    9.963475e-01\n",
      "Buy_Sell_on_Open     1.000327e+00\n",
      "Buy_Sell             1.000390e+00\n",
      "Returns              3.921139e-02\n",
      "dtype: float64\n"
     ]
    }
   ],
   "source": [
    "# Measuring Standard Deviation\n",
    "print(\"Measuring Standard Deviation\")\n",
    "print(dataset.std())"
   ]
  },
  {
   "cell_type": "code",
   "execution_count": 7,
   "metadata": {
    "inputHidden": false,
    "outputHidden": false
   },
   "outputs": [
    {
     "name": "stdout",
     "output_type": "stream",
     "text": [
      "Measuring Skewness\n",
      "Open                 1.261225\n",
      "High                 1.280989\n",
      "Low                  1.227398\n",
      "Close                1.256451\n",
      "Adj Close            1.256451\n",
      "Volume               2.079791\n",
      "Increase_Decrease    0.180740\n",
      "Buy_Sell_on_Open    -0.023897\n",
      "Buy_Sell             0.007965\n",
      "Returns              1.814308\n",
      "dtype: float64\n"
     ]
    }
   ],
   "source": [
    "# Measuring Skewness\n",
    "print(\"Measuring Skewness\")\n",
    "print(dataset.skew())"
   ]
  },
  {
   "cell_type": "markdown",
   "metadata": {},
   "source": [
    "## Normal Distribution"
   ]
  },
  {
   "cell_type": "code",
   "execution_count": 8,
   "metadata": {
    "inputHidden": false,
    "outputHidden": false
   },
   "outputs": [],
   "source": [
    "import math\n",
    "import matplotlib.mlab as mlab\n",
    "\n",
    "# Define Variables\n",
    "mu = dataset['Returns'].mean() # Mean Returns\n",
    "sigma = dataset['Returns'].std() # Volatility"
   ]
  },
  {
   "cell_type": "code",
   "execution_count": 9,
   "metadata": {
    "inputHidden": false,
    "outputHidden": false,
    "scrolled": true
   },
   "outputs": [
    {
     "ename": "AttributeError",
     "evalue": "module 'matplotlib.mlab' has no attribute 'normpdf'",
     "output_type": "error",
     "traceback": [
      "\u001b[0;31m---------------------------------------------------------------------------\u001b[0m",
      "\u001b[0;31mAttributeError\u001b[0m                            Traceback (most recent call last)",
      "\u001b[0;32m<ipython-input-9-49bdba5c8bd7>\u001b[0m in \u001b[0;36m<module>\u001b[0;34m\u001b[0m\n\u001b[1;32m      1\u001b[0m \u001b[0;34m[\u001b[0m\u001b[0mn\u001b[0m\u001b[0;34m,\u001b[0m\u001b[0mbins\u001b[0m\u001b[0;34m,\u001b[0m\u001b[0mpatches\u001b[0m\u001b[0;34m]\u001b[0m \u001b[0;34m=\u001b[0m \u001b[0mplt\u001b[0m\u001b[0;34m.\u001b[0m\u001b[0mhist\u001b[0m\u001b[0;34m(\u001b[0m\u001b[0mdataset\u001b[0m\u001b[0;34m[\u001b[0m\u001b[0;34m'Returns'\u001b[0m\u001b[0;34m]\u001b[0m\u001b[0;34m,\u001b[0m \u001b[0;36m100\u001b[0m\u001b[0;34m)\u001b[0m\u001b[0;34m\u001b[0m\u001b[0;34m\u001b[0m\u001b[0m\n\u001b[1;32m      2\u001b[0m \u001b[0;31m# Daily returns using normal distribution\u001b[0m\u001b[0;34m\u001b[0m\u001b[0;34m\u001b[0m\u001b[0;34m\u001b[0m\u001b[0m\n\u001b[0;32m----> 3\u001b[0;31m \u001b[0ms\u001b[0m \u001b[0;34m=\u001b[0m \u001b[0mmlab\u001b[0m\u001b[0;34m.\u001b[0m\u001b[0mnormpdf\u001b[0m\u001b[0;34m(\u001b[0m\u001b[0mbins\u001b[0m\u001b[0;34m,\u001b[0m \u001b[0mmu\u001b[0m\u001b[0;34m,\u001b[0m \u001b[0msigma\u001b[0m\u001b[0;34m)\u001b[0m\u001b[0;34m\u001b[0m\u001b[0;34m\u001b[0m\u001b[0m\n\u001b[0m\u001b[1;32m      4\u001b[0m \u001b[0;31m# Create the bins and histogram\u001b[0m\u001b[0;34m\u001b[0m\u001b[0;34m\u001b[0m\u001b[0;34m\u001b[0m\u001b[0m\n\u001b[1;32m      5\u001b[0m \u001b[0mplt\u001b[0m\u001b[0;34m.\u001b[0m\u001b[0mplot\u001b[0m\u001b[0;34m(\u001b[0m\u001b[0mbins\u001b[0m\u001b[0;34m,\u001b[0m \u001b[0ms\u001b[0m\u001b[0;34m,\u001b[0m \u001b[0mcolor\u001b[0m\u001b[0;34m=\u001b[0m\u001b[0;34m'y'\u001b[0m\u001b[0;34m,\u001b[0m \u001b[0mlw\u001b[0m\u001b[0;34m=\u001b[0m\u001b[0;36m2\u001b[0m\u001b[0;34m)\u001b[0m\u001b[0;34m\u001b[0m\u001b[0;34m\u001b[0m\u001b[0m\n",
      "\u001b[0;31mAttributeError\u001b[0m: module 'matplotlib.mlab' has no attribute 'normpdf'"
     ]
    },
    {
     "data": {
      "image/png": "[encoded data removed]",
      "text/plain": [
       "<Figure size 432x288 with 1 Axes>"
      ]
     },
     "metadata": {
      "needs_background": "light"
     },
     "output_type": "display_data"
    }
   ],
   "source": [
    "[n,bins,patches] = plt.hist(dataset['Returns'], 100)\n",
    "# Daily returns using normal distribution\n",
    "s = mlab.normpdf(bins, mu, sigma)\n",
    "# Create the bins and histogram\n",
    "plt.plot(bins, s, color='y', lw=2)\n",
    "plt.title(\"Stock Returns on Normal Distribution\")\n",
    "plt.xlabel(\"Returns\")\n",
    "plt.ylabel(\"Frequency\")\n",
    "plt.show()"
   ]
  },
  {
   "cell_type": "code",
   "execution_count": null,
   "metadata": {
    "inputHidden": false,
    "outputHidden": false
   },
   "outputs": [],
   "source": [
    "from scipy.stats import norm\n",
    "\n",
    "mu = dataset['Returns'].mean()\n",
    "sigma = dataset['Returns'].std()\n",
    "\n",
    "x_min = dataset['Returns'].min()\n",
    "x_max = dataset['Returns'].max()\n",
    "\n",
    "\n",
    "\n",
    "def plot_normal(x_range, mu=0, sigma=1, cdf=False, **kwargs):\n",
    "    x = x_range\n",
    "    if cdf:\n",
    "        y = norm.cdf(x, mu, sigma)\n",
    "    else:\n",
    "        y = norm.pdf(x, mu, sigma)\n",
    "    plt.plot(x, y, **kwargs)\n",
    "    \n",
    "x = np.linspace(x_min, x_max, 100)\n",
    "plot_normal(x)\n",
    "plot_normal(x, cdf=True)"
   ]
  },
  {
   "cell_type": "code",
   "execution_count": null,
   "metadata": {
    "inputHidden": false,
    "outputHidden": false
   },
   "outputs": [],
   "source": [
    "plot_normal(x, -2, 1, color='red', lw=2, ls='-', alpha=0.5)\n",
    "plot_normal(x, 2, 1.2, color='blue', lw=2, ls='-', alpha=0.5)\n",
    "plot_normal(x, 0, 0.8, color='green', lw=2, ls='-', alpha=0.5)"
   ]
  },
  {
   "cell_type": "code",
   "execution_count": null,
   "metadata": {
    "inputHidden": false,
    "outputHidden": false
   },
   "outputs": [],
   "source": [
    "mu, std = norm.fit(dataset['Returns'])\n",
    "\n",
    "# Plot the histogram.\n",
    "plt.hist(dataset['Returns'], bins=25, alpha=0.6, color='g')\n",
    "\n",
    "# Plot the PDF.\n",
    "xmin, xmax = plt.xlim()\n",
    "x = np.linspace(xmin, xmax, 100)\n",
    "p = norm.pdf(x, mu, std)\n",
    "plt.plot(x, p, 'k', linewidth=2)\n",
    "title = \"Fit results: mu = %.2f,  std = %.2f\" % (mu, std)\n",
    "plt.title(title)\n",
    "\n",
    "plt.show()"
   ]
  },
  {
   "cell_type": "markdown",
   "metadata": {},
   "source": [
    "# Gamma Distribution"
   ]
  },
  {
   "cell_type": "code",
   "execution_count": null,
   "metadata": {
    "inputHidden": false,
    "outputHidden": false
   },
   "outputs": [],
   "source": [
    "from scipy import stats\n",
    "\n",
    "# input\n",
    "symbol = 'AAPL'\n",
    "market = 'SPY'\n",
    "start = '2014-01-01'\n",
    "end = '2018-01-01'\n",
    "\n",
    "# Read data \n",
    "dataset1 = yf.download(symbol,start,end)\n",
    "dataset2 = yf.download(market,start,end)\n",
    "\n",
    "stock_ret = dataset1['Adj Close'].pct_change().dropna()\n",
    "mkt_ret = dataset2['Adj Close'].pct_change().dropna()\n",
    "\n",
    "beta, alpha, r_value, p_value, std_err = stats.linregress(mkt_ret, stock_ret)\n",
    "print(beta, alpha)"
   ]
  },
  {
   "cell_type": "code",
   "execution_count": null,
   "metadata": {
    "inputHidden": false,
    "outputHidden": false
   },
   "outputs": [],
   "source": [
    "from scipy.stats import gamma\n",
    "\n",
    "mu, std = gamma.stats(dataset['Returns'])\n",
    "\n",
    "# Plot the histogram.\n",
    "plt.hist(dataset['Returns'], bins=25, alpha=0.6, color='g')\n",
    "\n",
    "# Plot the PDF.\n",
    "xmin, xmax = plt.xlim()\n",
    "x = np.linspace(xmin, xmax, 1171)\n",
    "p = gamma.pdf(x, alpha, scale=1/beta)\n",
    "plt.plot(x, p, 'k', linewidth=2)\n",
    "plt.title(\"Gamma Distribution for Stock\")\n",
    "\n",
    "plt.show()"
   ]
  },
  {
   "cell_type": "markdown",
   "metadata": {},
   "source": [
    "## Binomial Distribution"
   ]
  },
  {
   "cell_type": "code",
   "execution_count": null,
   "metadata": {
    "inputHidden": false,
    "outputHidden": false
   },
   "outputs": [],
   "source": [
    "from scipy.stats import binom\n",
    "\n",
    "n = 10 # number of trials\n",
    "p = 0.5 # probaility of success and failure\n",
    "k = np.arange(0,21) # * number of repeat the trial\n",
    "binomial = binom.pmf(k, n, p)\n",
    "binomial "
   ]
  },
  {
   "cell_type": "code",
   "execution_count": null,
   "metadata": {
    "inputHidden": false,
    "outputHidden": false
   },
   "outputs": [],
   "source": [
    "data_binom = binom.rvs(n=len(dataset['Adj Close']),p=0.5,size=1000)\n",
    "\n",
    "plt.figure(figsize=(16,10))\n",
    "ax = sns.distplot(data_binom,\n",
    "                  kde=False,\n",
    "                  color='skyblue',\n",
    "                  hist_kws={\"linewidth\": 15,'alpha':1})\n",
    "ax.set(xlabel='Binomial Distribution', ylabel='Frequency')"
   ]
  },
  {
   "cell_type": "markdown",
   "metadata": {},
   "source": [
    "## Poisson Distribution"
   ]
  },
  {
   "cell_type": "code",
   "execution_count": null,
   "metadata": {
    "inputHidden": false,
    "outputHidden": false
   },
   "outputs": [],
   "source": [
    "from scipy.stats import poisson\n",
    "\n",
    "mu = dataset['Returns'].mean()\n",
    "dist = poisson.rvs(mu=mu, loc=0, size=1000)\n",
    "print(\"Mean: %g\" % np.mean(dataset['Returns']))\n",
    "print(\"SD: %g\" % np.std(dataset['Returns'], ddof=1))\n",
    "\n",
    "plt.hist(dist, bins=10, normed=True)\n",
    "#plt.xlabel()\n",
    "plt.title('Poisson Distribution Curve')\n",
    "plt.show()"
   ]
  },
  {
   "cell_type": "markdown",
   "metadata": {},
   "source": [
    "## Bernoulli Distribution"
   ]
  },
  {
   "cell_type": "code",
   "execution_count": null,
   "metadata": {
    "inputHidden": false,
    "outputHidden": false
   },
   "outputs": [],
   "source": [
    "from scipy.stats import bernoulli\n",
    "\n",
    "countIncrease = dataset[dataset.Increase_Decrease == 1].Increase_Decrease.count()\n",
    "countAll = dataset.Increase_Decrease.count()\n",
    "\n",
    "Increase_dist = bernoulli(countIncrease / countAll)\n",
    "# the given value is the probability of outcome 1 (increase) (let's call it p). # The probability of the opposite outcome (0 - decrease) is 1 - p.\n",
    "\n",
    "_, ax = plt.subplots(1, 1)\n",
    "ax.vlines(0, 0, Increase_dist.pmf(0), colors='r', linestyles='-', lw=5, label=\"probability of decrease\")\n",
    "ax.vlines(1, 0, Increase_dist.pmf(1), colors='b', linestyles='-', lw=5, label=\"probability of increase\")\n",
    "ax.legend(loc='best', frameon=False)\n",
    "plt.title(\"Bernoulli distribution of increase variable\")\n",
    "plt.show()"
   ]
  },
  {
   "cell_type": "markdown",
   "metadata": {},
   "source": [
    "## Exponential Distribution"
   ]
  },
  {
   "cell_type": "code",
   "execution_count": null,
   "metadata": {
    "inputHidden": false,
    "outputHidden": false
   },
   "outputs": [],
   "source": [
    "from scipy.stats import expon\n",
    "\n",
    "mu = dataset['Returns'].mean()\n",
    "sigma = dataset['Returns'].std()\n",
    "\n",
    "x_m = dataset['Returns'].max()\n",
    "\n",
    "def plot_exponential(x_range, mu=0, sigma=1, cdf=False, **kwargs):\n",
    "    if cdf:\n",
    "        y = expon.cdf(x, mu, sigma)\n",
    "    else:\n",
    "        y = expon.pdf(x, mu, sigma)\n",
    "    plt.plot(x, y, **kwargs)\n",
    "    \n",
    "\n",
    "x = np.linspace(0, x_m, 5000)\n",
    "plot_exponential(x, 0, 1, color='red', lw=2, ls='-', alpha=0.5, label='pdf')\n",
    "plot_exponential(x, 0, 1, cdf=True, color='blue', lw=2, ls='-', alpha=0.5, label='cdf')\n",
    "plt.xlabel('Adj Close')\n",
    "plt.ylabel('Probability')\n",
    "plt.legend(loc='best')\n",
    "plt.show()"
   ]
  },
  {
   "cell_type": "markdown",
   "metadata": {},
   "source": [
    "# Discrete random variable"
   ]
  },
  {
   "cell_type": "code",
   "execution_count": null,
   "metadata": {
    "inputHidden": false,
    "outputHidden": false
   },
   "outputs": [],
   "source": [
    "from scipy.stats import rv_discrete\n",
    "\n",
    "increase_probability = pd.DataFrame({'probability': dataset.groupby(by = \"Increase_Decrease\", as_index=False).size() / dataset.Increase_Decrease.count()}).reset_index()\n",
    "\n",
    "values = increase_probability.Increase_Decrease\n",
    "probabilities = increase_probability.probability\n",
    "custom_discrete_dist = rv_discrete(values=(values, probabilities))\n",
    "\n",
    "x = dataset['Returns']\n",
    "\n",
    "_, ax = plt.subplots(1, 1)\n",
    "ax.plot(x, custom_discrete_dist.pmf(x), 'ro', lw=2)\n",
    "plt.title('Custom discrete distribution of values between 0 and 4')\n",
    "plt.show()"
   ]
  },
  {
   "cell_type": "markdown",
   "metadata": {},
   "source": [
    "## P-Value"
   ]
  },
  {
   "cell_type": "code",
   "execution_count": null,
   "metadata": {
    "inputHidden": false,
    "outputHidden": false
   },
   "outputs": [],
   "source": [
    "from scipy import stats\n",
    "\n",
    "# input\n",
    "symbol = 'AAPL'\n",
    "market = 'SPY'\n",
    "start = '2014-01-01'\n",
    "end = '2018-01-01'\n",
    "\n",
    "# Read data \n",
    "dataset1 = yf.download(symbol,start,end)\n",
    "dataset2 = yf.download(market,start,end)\n",
    "\n",
    "stock_ret = dataset1['Adj Close'].pct_change().dropna()\n",
    "mkt_ret = dataset2['Adj Close'].pct_change().dropna()\n",
    "\n",
    "beta, alpha, r_value, p_value, std_err = stats.linregress(mkt_ret, stock_ret)\n",
    "print(beta, alpha)\n",
    "print(\"R-squared=\", r_value**2)\n",
    "print(\"p-value =\", p_value)"
   ]
  },
  {
   "cell_type": "code",
   "execution_count": null,
   "metadata": {
    "inputHidden": false,
    "outputHidden": false
   },
   "outputs": [],
   "source": [
    "if p_value < alpha:  # null hypothesis: x comes from a normal distribution\n",
    "    print(\"The null hypothesis can be rejected\")\n",
    "else:\n",
    "    print(\"The null hypothesis cannot be rejected\")"
   ]
  },
  {
   "cell_type": "markdown",
   "metadata": {},
   "source": [
    "## Correlation"
   ]
  },
  {
   "cell_type": "code",
   "execution_count": null,
   "metadata": {
    "inputHidden": false,
    "outputHidden": false
   },
   "outputs": [],
   "source": [
    "sns.pairplot(dataset, kind=\"scatter\")\n",
    "plt.show()"
   ]
  },
  {
   "cell_type": "markdown",
   "metadata": {},
   "source": [
    "# Chi-square Test"
   ]
  },
  {
   "cell_type": "code",
   "execution_count": null,
   "metadata": {
    "inputHidden": false,
    "outputHidden": false
   },
   "outputs": [],
   "source": [
    "from scipy import stats\n",
    "\n",
    "x = dataset['Adj Close']\n",
    "fig,ax = plt.subplots(1,1)\n",
    "\n",
    "linestyles = [':', '--', '-.', '-']\n",
    "deg_of_freedom = [1, 4, 7, 6]\n",
    "for df, ls in zip(deg_of_freedom, linestyles):\n",
    "  ax.plot(x, stats.chi2.pdf(x, df), linestyle=ls)\n",
    "\n",
    "plt.xlim(0, 10)\n",
    "plt.ylim(0, 0.4)\n",
    "\n",
    "plt.xlabel('Value')\n",
    "plt.ylabel('Frequency')\n",
    "plt.title('Chi-Square Distribution')\n",
    "\n",
    "plt.legend()\n",
    "plt.show()"
   ]
  },
  {
   "cell_type": "markdown",
   "metadata": {},
   "source": [
    "## Linear Regression"
   ]
  },
  {
   "cell_type": "code",
   "execution_count": null,
   "metadata": {
    "inputHidden": false,
    "outputHidden": false
   },
   "outputs": [],
   "source": [
    "sns.regplot(x = \"Adj Close\", y = \"Open\", data = dataset)\n",
    "plt.show()"
   ]
  }
 ],
 "metadata": {
  "kernel_info": {
   "name": "python3"
  },
  "kernelspec": {
   "display_name": "Python 3",
   "language": "python",
   "name": "python3"
  },
  "language_info": {
   "codemirror_mode": {
    "name": "ipython",
    "version": 3
   },
   "file_extension": ".py",
   "mimetype": "text/x-python",
   "name": "python",
   "nbconvert_exporter": "python",
   "pygments_lexer": "ipython3",
   "version": "3.7.5"
  },
  "nteract": {
   "version": "0.15.0"
  }
 },
 "nbformat": 4,
 "nbformat_minor": 4
}
