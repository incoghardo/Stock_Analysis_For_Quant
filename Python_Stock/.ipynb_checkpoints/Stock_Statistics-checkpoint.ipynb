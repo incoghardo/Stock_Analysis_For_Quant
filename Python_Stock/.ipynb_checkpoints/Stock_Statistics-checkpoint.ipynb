{
 "cells": [
  {
   "cell_type": "markdown",
   "metadata": {},
   "source": [
    "# Stock Statistics"
   ]
  },
  {
   "cell_type": "markdown",
   "metadata": {},
   "source": [
    "Statistics is a branch of applied mathematics concerned with collecting, organizing, and interpreting data. Statistics is also the mathematical study of the likelihood and probability of events occurring based on known quantitative data or a collection of data.\n",
    "\n",
    "http://www.icoachmath.com/math_dictionary/Statistics"
   ]
  },
  {
   "cell_type": "code",
   "execution_count": 1,
   "metadata": {
    "inputHidden": false,
    "outputHidden": false
   },
   "outputs": [],
   "source": [
    "import numpy as np\n",
    "import pandas as pd\n",
    "import scipy.stats as stats\n",
    "import matplotlib.pyplot as plt\n",
    "\n",
    "import warnings\n",
    "warnings.filterwarnings(\"ignore\")\n",
    "\n",
    "# fix_yahoo_finance is used to fetch data \n",
    "import yfinance as yf\n",
    "yf.pdr_override()"
   ]
  },
  {
   "cell_type": "code",
   "execution_count": 2,
   "metadata": {
    "inputHidden": false,
    "outputHidden": false
   },
   "outputs": [
    {
     "name": "stdout",
     "output_type": "stream",
     "text": [
      "[*********************100%***********************]  1 of 1 completed\n"
     ]
    },
    {
     "data": {
      "text/html": [
       "<div>\n",
       "<style scoped>\n",
       "    .dataframe tbody tr th:only-of-type {\n",
       "        vertical-align: middle;\n",
       "    }\n",
       "\n",
       "    .dataframe tbody tr th {\n",
       "        vertical-align: top;\n",
       "    }\n",
       "\n",
       "    .dataframe thead th {\n",
       "        text-align: right;\n",
       "    }\n",
       "</style>\n",
       "<table border=\"1\" class=\"dataframe\">\n",
       "  <thead>\n",
       "    <tr style=\"text-align: right;\">\n",
       "      <th></th>\n",
       "      <th>Open</th>\n",
       "      <th>High</th>\n",
       "      <th>Low</th>\n",
       "      <th>Close</th>\n",
       "      <th>Adj Close</th>\n",
       "      <th>Volume</th>\n",
       "    </tr>\n",
       "    <tr>\n",
       "      <th>Date</th>\n",
       "      <th></th>\n",
       "      <th></th>\n",
       "      <th></th>\n",
       "      <th></th>\n",
       "      <th></th>\n",
       "      <th></th>\n",
       "    </tr>\n",
       "  </thead>\n",
       "  <tbody>\n",
       "    <tr>\n",
       "      <th>2014-01-02</th>\n",
       "      <td>79.382858</td>\n",
       "      <td>79.575714</td>\n",
       "      <td>78.860001</td>\n",
       "      <td>79.018570</td>\n",
       "      <td>70.938835</td>\n",
       "      <td>58671200</td>\n",
       "    </tr>\n",
       "    <tr>\n",
       "      <th>2014-01-03</th>\n",
       "      <td>78.980003</td>\n",
       "      <td>79.099998</td>\n",
       "      <td>77.204285</td>\n",
       "      <td>77.282860</td>\n",
       "      <td>69.380615</td>\n",
       "      <td>98116900</td>\n",
       "    </tr>\n",
       "    <tr>\n",
       "      <th>2014-01-06</th>\n",
       "      <td>76.778572</td>\n",
       "      <td>78.114288</td>\n",
       "      <td>76.228569</td>\n",
       "      <td>77.704285</td>\n",
       "      <td>69.758965</td>\n",
       "      <td>103152700</td>\n",
       "    </tr>\n",
       "    <tr>\n",
       "      <th>2014-01-07</th>\n",
       "      <td>77.760002</td>\n",
       "      <td>77.994286</td>\n",
       "      <td>76.845711</td>\n",
       "      <td>77.148575</td>\n",
       "      <td>69.260056</td>\n",
       "      <td>79302300</td>\n",
       "    </tr>\n",
       "    <tr>\n",
       "      <th>2014-01-08</th>\n",
       "      <td>76.972855</td>\n",
       "      <td>77.937141</td>\n",
       "      <td>76.955711</td>\n",
       "      <td>77.637146</td>\n",
       "      <td>69.698692</td>\n",
       "      <td>64632400</td>\n",
       "    </tr>\n",
       "  </tbody>\n",
       "</table>\n",
       "</div>"
      ],
      "text/plain": [
       "                 Open       High        Low      Close  Adj Close     Volume\n",
       "Date                                                                        \n",
       "2014-01-02  79.382858  79.575714  78.860001  79.018570  70.938835   58671200\n",
       "2014-01-03  78.980003  79.099998  77.204285  77.282860  69.380615   98116900\n",
       "2014-01-06  76.778572  78.114288  76.228569  77.704285  69.758965  103152700\n",
       "2014-01-07  77.760002  77.994286  76.845711  77.148575  69.260056   79302300\n",
       "2014-01-08  76.972855  77.937141  76.955711  77.637146  69.698692   64632400"
      ]
     },
     "execution_count": 2,
     "metadata": {},
     "output_type": "execute_result"
    }
   ],
   "source": [
    "# input\n",
    "symbol = 'AAPL'\n",
    "start = '2014-01-01'\n",
    "end = '2019-01-01'\n",
    "\n",
    "# Read data \n",
    "df = yf.download(symbol,start,end)\n",
    "\n",
    "# View Columns\n",
    "df.head()"
   ]
  },
  {
   "cell_type": "code",
   "execution_count": 3,
   "metadata": {
    "inputHidden": false,
    "outputHidden": false
   },
   "outputs": [],
   "source": [
    "returns = df['Adj Close'].pct_change()[1:].dropna()"
   ]
  },
  {
   "cell_type": "markdown",
   "metadata": {},
   "source": [
    "### Mean is the average number, sum of the values divided by the number of values.\n",
    "### Median is the middle value in the list of numbers.\n",
    "### Mode is the value that occurs often."
   ]
  },
  {
   "cell_type": "code",
   "execution_count": 4,
   "metadata": {
    "inputHidden": false,
    "outputHidden": false
   },
   "outputs": [
    {
     "name": "stdout",
     "output_type": "stream",
     "text": [
      "Mean of returns: 0.0007357374896169947\n",
      "Median of returns: 0.0006263791159957233\n",
      "Median Low of returns: 0.0006263791159957233\n",
      "Median High of returns: 0.0006263791159957233\n",
      "Median Grouped of returns: 0.0006263791159957233\n",
      "Mode of returns: 0.0\n"
     ]
    }
   ],
   "source": [
    "import statistics as st\n",
    "\n",
    "print('Mean of returns:', st.mean(returns))\n",
    "print('Median of returns:', st.median(returns))\n",
    "print('Median Low of returns:', st.median_low(returns))\n",
    "print('Median High of returns:', st.median_high(returns))\n",
    "print('Median Grouped of returns:', st.median_grouped(returns))\n",
    "print('Mode of returns:', st.mode(returns))"
   ]
  },
  {
   "cell_type": "code",
   "execution_count": 5,
   "metadata": {
    "inputHidden": false,
    "outputHidden": false
   },
   "outputs": [
    {
     "name": "stdout",
     "output_type": "stream",
     "text": [
      "Mode of returns: 0.0\n",
      "Mode of bins: [(-0.00706817028457829, 0.0010272971895806116)]\n"
     ]
    }
   ],
   "source": [
    "from statistics import mode\n",
    "\n",
    "print('Mode of returns:', mode(returns))\n",
    "# Since all of the returns are distinct, we use a frequency distribution to get an alternative mode.\n",
    "# np.histogram returns the frequency distribution over the bins as well as the endpoints of the bins\n",
    "hist, bins = np.histogram(returns, 20) # Break data up into 20 bins\n",
    "maxfreq = max(hist)\n",
    "# Find all of the bins that are hit with frequency maxfreq, then print the intervals corresponding to them\n",
    "print('Mode of bins:', [(bins[i], bins[i+1]) for i, j in enumerate(hist) if j == maxfreq])"
   ]
  },
  {
   "cell_type": "markdown",
   "metadata": {},
   "source": [
    "### Arithmetic Average Returns is average return on the the stock or investment"
   ]
  },
  {
   "cell_type": "code",
   "execution_count": 6,
   "metadata": {
    "inputHidden": false,
    "outputHidden": false
   },
   "outputs": [
    {
     "name": "stdout",
     "output_type": "stream",
     "text": [
      "Arithmetic average of returns:\n",
      "\n",
      "0.0007357374896169941\n"
     ]
    }
   ],
   "source": [
    "print('Arithmetic average of returns:\\n')\n",
    "print(returns.mean())"
   ]
  },
  {
   "cell_type": "markdown",
   "metadata": {},
   "source": [
    "### Geometric mean is the average of a set of products, the calculation of which is commonly used to determine the performance results of an investment or portfolio. It is technically defined as \"the nth root product of n numbers.\" The geometric mean must be used when working with percentages, which are derived from values, while the standard arithmetic mean works with the values themselves.  \n",
    "\n",
    "https://www.investopedia.com/terms/h/harmonicaverage.asp"
   ]
  },
  {
   "cell_type": "code",
   "execution_count": 7,
   "metadata": {
    "inputHidden": false,
    "outputHidden": false
   },
   "outputs": [
    {
     "name": "stdout",
     "output_type": "stream",
     "text": [
      "Geometric mean of stock: nan\n"
     ]
    }
   ],
   "source": [
    "# Geometric mean\n",
    "from scipy.stats.mstats import gmean\n",
    "print('Geometric mean of stock:', gmean(returns))"
   ]
  },
  {
   "cell_type": "code",
   "execution_count": 8,
   "metadata": {
    "inputHidden": false,
    "outputHidden": false
   },
   "outputs": [
    {
     "name": "stdout",
     "output_type": "stream",
     "text": [
      "Geometric mean of returns: 0.0006221874916534365\n"
     ]
    }
   ],
   "source": [
    "ratios = returns + np.ones(len(returns))\n",
    "R_G = gmean(ratios) - 1\n",
    "print('Geometric mean of returns:', R_G)"
   ]
  },
  {
   "cell_type": "markdown",
   "metadata": {},
   "source": [
    "### Standard deviation of returns is the risk of returns"
   ]
  },
  {
   "cell_type": "code",
   "execution_count": 9,
   "metadata": {
    "inputHidden": false,
    "outputHidden": false
   },
   "outputs": [
    {
     "name": "stdout",
     "output_type": "stream",
     "text": [
      "Standard deviation of returns\n",
      "0.015071098989668562\n"
     ]
    }
   ],
   "source": [
    "print('Standard deviation of returns')\n",
    "print(returns.std())"
   ]
  },
  {
   "cell_type": "code",
   "execution_count": 10,
   "metadata": {
    "inputHidden": false,
    "outputHidden": false
   },
   "outputs": [
    {
     "name": "stdout",
     "output_type": "stream",
     "text": [
      "Initial price: 70.93883514404297\n",
      "Final price: 155.037109375\n",
      "Final price as computed with R_G: 155.03710937501836\n"
     ]
    }
   ],
   "source": [
    "T = len(returns)\n",
    "init_price = df['Adj Close'][0]\n",
    "final_price = df['Adj Close'][T]\n",
    "print('Initial price:', init_price)\n",
    "print('Final price:', final_price)\n",
    "print('Final price as computed with R_G:', init_price*(1 + R_G)**T)"
   ]
  },
  {
   "cell_type": "markdown",
   "metadata": {},
   "source": [
    "### Harmonic Mean is numerical average. \n",
    "\n",
    "Formula: A set of n numbers, add the reciprocals of the numbers in the set, divide the sum by n, then take the reciprocal of the result."
   ]
  },
  {
   "cell_type": "code",
   "execution_count": 11,
   "metadata": {
    "inputHidden": false,
    "outputHidden": false
   },
   "outputs": [
    {
     "name": "stdout",
     "output_type": "stream",
     "text": [
      "Harmonic mean of returns: 0.0\n"
     ]
    }
   ],
   "source": [
    "# Harmonic mean\n",
    "\n",
    "print('Harmonic mean of returns:', len(returns)/np.sum(1.0/returns))"
   ]
  },
  {
   "cell_type": "code",
   "execution_count": 12,
   "metadata": {
    "inputHidden": false,
    "outputHidden": false
   },
   "outputs": [
    {
     "name": "stdout",
     "output_type": "stream",
     "text": [
      "Skew: -0.0653879996640112\n",
      "Mean: 0.0007357374896169941\n",
      "Median: 0.0006263791159957233\n"
     ]
    },
    {
     "data": {
      "image/png": "[encoded data removed]",
      "text/plain": [
       "<Figure size 432x288 with 1 Axes>"
      ]
     },
     "metadata": {
      "needs_background": "light"
     },
     "output_type": "display_data"
    }
   ],
   "source": [
    "print('Skew:', stats.skew(returns))\n",
    "print('Mean:', np.mean(returns))\n",
    "print('Median:', np.median(returns))\n",
    "\n",
    "plt.hist(returns, 30); "
   ]
  },
  {
   "cell_type": "code",
   "execution_count": 13,
   "metadata": {
    "inputHidden": false,
    "outputHidden": false
   },
   "outputs": [
    {
     "name": "stdout",
     "output_type": "stream",
     "text": [
      "Excess kurtosis of leptokurtic distribution: (array([-0.02196568,  0.00545324, -0.0071519 , ..., -0.00648976,\n",
      "        0.00051242,  0.00966527]), array([2., 2., 2., ..., 2., 2., 2.]))\n",
      "Excess kurtosis of mesokurtic distribution: (array([-0.02196568,  0.00545324, -0.0071519 , ..., -0.00648976,\n",
      "        0.00051242,  0.00966527]), array([1., 1., 1., ..., 1., 1., 1.]))\n",
      "Excess kurtosis of platykurtic distribution: (array([-0.02196568,  0.00545324, -0.0071519 , ..., -0.00648976,\n",
      "        0.00051242,  0.00966527]), array([1.28986813, 1.28986813, 1.28986813, ..., 1.28986813, 1.28986813,\n",
      "       1.28986813]))\n"
     ]
    },
    {
     "data": {
      "text/plain": [
       "<matplotlib.legend.Legend at 0x1a17806450>"
      ]
     },
     "execution_count": 13,
     "metadata": {},
     "output_type": "execute_result"
    },
    {
     "data": {
      "image/png": "[encoded data removed]",
      "text/plain": [
       "<Figure size 432x288 with 1 Axes>"
      ]
     },
     "metadata": {
      "needs_background": "light"
     },
     "output_type": "display_data"
    }
   ],
   "source": [
    "# Plot some example distributions stock's returns\n",
    "xs = np.linspace(-6,6, 1257)\n",
    "normal = stats.norm.pdf(xs)\n",
    "plt.plot(returns,stats.laplace.pdf(returns), label='Leptokurtic')\n",
    "print('Excess kurtosis of leptokurtic distribution:', (stats.laplace.stats(returns)))\n",
    "plt.plot(returns, normal, label='Mesokurtic (normal)')\n",
    "print('Excess kurtosis of mesokurtic distribution:', (stats.norm.stats(returns)))\n",
    "plt.plot(returns,stats.cosine.pdf(returns), label='Platykurtic')\n",
    "print('Excess kurtosis of platykurtic distribution:', (stats.cosine.stats(returns)))\n",
    "plt.legend()"
   ]
  },
  {
   "cell_type": "code",
   "execution_count": 14,
   "metadata": {
    "inputHidden": false,
    "outputHidden": false
   },
   "outputs": [
    {
     "name": "stdout",
     "output_type": "stream",
     "text": [
      "Excess kurtosis of returns:  3.7367550176501236\n"
     ]
    }
   ],
   "source": [
    "print(\"Excess kurtosis of returns: \", stats.kurtosis(returns))"
   ]
  },
  {
   "cell_type": "code",
   "execution_count": 15,
   "metadata": {
    "inputHidden": false,
    "outputHidden": false
   },
   "outputs": [
    {
     "name": "stdout",
     "output_type": "stream",
     "text": [
      "The returns are likely not normal.\n"
     ]
    }
   ],
   "source": [
    "from statsmodels.stats.stattools import jarque_bera\n",
    "\n",
    "_, pvalue, _, _ = jarque_bera(returns)\n",
    "\n",
    "if pvalue > 0.05:\n",
    "    print('The returns are likely normal.')\n",
    "else:\n",
    "    print('The returns are likely not normal.')"
   ]
  }
 ],
 "metadata": {
  "kernel_info": {
   "name": "python3"
  },
  "kernelspec": {
   "display_name": "Python 3",
   "language": "python",
   "name": "python3"
  },
  "language_info": {
   "codemirror_mode": {
    "name": "ipython",
    "version": 3
   },
   "file_extension": ".py",
   "mimetype": "text/x-python",
   "name": "python",
   "nbconvert_exporter": "python",
   "pygments_lexer": "ipython3",
   "version": "3.7.5"
  },
  "nteract": {
   "version": "0.14.3"
  }
 },
 "nbformat": 4,
 "nbformat_minor": 1
}
