{
 "cells": [
  {
   "cell_type": "markdown",
   "metadata": {},
   "source": [
    "# Portfolio Analysis"
   ]
  },
  {
   "cell_type": "code",
   "execution_count": 25,
   "metadata": {
    "inputHidden": false,
    "outputHidden": false
   },
   "outputs": [],
   "source": [
    "import numpy as np\n",
    "import pandas as pd\n",
    "import matplotlib.pyplot as plt\n",
    "import math\n",
    "\n",
    "import warnings\n",
    "warnings.filterwarnings(\"ignore\")\n",
    "\n",
    "# fix_yahoo_finance is used to fetch data \n",
    "import yfinance as yf\n",
    "yf.pdr_override()"
   ]
  },
  {
   "cell_type": "code",
   "execution_count": 26,
   "metadata": {
    "inputHidden": false,
    "outputHidden": false
   },
   "outputs": [
    {
     "name": "stdout",
     "output_type": "stream",
     "text": [
      "[*********************100%***********************]  4 of 4 completed\n"
     ]
    },
    {
     "data": {
      "text/html": [
       "<div>\n",
       "<style scoped>\n",
       "    .dataframe tbody tr th:only-of-type {\n",
       "        vertical-align: middle;\n",
       "    }\n",
       "\n",
       "    .dataframe tbody tr th {\n",
       "        vertical-align: top;\n",
       "    }\n",
       "\n",
       "    .dataframe thead th {\n",
       "        text-align: right;\n",
       "    }\n",
       "</style>\n",
       "<table border=\"1\" class=\"dataframe\">\n",
       "  <thead>\n",
       "    <tr style=\"text-align: right;\">\n",
       "      <th></th>\n",
       "      <th>IIPR</th>\n",
       "      <th>SPXL</th>\n",
       "      <th>TSLA</th>\n",
       "      <th>WMT</th>\n",
       "    </tr>\n",
       "    <tr>\n",
       "      <th>Date</th>\n",
       "      <th></th>\n",
       "      <th></th>\n",
       "      <th></th>\n",
       "      <th></th>\n",
       "    </tr>\n",
       "  </thead>\n",
       "  <tbody>\n",
       "    <tr>\n",
       "      <th>2012-01-03</th>\n",
       "      <td>NaN</td>\n",
       "      <td>5.000786</td>\n",
       "      <td>28.080000</td>\n",
       "      <td>49.254120</td>\n",
       "    </tr>\n",
       "    <tr>\n",
       "      <th>2012-01-04</th>\n",
       "      <td>NaN</td>\n",
       "      <td>5.010229</td>\n",
       "      <td>27.709999</td>\n",
       "      <td>48.747944</td>\n",
       "    </tr>\n",
       "    <tr>\n",
       "      <th>2012-01-05</th>\n",
       "      <td>NaN</td>\n",
       "      <td>5.068470</td>\n",
       "      <td>27.120001</td>\n",
       "      <td>48.511192</td>\n",
       "    </tr>\n",
       "    <tr>\n",
       "      <th>2012-01-06</th>\n",
       "      <td>NaN</td>\n",
       "      <td>5.033841</td>\n",
       "      <td>26.910000</td>\n",
       "      <td>48.168285</td>\n",
       "    </tr>\n",
       "    <tr>\n",
       "      <th>2012-01-09</th>\n",
       "      <td>NaN</td>\n",
       "      <td>5.061387</td>\n",
       "      <td>27.250000</td>\n",
       "      <td>48.315235</td>\n",
       "    </tr>\n",
       "  </tbody>\n",
       "</table>\n",
       "</div>"
      ],
      "text/plain": [
       "            IIPR      SPXL       TSLA        WMT\n",
       "Date                                            \n",
       "2012-01-03   NaN  5.000786  28.080000  49.254120\n",
       "2012-01-04   NaN  5.010229  27.709999  48.747944\n",
       "2012-01-05   NaN  5.068470  27.120001  48.511192\n",
       "2012-01-06   NaN  5.033841  26.910000  48.168285\n",
       "2012-01-09   NaN  5.061387  27.250000  48.315235"
      ]
     },
     "execution_count": 26,
     "metadata": {},
     "output_type": "execute_result"
    }
   ],
   "source": [
    "# input\n",
    "symbols = ['WMT','IIPR','SPXL','TSLA']\n",
    "start = '2012-01-01'\n",
    "end = '2020-03-18'\n",
    "\n",
    "# Read data \n",
    "dataset = yf.download(symbols,start,end)['Adj Close']\n",
    "\n",
    "# View Columns\n",
    "dataset.head()"
   ]
  },
  {
   "cell_type": "code",
   "execution_count": 27,
   "metadata": {
    "inputHidden": false,
    "outputHidden": false
   },
   "outputs": [],
   "source": [
    "# Calculate Daily Returns\n",
    "returns = dataset.pct_change()"
   ]
  },
  {
   "cell_type": "code",
   "execution_count": 28,
   "metadata": {
    "inputHidden": false,
    "outputHidden": false
   },
   "outputs": [],
   "source": [
    "returns = returns.dropna()"
   ]
  },
  {
   "cell_type": "code",
   "execution_count": 29,
   "metadata": {
    "inputHidden": false,
    "outputHidden": false
   },
   "outputs": [
    {
     "data": {
      "text/html": [
       "<div>\n",
       "<style scoped>\n",
       "    .dataframe tbody tr th:only-of-type {\n",
       "        vertical-align: middle;\n",
       "    }\n",
       "\n",
       "    .dataframe tbody tr th {\n",
       "        vertical-align: top;\n",
       "    }\n",
       "\n",
       "    .dataframe thead th {\n",
       "        text-align: right;\n",
       "    }\n",
       "</style>\n",
       "<table border=\"1\" class=\"dataframe\">\n",
       "  <thead>\n",
       "    <tr style=\"text-align: right;\">\n",
       "      <th></th>\n",
       "      <th>IIPR</th>\n",
       "      <th>SPXL</th>\n",
       "      <th>TSLA</th>\n",
       "      <th>WMT</th>\n",
       "    </tr>\n",
       "    <tr>\n",
       "      <th>Date</th>\n",
       "      <th></th>\n",
       "      <th></th>\n",
       "      <th></th>\n",
       "      <th></th>\n",
       "    </tr>\n",
       "  </thead>\n",
       "  <tbody>\n",
       "    <tr>\n",
       "      <th>2016-12-02</th>\n",
       "      <td>-0.036553</td>\n",
       "      <td>0.001093</td>\n",
       "      <td>-0.002254</td>\n",
       "      <td>0.002972</td>\n",
       "    </tr>\n",
       "    <tr>\n",
       "      <th>2016-12-05</th>\n",
       "      <td>0.000000</td>\n",
       "      <td>0.017276</td>\n",
       "      <td>0.029371</td>\n",
       "      <td>-0.013262</td>\n",
       "    </tr>\n",
       "    <tr>\n",
       "      <th>2016-12-06</th>\n",
       "      <td>-0.097561</td>\n",
       "      <td>0.010150</td>\n",
       "      <td>-0.005086</td>\n",
       "      <td>0.006005</td>\n",
       "    </tr>\n",
       "    <tr>\n",
       "      <th>2016-12-07</th>\n",
       "      <td>0.014414</td>\n",
       "      <td>0.039130</td>\n",
       "      <td>0.039279</td>\n",
       "      <td>0.010593</td>\n",
       "    </tr>\n",
       "    <tr>\n",
       "      <th>2016-12-08</th>\n",
       "      <td>0.018354</td>\n",
       "      <td>0.007996</td>\n",
       "      <td>-0.004453</td>\n",
       "      <td>-0.003683</td>\n",
       "    </tr>\n",
       "  </tbody>\n",
       "</table>\n",
       "</div>"
      ],
      "text/plain": [
       "                IIPR      SPXL      TSLA       WMT\n",
       "Date                                              \n",
       "2016-12-02 -0.036553  0.001093 -0.002254  0.002972\n",
       "2016-12-05  0.000000  0.017276  0.029371 -0.013262\n",
       "2016-12-06 -0.097561  0.010150 -0.005086  0.006005\n",
       "2016-12-07  0.014414  0.039130  0.039279  0.010593\n",
       "2016-12-08  0.018354  0.007996 -0.004453 -0.003683"
      ]
     },
     "execution_count": 29,
     "metadata": {},
     "output_type": "execute_result"
    }
   ],
   "source": [
    "returns.head()"
   ]
  },
  {
   "cell_type": "code",
   "execution_count": 30,
   "metadata": {
    "inputHidden": false,
    "outputHidden": false
   },
   "outputs": [
    {
     "name": "stdout",
     "output_type": "stream",
     "text": [
      "IIPR    0.002047\n",
      "SPXL    0.000722\n",
      "TSLA    0.001626\n",
      "WMT     0.000824\n",
      "dtype: float64\n"
     ]
    }
   ],
   "source": [
    "# Calculate mean returns\n",
    "meanDailyReturns = returns.mean()\n",
    "print(meanDailyReturns)"
   ]
  },
  {
   "cell_type": "code",
   "execution_count": 31,
   "metadata": {
    "inputHidden": false,
    "outputHidden": false
   },
   "outputs": [
    {
     "name": "stdout",
     "output_type": "stream",
     "text": [
      "IIPR    0.033679\n",
      "SPXL    0.033748\n",
      "TSLA    0.034172\n",
      "WMT     0.014054\n",
      "dtype: float64\n"
     ]
    }
   ],
   "source": [
    "# Calculate std returns\n",
    "stdDailyReturns = returns.std()\n",
    "print(stdDailyReturns)"
   ]
  },
  {
   "cell_type": "code",
   "execution_count": 32,
   "metadata": {
    "inputHidden": false,
    "outputHidden": false
   },
   "outputs": [],
   "source": [
    "# Define weights for the portfolio\n",
    "weights = np.array([0.5, 0.2, 0.2, 0.1])"
   ]
  },
  {
   "cell_type": "code",
   "execution_count": 33,
   "metadata": {
    "inputHidden": false,
    "outputHidden": false
   },
   "outputs": [
    {
     "name": "stdout",
     "output_type": "stream",
     "text": [
      "          IIPR      SPXL      TSLA       WMT\n",
      "IIPR  0.283570  0.094077  0.055960  0.021649\n",
      "SPXL  0.094077  0.284730  0.116854  0.066748\n",
      "TSLA  0.055960  0.116854  0.291932  0.021428\n",
      "WMT   0.021649  0.066748  0.021428  0.049378\n"
     ]
    }
   ],
   "source": [
    "# Calculate the covariance matrix on daily returns\n",
    "cov_matrix = (returns.cov())*250\n",
    "print (cov_matrix)"
   ]
  },
  {
   "cell_type": "code",
   "execution_count": 34,
   "metadata": {
    "inputHidden": false,
    "outputHidden": false
   },
   "outputs": [],
   "source": [
    "# Calculate expected portfolio performance\n",
    "portReturn = np.sum(meanDailyReturns*weights)"
   ]
  },
  {
   "cell_type": "code",
   "execution_count": 35,
   "metadata": {
    "inputHidden": false,
    "outputHidden": false
   },
   "outputs": [
    {
     "name": "stdout",
     "output_type": "stream",
     "text": [
      "0.0015756104878705587\n"
     ]
    }
   ],
   "source": [
    "# Print the portfolio return\n",
    "print(portReturn)"
   ]
  },
  {
   "cell_type": "code",
   "execution_count": 36,
   "metadata": {
    "inputHidden": false,
    "outputHidden": false
   },
   "outputs": [],
   "source": [
    "# Create portfolio returns column\n",
    "returns['Portfolio'] = returns.dot(weights)"
   ]
  },
  {
   "cell_type": "code",
   "execution_count": 37,
   "metadata": {
    "inputHidden": false,
    "outputHidden": false
   },
   "outputs": [
    {
     "data": {
      "text/html": [
       "<div>\n",
       "<style scoped>\n",
       "    .dataframe tbody tr th:only-of-type {\n",
       "        vertical-align: middle;\n",
       "    }\n",
       "\n",
       "    .dataframe tbody tr th {\n",
       "        vertical-align: top;\n",
       "    }\n",
       "\n",
       "    .dataframe thead th {\n",
       "        text-align: right;\n",
       "    }\n",
       "</style>\n",
       "<table border=\"1\" class=\"dataframe\">\n",
       "  <thead>\n",
       "    <tr style=\"text-align: right;\">\n",
       "      <th></th>\n",
       "      <th>IIPR</th>\n",
       "      <th>SPXL</th>\n",
       "      <th>TSLA</th>\n",
       "      <th>WMT</th>\n",
       "      <th>Portfolio</th>\n",
       "    </tr>\n",
       "    <tr>\n",
       "      <th>Date</th>\n",
       "      <th></th>\n",
       "      <th></th>\n",
       "      <th></th>\n",
       "      <th></th>\n",
       "      <th></th>\n",
       "    </tr>\n",
       "  </thead>\n",
       "  <tbody>\n",
       "    <tr>\n",
       "      <th>2016-12-02</th>\n",
       "      <td>-0.036553</td>\n",
       "      <td>0.001093</td>\n",
       "      <td>-0.002254</td>\n",
       "      <td>0.002972</td>\n",
       "      <td>-0.018212</td>\n",
       "    </tr>\n",
       "    <tr>\n",
       "      <th>2016-12-05</th>\n",
       "      <td>0.000000</td>\n",
       "      <td>0.017276</td>\n",
       "      <td>0.029371</td>\n",
       "      <td>-0.013262</td>\n",
       "      <td>0.008003</td>\n",
       "    </tr>\n",
       "    <tr>\n",
       "      <th>2016-12-06</th>\n",
       "      <td>-0.097561</td>\n",
       "      <td>0.010150</td>\n",
       "      <td>-0.005086</td>\n",
       "      <td>0.006005</td>\n",
       "      <td>-0.047167</td>\n",
       "    </tr>\n",
       "    <tr>\n",
       "      <th>2016-12-07</th>\n",
       "      <td>0.014414</td>\n",
       "      <td>0.039130</td>\n",
       "      <td>0.039279</td>\n",
       "      <td>0.010593</td>\n",
       "      <td>0.023948</td>\n",
       "    </tr>\n",
       "    <tr>\n",
       "      <th>2016-12-08</th>\n",
       "      <td>0.018354</td>\n",
       "      <td>0.007996</td>\n",
       "      <td>-0.004453</td>\n",
       "      <td>-0.003683</td>\n",
       "      <td>0.009518</td>\n",
       "    </tr>\n",
       "  </tbody>\n",
       "</table>\n",
       "</div>"
      ],
      "text/plain": [
       "                IIPR      SPXL      TSLA       WMT  Portfolio\n",
       "Date                                                         \n",
       "2016-12-02 -0.036553  0.001093 -0.002254  0.002972  -0.018212\n",
       "2016-12-05  0.000000  0.017276  0.029371 -0.013262   0.008003\n",
       "2016-12-06 -0.097561  0.010150 -0.005086  0.006005  -0.047167\n",
       "2016-12-07  0.014414  0.039130  0.039279  0.010593   0.023948\n",
       "2016-12-08  0.018354  0.007996 -0.004453 -0.003683   0.009518"
      ]
     },
     "execution_count": 37,
     "metadata": {},
     "output_type": "execute_result"
    }
   ],
   "source": [
    "returns.head()"
   ]
  },
  {
   "cell_type": "code",
   "execution_count": 38,
   "metadata": {
    "inputHidden": false,
    "outputHidden": false
   },
   "outputs": [
    {
     "name": "stdout",
     "output_type": "stream",
     "text": [
      "                IIPR      SPXL      TSLA       WMT  Portfolio\n",
      "Date                                                         \n",
      "2020-03-11  4.394462  1.582410  3.487079  1.747357   3.781166\n",
      "2020-03-12  3.750939  1.128609  3.081977  1.588853   3.165286\n",
      "2020-03-13  4.084406  1.432967  3.005388  1.742318   3.491548\n",
      "2020-03-16  3.248453  0.947594  2.447053  1.630235   2.745519\n",
      "2020-03-17  3.368935  1.102509  2.365296  1.821112   2.900003\n"
     ]
    }
   ],
   "source": [
    "# Calculate cumulative returns\n",
    "daily_cum_ret=(1+returns).cumprod()\n",
    "print(daily_cum_ret.tail())"
   ]
  },
  {
   "cell_type": "code",
   "execution_count": 39,
   "metadata": {
    "inputHidden": false,
    "outputHidden": false
   },
   "outputs": [
    {
     "data": {
      "image/png": "[encoded data removed]",
      "text/plain": [
       "<Figure size 432x288 with 1 Axes>"
      ]
     },
     "metadata": {
      "needs_background": "light"
     },
     "output_type": "display_data"
    }
   ],
   "source": [
    "returns['Portfolio'].hist()\n",
    "plt.show()"
   ]
  },
  {
   "cell_type": "code",
   "execution_count": 40,
   "metadata": {
    "inputHidden": false,
    "outputHidden": false
   },
   "outputs": [
    {
     "data": {
      "image/png": "[encoded data removed]",
      "text/plain": [
       "<Figure size 432x288 with 1 Axes>"
      ]
     },
     "metadata": {
      "needs_background": "light"
     },
     "output_type": "display_data"
    }
   ],
   "source": [
    "import matplotlib.dates\n",
    "\n",
    "# Plot the portfolio cumulative returns only\n",
    "fig, ax = plt.subplots()\n",
    "ax.plot(daily_cum_ret.index, daily_cum_ret.Portfolio, color='purple', label=\"portfolio\")\n",
    "ax.xaxis.set_major_locator(matplotlib.dates.YearLocator())\n",
    "plt.legend()\n",
    "plt.show()"
   ]
  },
  {
   "cell_type": "code",
   "execution_count": 41,
   "metadata": {
    "inputHidden": false,
    "outputHidden": false
   },
   "outputs": [
    {
     "name": "stdout",
     "output_type": "stream",
     "text": [
      "mean :  0.1575610487870556\n",
      "Std. dev:  2.3622054442349256\n",
      "skew:  -1.4188385687958558\n",
      "kurt:  12.976745456386688\n"
     ]
    }
   ],
   "source": [
    "# Print the mean\n",
    "print(\"mean : \", returns['Portfolio'].mean()*100)\n",
    "\n",
    "# Print the standard deviation\n",
    "print(\"Std. dev: \", returns['Portfolio'].std()*100)\n",
    "\n",
    "# Print the skewness\n",
    "print(\"skew: \", returns['Portfolio'].skew())\n",
    "\n",
    "# Print the kurtosis\n",
    "print(\"kurt: \", returns['Portfolio'].kurtosis())"
   ]
  },
  {
   "cell_type": "code",
   "execution_count": 42,
   "metadata": {
    "inputHidden": false,
    "outputHidden": false
   },
   "outputs": [
    {
     "name": "stdout",
     "output_type": "stream",
     "text": [
      "37.35%\n"
     ]
    }
   ],
   "source": [
    "# Calculate the standard deviation by taking the square root\n",
    "port_standard_dev = np.sqrt(np.dot(weights.T, np.dot(weights, cov_matrix)))\n",
    "\n",
    "# Print the results \n",
    "print(str(np.round(port_standard_dev, 4) * 100) + '%')"
   ]
  },
  {
   "cell_type": "code",
   "execution_count": 43,
   "metadata": {
    "inputHidden": false,
    "outputHidden": false
   },
   "outputs": [
    {
     "name": "stdout",
     "output_type": "stream",
     "text": [
      "13.950000000000001%\n"
     ]
    }
   ],
   "source": [
    "# Calculate the portfolio variance\n",
    "port_variance = np.dot(weights.T, np.dot(cov_matrix, weights))\n",
    "\n",
    "# Print the result\n",
    "print(str(np.round(port_variance, 4) * 100) + '%')"
   ]
  },
  {
   "cell_type": "code",
   "execution_count": 49,
   "metadata": {
    "inputHidden": false,
    "outputHidden": false
   },
   "outputs": [
    {
     "name": "stdout",
     "output_type": "stream",
     "text": [
      "-4.0896251203293525 nan\n"
     ]
    }
   ],
   "source": [
    "# Calculate total return and annualized return from price data \n",
    "total_return = (returns['Portfolio'][-1] - returns['Portfolio'][0]) / returns['Portfolio'][0]\n",
    "\n",
    "# Annualize the total return over 6 year \n",
    "annualized_return = ((total_return + 1)**(1/6))-1"
   ]
  },
  {
   "cell_type": "code",
   "execution_count": 50,
   "metadata": {
    "inputHidden": false,
    "outputHidden": false
   },
   "outputs": [
    {
     "name": "stdout",
     "output_type": "stream",
     "text": [
      "0.3734974752516114\n"
     ]
    }
   ],
   "source": [
    "# Calculate annualized volatility from the standard deviation\n",
    "vol_port = returns['Portfolio'].std() * np.sqrt(250)\n"
   ]
  },
  {
   "cell_type": "code",
   "execution_count": 46,
   "metadata": {
    "inputHidden": false,
    "outputHidden": false
   },
   "outputs": [
    {
     "name": "stdout",
     "output_type": "stream",
     "text": [
      "nan\n"
     ]
    }
   ],
   "source": [
    "# Calculate the Sharpe ratio \n",
    "rf = 0.01\n",
    "sharpe_ratio = ((annualized_return - rf) / vol_port)\n",
    "print (sharpe_ratio)"
   ]
  },
  {
   "cell_type": "markdown",
   "metadata": {},
   "source": [
    "If the analysis results in a negative Sharpe ratio, it either means the risk-free rate is greater than the portfolio's return, or the portfolio's return is expected to be negative. "
   ]
  },
  {
   "cell_type": "code",
   "execution_count": 47,
   "metadata": {
    "inputHidden": false,
    "outputHidden": false
   },
   "outputs": [
    {
     "name": "stdout",
     "output_type": "stream",
     "text": [
      "Expected return:  0.1575610487870556\n",
      "--------------------------------------------------\n",
      "Downside risk:\n",
      "IIPR         2.870364\n",
      "SPXL         3.774991\n",
      "TSLA         3.135736\n",
      "WMT          1.267210\n",
      "Portfolio    2.023106\n",
      "dtype: float64\n",
      "--------------------------------------------------\n",
      "Sortino ratio:\n",
      "IIPR        -0.293496\n",
      "SPXL        -0.223163\n",
      "TSLA        -0.268658\n",
      "WMT         -0.664798\n",
      "Portfolio   -0.416409\n",
      "dtype: float64\n"
     ]
    }
   ],
   "source": [
    "# Create a downside return column with the negative returns only\n",
    "target = 0\n",
    "downside_returns = returns.loc[returns['Portfolio'] < target]\n",
    "\n",
    "# Calculate expected return and std dev of downside\n",
    "expected_return = returns['Portfolio'].mean()\n",
    "down_stdev = downside_returns.std()\n",
    "\n",
    "# Calculate the sortino ratio\n",
    "rf = 0.01\n",
    "sortino_ratio = (expected_return - rf)/down_stdev\n",
    "\n",
    "# Print the results\n",
    "print(\"Expected return: \", expected_return*100)\n",
    "print('-' * 50)\n",
    "print(\"Downside risk:\")\n",
    "print(down_stdev*100)\n",
    "print('-' * 50)\n",
    "print(\"Sortino ratio:\")\n",
    "print(sortino_ratio)"
   ]
  },
  {
   "cell_type": "code",
   "execution_count": 48,
   "metadata": {
    "inputHidden": false,
    "outputHidden": false
   },
   "outputs": [
    {
     "data": {
      "image/png": "[encoded data removed]",
      "text/plain": [
       "<Figure size 1080x1080 with 1 Axes>"
      ]
     },
     "metadata": {
      "needs_background": "light"
     },
     "output_type": "display_data"
    }
   ],
   "source": [
    "# Calculate the max value \n",
    "roll_max = returns['Portfolio'].rolling(center=False,min_periods=1,window=252).max()\n",
    "\n",
    "# Calculate the daily draw-down relative to the max\n",
    "daily_draw_down = returns['Portfolio']/roll_max - 1.0\n",
    "\n",
    "# Calculate the minimum (negative) daily draw-down\n",
    "max_daily_draw_down = daily_draw_down.rolling(center=False,min_periods=1,window=252).min()\n",
    "\n",
    "# Plot the results\n",
    "plt.figure(figsize=(15,15))\n",
    "plt.plot(returns.index, daily_draw_down, label='Daily drawdown')\n",
    "plt.plot(returns.index, max_daily_draw_down, label='Maximum daily drawdown in time-window')\n",
    "plt.legend()\n",
    "plt.show()"
   ]
  }
 ],
 "metadata": {
  "kernel_info": {
   "name": "python3"
  },
  "kernelspec": {
   "display_name": "Python 3",
   "language": "python",
   "name": "python3"
  },
  "language_info": {
   "codemirror_mode": {
    "name": "ipython",
    "version": 3
   },
   "file_extension": ".py",
   "mimetype": "text/x-python",
   "name": "python",
   "nbconvert_exporter": "python",
   "pygments_lexer": "ipython3",
   "version": "3.7.5"
  },
  "nteract": {
   "version": "0.15.0"
  }
 },
 "nbformat": 4,
 "nbformat_minor": 1
}
